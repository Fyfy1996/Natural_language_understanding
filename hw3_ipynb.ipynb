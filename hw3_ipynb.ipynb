{
  "nbformat": 4,
  "nbformat_minor": 0,
  "metadata": {
    "kernelspec": {
      "display_name": "Python 3",
      "language": "python",
      "name": "python3"
    },
    "language_info": {
      "codemirror_mode": {
        "name": "ipython",
        "version": 3
      },
      "file_extension": ".py",
      "mimetype": "text/x-python",
      "name": "python",
      "nbconvert_exporter": "python",
      "pygments_lexer": "ipython3",
      "version": "3.7.3"
    },
    "colab": {
      "name": "“hw3.ipynb”的副本",
      "provenance": [],
      "collapsed_sections": [],
      "include_colab_link": true
    },
    "widgets": {
      "application/vnd.jupyter.widget-state+json": {
        "b6cd5e0f1ecb40788612948d5dcb61eb": {
          "model_module": "@jupyter-widgets/controls",
          "model_name": "HBoxModel",
          "state": {
            "_view_name": "HBoxView",
            "_dom_classes": [],
            "_model_name": "HBoxModel",
            "_view_module": "@jupyter-widgets/controls",
            "_model_module_version": "1.5.0",
            "_view_count": null,
            "_view_module_version": "1.5.0",
            "box_style": "",
            "layout": "IPY_MODEL_8f853349dacb48729dfd9769740ea6aa",
            "_model_module": "@jupyter-widgets/controls",
            "children": [
              "IPY_MODEL_2dcd270d67ce4db58b5403f6b9ae947e",
              "IPY_MODEL_78a04b9a80b248478fd4d28358975da2"
            ]
          }
        },
        "8f853349dacb48729dfd9769740ea6aa": {
          "model_module": "@jupyter-widgets/base",
          "model_name": "LayoutModel",
          "state": {
            "_view_name": "LayoutView",
            "grid_template_rows": null,
            "right": null,
            "justify_content": null,
            "_view_module": "@jupyter-widgets/base",
            "overflow": null,
            "_model_module_version": "1.2.0",
            "_view_count": null,
            "flex_flow": null,
            "width": null,
            "min_width": null,
            "border": null,
            "align_items": null,
            "bottom": null,
            "_model_module": "@jupyter-widgets/base",
            "top": null,
            "grid_column": null,
            "overflow_y": null,
            "overflow_x": null,
            "grid_auto_flow": null,
            "grid_area": null,
            "grid_template_columns": null,
            "flex": null,
            "_model_name": "LayoutModel",
            "justify_items": null,
            "grid_row": null,
            "max_height": null,
            "align_content": null,
            "visibility": null,
            "align_self": null,
            "height": null,
            "min_height": null,
            "padding": null,
            "grid_auto_rows": null,
            "grid_gap": null,
            "max_width": null,
            "order": null,
            "_view_module_version": "1.2.0",
            "grid_template_areas": null,
            "object_position": null,
            "object_fit": null,
            "grid_auto_columns": null,
            "margin": null,
            "display": null,
            "left": null
          }
        },
        "2dcd270d67ce4db58b5403f6b9ae947e": {
          "model_module": "@jupyter-widgets/controls",
          "model_name": "IntProgressModel",
          "state": {
            "_view_name": "ProgressView",
            "style": "IPY_MODEL_1e61d26ac6234dceba0f4e5dbb6aee66",
            "_dom_classes": [],
            "description": "",
            "_model_name": "IntProgressModel",
            "bar_style": "success",
            "max": 11855,
            "_view_module": "@jupyter-widgets/controls",
            "_model_module_version": "1.5.0",
            "value": 11855,
            "_view_count": null,
            "_view_module_version": "1.5.0",
            "orientation": "horizontal",
            "min": 0,
            "description_tooltip": null,
            "_model_module": "@jupyter-widgets/controls",
            "layout": "IPY_MODEL_326c79c250024c7f8507a0b01858f9d8"
          }
        },
        "78a04b9a80b248478fd4d28358975da2": {
          "model_module": "@jupyter-widgets/controls",
          "model_name": "HTMLModel",
          "state": {
            "_view_name": "HTMLView",
            "style": "IPY_MODEL_30eceede0ee64a58b2929aeff34675f1",
            "_dom_classes": [],
            "description": "",
            "_model_name": "HTMLModel",
            "placeholder": "​",
            "_view_module": "@jupyter-widgets/controls",
            "_model_module_version": "1.5.0",
            "value": "100% 11855/11855 [00:01&lt;00:00, 6445.23it/s]",
            "_view_count": null,
            "_view_module_version": "1.5.0",
            "description_tooltip": null,
            "_model_module": "@jupyter-widgets/controls",
            "layout": "IPY_MODEL_1deed71adcfb4708b4cf31321c8ac5ca"
          }
        },
        "1e61d26ac6234dceba0f4e5dbb6aee66": {
          "model_module": "@jupyter-widgets/controls",
          "model_name": "ProgressStyleModel",
          "state": {
            "_view_name": "StyleView",
            "_model_name": "ProgressStyleModel",
            "description_width": "",
            "_view_module": "@jupyter-widgets/base",
            "_model_module_version": "1.5.0",
            "_view_count": null,
            "_view_module_version": "1.2.0",
            "bar_color": null,
            "_model_module": "@jupyter-widgets/controls"
          }
        },
        "326c79c250024c7f8507a0b01858f9d8": {
          "model_module": "@jupyter-widgets/base",
          "model_name": "LayoutModel",
          "state": {
            "_view_name": "LayoutView",
            "grid_template_rows": null,
            "right": null,
            "justify_content": null,
            "_view_module": "@jupyter-widgets/base",
            "overflow": null,
            "_model_module_version": "1.2.0",
            "_view_count": null,
            "flex_flow": null,
            "width": null,
            "min_width": null,
            "border": null,
            "align_items": null,
            "bottom": null,
            "_model_module": "@jupyter-widgets/base",
            "top": null,
            "grid_column": null,
            "overflow_y": null,
            "overflow_x": null,
            "grid_auto_flow": null,
            "grid_area": null,
            "grid_template_columns": null,
            "flex": null,
            "_model_name": "LayoutModel",
            "justify_items": null,
            "grid_row": null,
            "max_height": null,
            "align_content": null,
            "visibility": null,
            "align_self": null,
            "height": null,
            "min_height": null,
            "padding": null,
            "grid_auto_rows": null,
            "grid_gap": null,
            "max_width": null,
            "order": null,
            "_view_module_version": "1.2.0",
            "grid_template_areas": null,
            "object_position": null,
            "object_fit": null,
            "grid_auto_columns": null,
            "margin": null,
            "display": null,
            "left": null
          }
        },
        "30eceede0ee64a58b2929aeff34675f1": {
          "model_module": "@jupyter-widgets/controls",
          "model_name": "DescriptionStyleModel",
          "state": {
            "_view_name": "StyleView",
            "_model_name": "DescriptionStyleModel",
            "description_width": "",
            "_view_module": "@jupyter-widgets/base",
            "_model_module_version": "1.5.0",
            "_view_count": null,
            "_view_module_version": "1.2.0",
            "_model_module": "@jupyter-widgets/controls"
          }
        },
        "1deed71adcfb4708b4cf31321c8ac5ca": {
          "model_module": "@jupyter-widgets/base",
          "model_name": "LayoutModel",
          "state": {
            "_view_name": "LayoutView",
            "grid_template_rows": null,
            "right": null,
            "justify_content": null,
            "_view_module": "@jupyter-widgets/base",
            "overflow": null,
            "_model_module_version": "1.2.0",
            "_view_count": null,
            "flex_flow": null,
            "width": null,
            "min_width": null,
            "border": null,
            "align_items": null,
            "bottom": null,
            "_model_module": "@jupyter-widgets/base",
            "top": null,
            "grid_column": null,
            "overflow_y": null,
            "overflow_x": null,
            "grid_auto_flow": null,
            "grid_area": null,
            "grid_template_columns": null,
            "flex": null,
            "_model_name": "LayoutModel",
            "justify_items": null,
            "grid_row": null,
            "max_height": null,
            "align_content": null,
            "visibility": null,
            "align_self": null,
            "height": null,
            "min_height": null,
            "padding": null,
            "grid_auto_rows": null,
            "grid_gap": null,
            "max_width": null,
            "order": null,
            "_view_module_version": "1.2.0",
            "grid_template_areas": null,
            "object_position": null,
            "object_fit": null,
            "grid_auto_columns": null,
            "margin": null,
            "display": null,
            "left": null
          }
        },
        "62c08b68e57a4b27854729effec3e5ac": {
          "model_module": "@jupyter-widgets/controls",
          "model_name": "HBoxModel",
          "state": {
            "_view_name": "HBoxView",
            "_dom_classes": [],
            "_model_name": "HBoxModel",
            "_view_module": "@jupyter-widgets/controls",
            "_model_module_version": "1.5.0",
            "_view_count": null,
            "_view_module_version": "1.5.0",
            "box_style": "",
            "layout": "IPY_MODEL_a84b6505b7264cb1b94e0c5cc29ba72b",
            "_model_module": "@jupyter-widgets/controls",
            "children": [
              "IPY_MODEL_4688511d52e844b496724997de7161a9",
              "IPY_MODEL_62b79de09d6c4ce38e47f4ba7a6f9ba9"
            ]
          }
        },
        "a84b6505b7264cb1b94e0c5cc29ba72b": {
          "model_module": "@jupyter-widgets/base",
          "model_name": "LayoutModel",
          "state": {
            "_view_name": "LayoutView",
            "grid_template_rows": null,
            "right": null,
            "justify_content": null,
            "_view_module": "@jupyter-widgets/base",
            "overflow": null,
            "_model_module_version": "1.2.0",
            "_view_count": null,
            "flex_flow": null,
            "width": null,
            "min_width": null,
            "border": null,
            "align_items": null,
            "bottom": null,
            "_model_module": "@jupyter-widgets/base",
            "top": null,
            "grid_column": null,
            "overflow_y": null,
            "overflow_x": null,
            "grid_auto_flow": null,
            "grid_area": null,
            "grid_template_columns": null,
            "flex": null,
            "_model_name": "LayoutModel",
            "justify_items": null,
            "grid_row": null,
            "max_height": null,
            "align_content": null,
            "visibility": null,
            "align_self": null,
            "height": null,
            "min_height": null,
            "padding": null,
            "grid_auto_rows": null,
            "grid_gap": null,
            "max_width": null,
            "order": null,
            "_view_module_version": "1.2.0",
            "grid_template_areas": null,
            "object_position": null,
            "object_fit": null,
            "grid_auto_columns": null,
            "margin": null,
            "display": null,
            "left": null
          }
        },
        "4688511d52e844b496724997de7161a9": {
          "model_module": "@jupyter-widgets/controls",
          "model_name": "IntProgressModel",
          "state": {
            "_view_name": "ProgressView",
            "style": "IPY_MODEL_c36f852d427c47679e9e085709c48c4c",
            "_dom_classes": [],
            "description": "",
            "_model_name": "IntProgressModel",
            "bar_style": "success",
            "max": 10000,
            "_view_module": "@jupyter-widgets/controls",
            "_model_module_version": "1.5.0",
            "value": 10000,
            "_view_count": null,
            "_view_module_version": "1.5.0",
            "orientation": "horizontal",
            "min": 0,
            "description_tooltip": null,
            "_model_module": "@jupyter-widgets/controls",
            "layout": "IPY_MODEL_de6260c14ee8437d8a1141af37960d06"
          }
        },
        "62b79de09d6c4ce38e47f4ba7a6f9ba9": {
          "model_module": "@jupyter-widgets/controls",
          "model_name": "HTMLModel",
          "state": {
            "_view_name": "HTMLView",
            "style": "IPY_MODEL_4adfb6f9c34b49b3bd7d91caa32d8cd2",
            "_dom_classes": [],
            "description": "",
            "_model_name": "HTMLModel",
            "placeholder": "​",
            "_view_module": "@jupyter-widgets/controls",
            "_model_module_version": "1.5.0",
            "value": "100% 10000/10000 [01:40&lt;00:00, 99.71it/s]",
            "_view_count": null,
            "_view_module_version": "1.5.0",
            "description_tooltip": null,
            "_model_module": "@jupyter-widgets/controls",
            "layout": "IPY_MODEL_6232b1ccc072407ea2bdbf1664b3bd23"
          }
        },
        "c36f852d427c47679e9e085709c48c4c": {
          "model_module": "@jupyter-widgets/controls",
          "model_name": "ProgressStyleModel",
          "state": {
            "_view_name": "StyleView",
            "_model_name": "ProgressStyleModel",
            "description_width": "",
            "_view_module": "@jupyter-widgets/base",
            "_model_module_version": "1.5.0",
            "_view_count": null,
            "_view_module_version": "1.2.0",
            "bar_color": null,
            "_model_module": "@jupyter-widgets/controls"
          }
        },
        "de6260c14ee8437d8a1141af37960d06": {
          "model_module": "@jupyter-widgets/base",
          "model_name": "LayoutModel",
          "state": {
            "_view_name": "LayoutView",
            "grid_template_rows": null,
            "right": null,
            "justify_content": null,
            "_view_module": "@jupyter-widgets/base",
            "overflow": null,
            "_model_module_version": "1.2.0",
            "_view_count": null,
            "flex_flow": null,
            "width": null,
            "min_width": null,
            "border": null,
            "align_items": null,
            "bottom": null,
            "_model_module": "@jupyter-widgets/base",
            "top": null,
            "grid_column": null,
            "overflow_y": null,
            "overflow_x": null,
            "grid_auto_flow": null,
            "grid_area": null,
            "grid_template_columns": null,
            "flex": null,
            "_model_name": "LayoutModel",
            "justify_items": null,
            "grid_row": null,
            "max_height": null,
            "align_content": null,
            "visibility": null,
            "align_self": null,
            "height": null,
            "min_height": null,
            "padding": null,
            "grid_auto_rows": null,
            "grid_gap": null,
            "max_width": null,
            "order": null,
            "_view_module_version": "1.2.0",
            "grid_template_areas": null,
            "object_position": null,
            "object_fit": null,
            "grid_auto_columns": null,
            "margin": null,
            "display": null,
            "left": null
          }
        },
        "4adfb6f9c34b49b3bd7d91caa32d8cd2": {
          "model_module": "@jupyter-widgets/controls",
          "model_name": "DescriptionStyleModel",
          "state": {
            "_view_name": "StyleView",
            "_model_name": "DescriptionStyleModel",
            "description_width": "",
            "_view_module": "@jupyter-widgets/base",
            "_model_module_version": "1.5.0",
            "_view_count": null,
            "_view_module_version": "1.2.0",
            "_model_module": "@jupyter-widgets/controls"
          }
        },
        "6232b1ccc072407ea2bdbf1664b3bd23": {
          "model_module": "@jupyter-widgets/base",
          "model_name": "LayoutModel",
          "state": {
            "_view_name": "LayoutView",
            "grid_template_rows": null,
            "right": null,
            "justify_content": null,
            "_view_module": "@jupyter-widgets/base",
            "overflow": null,
            "_model_module_version": "1.2.0",
            "_view_count": null,
            "flex_flow": null,
            "width": null,
            "min_width": null,
            "border": null,
            "align_items": null,
            "bottom": null,
            "_model_module": "@jupyter-widgets/base",
            "top": null,
            "grid_column": null,
            "overflow_y": null,
            "overflow_x": null,
            "grid_auto_flow": null,
            "grid_area": null,
            "grid_template_columns": null,
            "flex": null,
            "_model_name": "LayoutModel",
            "justify_items": null,
            "grid_row": null,
            "max_height": null,
            "align_content": null,
            "visibility": null,
            "align_self": null,
            "height": null,
            "min_height": null,
            "padding": null,
            "grid_auto_rows": null,
            "grid_gap": null,
            "max_width": null,
            "order": null,
            "_view_module_version": "1.2.0",
            "grid_template_areas": null,
            "object_position": null,
            "object_fit": null,
            "grid_auto_columns": null,
            "margin": null,
            "display": null,
            "left": null
          }
        },
        "75badea0837e492a90d56c1b65eb165c": {
          "model_module": "@jupyter-widgets/controls",
          "model_name": "HBoxModel",
          "state": {
            "_view_name": "HBoxView",
            "_dom_classes": [],
            "_model_name": "HBoxModel",
            "_view_module": "@jupyter-widgets/controls",
            "_model_module_version": "1.5.0",
            "_view_count": null,
            "_view_module_version": "1.5.0",
            "box_style": "",
            "layout": "IPY_MODEL_c522779cb2df464aa690b4b59a4c9fd2",
            "_model_module": "@jupyter-widgets/controls",
            "children": [
              "IPY_MODEL_9c12fe4eca134186b2bd73f0e0ab70bc",
              "IPY_MODEL_47a4a3d7b1d249e5822c118cecf0432e"
            ]
          }
        },
        "c522779cb2df464aa690b4b59a4c9fd2": {
          "model_module": "@jupyter-widgets/base",
          "model_name": "LayoutModel",
          "state": {
            "_view_name": "LayoutView",
            "grid_template_rows": null,
            "right": null,
            "justify_content": null,
            "_view_module": "@jupyter-widgets/base",
            "overflow": null,
            "_model_module_version": "1.2.0",
            "_view_count": null,
            "flex_flow": null,
            "width": null,
            "min_width": null,
            "border": null,
            "align_items": null,
            "bottom": null,
            "_model_module": "@jupyter-widgets/base",
            "top": null,
            "grid_column": null,
            "overflow_y": null,
            "overflow_x": null,
            "grid_auto_flow": null,
            "grid_area": null,
            "grid_template_columns": null,
            "flex": null,
            "_model_name": "LayoutModel",
            "justify_items": null,
            "grid_row": null,
            "max_height": null,
            "align_content": null,
            "visibility": null,
            "align_self": null,
            "height": null,
            "min_height": null,
            "padding": null,
            "grid_auto_rows": null,
            "grid_gap": null,
            "max_width": null,
            "order": null,
            "_view_module_version": "1.2.0",
            "grid_template_areas": null,
            "object_position": null,
            "object_fit": null,
            "grid_auto_columns": null,
            "margin": null,
            "display": null,
            "left": null
          }
        },
        "9c12fe4eca134186b2bd73f0e0ab70bc": {
          "model_module": "@jupyter-widgets/controls",
          "model_name": "IntProgressModel",
          "state": {
            "_view_name": "ProgressView",
            "style": "IPY_MODEL_c2291c6e91e9456fa1684b6ff8c630ba",
            "_dom_classes": [],
            "description": "",
            "_model_name": "IntProgressModel",
            "bar_style": "success",
            "max": 10000,
            "_view_module": "@jupyter-widgets/controls",
            "_model_module_version": "1.5.0",
            "value": 10000,
            "_view_count": null,
            "_view_module_version": "1.5.0",
            "orientation": "horizontal",
            "min": 0,
            "description_tooltip": null,
            "_model_module": "@jupyter-widgets/controls",
            "layout": "IPY_MODEL_d4bbbc92e2fa4047995149bd43e74492"
          }
        },
        "47a4a3d7b1d249e5822c118cecf0432e": {
          "model_module": "@jupyter-widgets/controls",
          "model_name": "HTMLModel",
          "state": {
            "_view_name": "HTMLView",
            "style": "IPY_MODEL_ef07cd59d8984ed48fe6d2f0311b8401",
            "_dom_classes": [],
            "description": "",
            "_model_name": "HTMLModel",
            "placeholder": "​",
            "_view_module": "@jupyter-widgets/controls",
            "_model_module_version": "1.5.0",
            "value": "100% 10000/10000 [01:41&lt;00:00, 98.93it/s]",
            "_view_count": null,
            "_view_module_version": "1.5.0",
            "description_tooltip": null,
            "_model_module": "@jupyter-widgets/controls",
            "layout": "IPY_MODEL_df269b478c974b12a849967857574587"
          }
        },
        "c2291c6e91e9456fa1684b6ff8c630ba": {
          "model_module": "@jupyter-widgets/controls",
          "model_name": "ProgressStyleModel",
          "state": {
            "_view_name": "StyleView",
            "_model_name": "ProgressStyleModel",
            "description_width": "",
            "_view_module": "@jupyter-widgets/base",
            "_model_module_version": "1.5.0",
            "_view_count": null,
            "_view_module_version": "1.2.0",
            "bar_color": null,
            "_model_module": "@jupyter-widgets/controls"
          }
        },
        "d4bbbc92e2fa4047995149bd43e74492": {
          "model_module": "@jupyter-widgets/base",
          "model_name": "LayoutModel",
          "state": {
            "_view_name": "LayoutView",
            "grid_template_rows": null,
            "right": null,
            "justify_content": null,
            "_view_module": "@jupyter-widgets/base",
            "overflow": null,
            "_model_module_version": "1.2.0",
            "_view_count": null,
            "flex_flow": null,
            "width": null,
            "min_width": null,
            "border": null,
            "align_items": null,
            "bottom": null,
            "_model_module": "@jupyter-widgets/base",
            "top": null,
            "grid_column": null,
            "overflow_y": null,
            "overflow_x": null,
            "grid_auto_flow": null,
            "grid_area": null,
            "grid_template_columns": null,
            "flex": null,
            "_model_name": "LayoutModel",
            "justify_items": null,
            "grid_row": null,
            "max_height": null,
            "align_content": null,
            "visibility": null,
            "align_self": null,
            "height": null,
            "min_height": null,
            "padding": null,
            "grid_auto_rows": null,
            "grid_gap": null,
            "max_width": null,
            "order": null,
            "_view_module_version": "1.2.0",
            "grid_template_areas": null,
            "object_position": null,
            "object_fit": null,
            "grid_auto_columns": null,
            "margin": null,
            "display": null,
            "left": null
          }
        },
        "ef07cd59d8984ed48fe6d2f0311b8401": {
          "model_module": "@jupyter-widgets/controls",
          "model_name": "DescriptionStyleModel",
          "state": {
            "_view_name": "StyleView",
            "_model_name": "DescriptionStyleModel",
            "description_width": "",
            "_view_module": "@jupyter-widgets/base",
            "_model_module_version": "1.5.0",
            "_view_count": null,
            "_view_module_version": "1.2.0",
            "_model_module": "@jupyter-widgets/controls"
          }
        },
        "df269b478c974b12a849967857574587": {
          "model_module": "@jupyter-widgets/base",
          "model_name": "LayoutModel",
          "state": {
            "_view_name": "LayoutView",
            "grid_template_rows": null,
            "right": null,
            "justify_content": null,
            "_view_module": "@jupyter-widgets/base",
            "overflow": null,
            "_model_module_version": "1.2.0",
            "_view_count": null,
            "flex_flow": null,
            "width": null,
            "min_width": null,
            "border": null,
            "align_items": null,
            "bottom": null,
            "_model_module": "@jupyter-widgets/base",
            "top": null,
            "grid_column": null,
            "overflow_y": null,
            "overflow_x": null,
            "grid_auto_flow": null,
            "grid_area": null,
            "grid_template_columns": null,
            "flex": null,
            "_model_name": "LayoutModel",
            "justify_items": null,
            "grid_row": null,
            "max_height": null,
            "align_content": null,
            "visibility": null,
            "align_self": null,
            "height": null,
            "min_height": null,
            "padding": null,
            "grid_auto_rows": null,
            "grid_gap": null,
            "max_width": null,
            "order": null,
            "_view_module_version": "1.2.0",
            "grid_template_areas": null,
            "object_position": null,
            "object_fit": null,
            "grid_auto_columns": null,
            "margin": null,
            "display": null,
            "left": null
          }
        },
        "1fe1545b88c944b2aefdb6f99e91a379": {
          "model_module": "@jupyter-widgets/controls",
          "model_name": "HBoxModel",
          "state": {
            "_view_name": "HBoxView",
            "_dom_classes": [],
            "_model_name": "HBoxModel",
            "_view_module": "@jupyter-widgets/controls",
            "_model_module_version": "1.5.0",
            "_view_count": null,
            "_view_module_version": "1.5.0",
            "box_style": "",
            "layout": "IPY_MODEL_a1f96a267163456c922477d1663a64bd",
            "_model_module": "@jupyter-widgets/controls",
            "children": [
              "IPY_MODEL_67a16fcf3aa642e8a6de9fb6be6a2924",
              "IPY_MODEL_4ca86de23d49446286c429f151e47e54"
            ]
          }
        },
        "a1f96a267163456c922477d1663a64bd": {
          "model_module": "@jupyter-widgets/base",
          "model_name": "LayoutModel",
          "state": {
            "_view_name": "LayoutView",
            "grid_template_rows": null,
            "right": null,
            "justify_content": null,
            "_view_module": "@jupyter-widgets/base",
            "overflow": null,
            "_model_module_version": "1.2.0",
            "_view_count": null,
            "flex_flow": null,
            "width": null,
            "min_width": null,
            "border": null,
            "align_items": null,
            "bottom": null,
            "_model_module": "@jupyter-widgets/base",
            "top": null,
            "grid_column": null,
            "overflow_y": null,
            "overflow_x": null,
            "grid_auto_flow": null,
            "grid_area": null,
            "grid_template_columns": null,
            "flex": null,
            "_model_name": "LayoutModel",
            "justify_items": null,
            "grid_row": null,
            "max_height": null,
            "align_content": null,
            "visibility": null,
            "align_self": null,
            "height": null,
            "min_height": null,
            "padding": null,
            "grid_auto_rows": null,
            "grid_gap": null,
            "max_width": null,
            "order": null,
            "_view_module_version": "1.2.0",
            "grid_template_areas": null,
            "object_position": null,
            "object_fit": null,
            "grid_auto_columns": null,
            "margin": null,
            "display": null,
            "left": null
          }
        },
        "67a16fcf3aa642e8a6de9fb6be6a2924": {
          "model_module": "@jupyter-widgets/controls",
          "model_name": "IntProgressModel",
          "state": {
            "_view_name": "ProgressView",
            "style": "IPY_MODEL_69b920910d674b04960c664c6d58a3aa",
            "_dom_classes": [],
            "description": "",
            "_model_name": "IntProgressModel",
            "bar_style": "success",
            "max": 10000,
            "_view_module": "@jupyter-widgets/controls",
            "_model_module_version": "1.5.0",
            "value": 10000,
            "_view_count": null,
            "_view_module_version": "1.5.0",
            "orientation": "horizontal",
            "min": 0,
            "description_tooltip": null,
            "_model_module": "@jupyter-widgets/controls",
            "layout": "IPY_MODEL_aeeeca0bab2047e5875859d941e5727b"
          }
        },
        "4ca86de23d49446286c429f151e47e54": {
          "model_module": "@jupyter-widgets/controls",
          "model_name": "HTMLModel",
          "state": {
            "_view_name": "HTMLView",
            "style": "IPY_MODEL_6d0616e6f703477690e897aeacf75676",
            "_dom_classes": [],
            "description": "",
            "_model_name": "HTMLModel",
            "placeholder": "​",
            "_view_module": "@jupyter-widgets/controls",
            "_model_module_version": "1.5.0",
            "value": "100% 10000/10000 [01:51&lt;00:00, 89.59it/s]",
            "_view_count": null,
            "_view_module_version": "1.5.0",
            "description_tooltip": null,
            "_model_module": "@jupyter-widgets/controls",
            "layout": "IPY_MODEL_d6a92dcfe77b4db4890dcc721bb3db23"
          }
        },
        "69b920910d674b04960c664c6d58a3aa": {
          "model_module": "@jupyter-widgets/controls",
          "model_name": "ProgressStyleModel",
          "state": {
            "_view_name": "StyleView",
            "_model_name": "ProgressStyleModel",
            "description_width": "",
            "_view_module": "@jupyter-widgets/base",
            "_model_module_version": "1.5.0",
            "_view_count": null,
            "_view_module_version": "1.2.0",
            "bar_color": null,
            "_model_module": "@jupyter-widgets/controls"
          }
        },
        "aeeeca0bab2047e5875859d941e5727b": {
          "model_module": "@jupyter-widgets/base",
          "model_name": "LayoutModel",
          "state": {
            "_view_name": "LayoutView",
            "grid_template_rows": null,
            "right": null,
            "justify_content": null,
            "_view_module": "@jupyter-widgets/base",
            "overflow": null,
            "_model_module_version": "1.2.0",
            "_view_count": null,
            "flex_flow": null,
            "width": null,
            "min_width": null,
            "border": null,
            "align_items": null,
            "bottom": null,
            "_model_module": "@jupyter-widgets/base",
            "top": null,
            "grid_column": null,
            "overflow_y": null,
            "overflow_x": null,
            "grid_auto_flow": null,
            "grid_area": null,
            "grid_template_columns": null,
            "flex": null,
            "_model_name": "LayoutModel",
            "justify_items": null,
            "grid_row": null,
            "max_height": null,
            "align_content": null,
            "visibility": null,
            "align_self": null,
            "height": null,
            "min_height": null,
            "padding": null,
            "grid_auto_rows": null,
            "grid_gap": null,
            "max_width": null,
            "order": null,
            "_view_module_version": "1.2.0",
            "grid_template_areas": null,
            "object_position": null,
            "object_fit": null,
            "grid_auto_columns": null,
            "margin": null,
            "display": null,
            "left": null
          }
        },
        "6d0616e6f703477690e897aeacf75676": {
          "model_module": "@jupyter-widgets/controls",
          "model_name": "DescriptionStyleModel",
          "state": {
            "_view_name": "StyleView",
            "_model_name": "DescriptionStyleModel",
            "description_width": "",
            "_view_module": "@jupyter-widgets/base",
            "_model_module_version": "1.5.0",
            "_view_count": null,
            "_view_module_version": "1.2.0",
            "_model_module": "@jupyter-widgets/controls"
          }
        },
        "d6a92dcfe77b4db4890dcc721bb3db23": {
          "model_module": "@jupyter-widgets/base",
          "model_name": "LayoutModel",
          "state": {
            "_view_name": "LayoutView",
            "grid_template_rows": null,
            "right": null,
            "justify_content": null,
            "_view_module": "@jupyter-widgets/base",
            "overflow": null,
            "_model_module_version": "1.2.0",
            "_view_count": null,
            "flex_flow": null,
            "width": null,
            "min_width": null,
            "border": null,
            "align_items": null,
            "bottom": null,
            "_model_module": "@jupyter-widgets/base",
            "top": null,
            "grid_column": null,
            "overflow_y": null,
            "overflow_x": null,
            "grid_auto_flow": null,
            "grid_area": null,
            "grid_template_columns": null,
            "flex": null,
            "_model_name": "LayoutModel",
            "justify_items": null,
            "grid_row": null,
            "max_height": null,
            "align_content": null,
            "visibility": null,
            "align_self": null,
            "height": null,
            "min_height": null,
            "padding": null,
            "grid_auto_rows": null,
            "grid_gap": null,
            "max_width": null,
            "order": null,
            "_view_module_version": "1.2.0",
            "grid_template_areas": null,
            "object_position": null,
            "object_fit": null,
            "grid_auto_columns": null,
            "margin": null,
            "display": null,
            "left": null
          }
        },
        "a209a928c54c4e99a13aa40cd93f0b7c": {
          "model_module": "@jupyter-widgets/controls",
          "model_name": "HBoxModel",
          "state": {
            "_view_name": "HBoxView",
            "_dom_classes": [],
            "_model_name": "HBoxModel",
            "_view_module": "@jupyter-widgets/controls",
            "_model_module_version": "1.5.0",
            "_view_count": null,
            "_view_module_version": "1.5.0",
            "box_style": "",
            "layout": "IPY_MODEL_fd8211bcb3eb4dc0ac5331d53a275767",
            "_model_module": "@jupyter-widgets/controls",
            "children": [
              "IPY_MODEL_5a55deba759f407db7d0101fa2089051",
              "IPY_MODEL_97841b9676b1447ea2e38c2d25ed992b"
            ]
          }
        },
        "fd8211bcb3eb4dc0ac5331d53a275767": {
          "model_module": "@jupyter-widgets/base",
          "model_name": "LayoutModel",
          "state": {
            "_view_name": "LayoutView",
            "grid_template_rows": null,
            "right": null,
            "justify_content": null,
            "_view_module": "@jupyter-widgets/base",
            "overflow": null,
            "_model_module_version": "1.2.0",
            "_view_count": null,
            "flex_flow": null,
            "width": null,
            "min_width": null,
            "border": null,
            "align_items": null,
            "bottom": null,
            "_model_module": "@jupyter-widgets/base",
            "top": null,
            "grid_column": null,
            "overflow_y": null,
            "overflow_x": null,
            "grid_auto_flow": null,
            "grid_area": null,
            "grid_template_columns": null,
            "flex": null,
            "_model_name": "LayoutModel",
            "justify_items": null,
            "grid_row": null,
            "max_height": null,
            "align_content": null,
            "visibility": null,
            "align_self": null,
            "height": null,
            "min_height": null,
            "padding": null,
            "grid_auto_rows": null,
            "grid_gap": null,
            "max_width": null,
            "order": null,
            "_view_module_version": "1.2.0",
            "grid_template_areas": null,
            "object_position": null,
            "object_fit": null,
            "grid_auto_columns": null,
            "margin": null,
            "display": null,
            "left": null
          }
        },
        "5a55deba759f407db7d0101fa2089051": {
          "model_module": "@jupyter-widgets/controls",
          "model_name": "IntProgressModel",
          "state": {
            "_view_name": "ProgressView",
            "style": "IPY_MODEL_7337024369dc4f50b7d3f107efce5a85",
            "_dom_classes": [],
            "description": "",
            "_model_name": "IntProgressModel",
            "bar_style": "success",
            "max": 10000,
            "_view_module": "@jupyter-widgets/controls",
            "_model_module_version": "1.5.0",
            "value": 10000,
            "_view_count": null,
            "_view_module_version": "1.5.0",
            "orientation": "horizontal",
            "min": 0,
            "description_tooltip": null,
            "_model_module": "@jupyter-widgets/controls",
            "layout": "IPY_MODEL_088cfff2f07a432087c4fba3d3527301"
          }
        },
        "97841b9676b1447ea2e38c2d25ed992b": {
          "model_module": "@jupyter-widgets/controls",
          "model_name": "HTMLModel",
          "state": {
            "_view_name": "HTMLView",
            "style": "IPY_MODEL_5d60ccb87a67450ba8a27c16d10e8da5",
            "_dom_classes": [],
            "description": "",
            "_model_name": "HTMLModel",
            "placeholder": "​",
            "_view_module": "@jupyter-widgets/controls",
            "_model_module_version": "1.5.0",
            "value": "100% 10000/10000 [01:47&lt;00:00, 92.96it/s]",
            "_view_count": null,
            "_view_module_version": "1.5.0",
            "description_tooltip": null,
            "_model_module": "@jupyter-widgets/controls",
            "layout": "IPY_MODEL_9937d579656a4fbfb06efef8c99b4b7e"
          }
        },
        "7337024369dc4f50b7d3f107efce5a85": {
          "model_module": "@jupyter-widgets/controls",
          "model_name": "ProgressStyleModel",
          "state": {
            "_view_name": "StyleView",
            "_model_name": "ProgressStyleModel",
            "description_width": "",
            "_view_module": "@jupyter-widgets/base",
            "_model_module_version": "1.5.0",
            "_view_count": null,
            "_view_module_version": "1.2.0",
            "bar_color": null,
            "_model_module": "@jupyter-widgets/controls"
          }
        },
        "088cfff2f07a432087c4fba3d3527301": {
          "model_module": "@jupyter-widgets/base",
          "model_name": "LayoutModel",
          "state": {
            "_view_name": "LayoutView",
            "grid_template_rows": null,
            "right": null,
            "justify_content": null,
            "_view_module": "@jupyter-widgets/base",
            "overflow": null,
            "_model_module_version": "1.2.0",
            "_view_count": null,
            "flex_flow": null,
            "width": null,
            "min_width": null,
            "border": null,
            "align_items": null,
            "bottom": null,
            "_model_module": "@jupyter-widgets/base",
            "top": null,
            "grid_column": null,
            "overflow_y": null,
            "overflow_x": null,
            "grid_auto_flow": null,
            "grid_area": null,
            "grid_template_columns": null,
            "flex": null,
            "_model_name": "LayoutModel",
            "justify_items": null,
            "grid_row": null,
            "max_height": null,
            "align_content": null,
            "visibility": null,
            "align_self": null,
            "height": null,
            "min_height": null,
            "padding": null,
            "grid_auto_rows": null,
            "grid_gap": null,
            "max_width": null,
            "order": null,
            "_view_module_version": "1.2.0",
            "grid_template_areas": null,
            "object_position": null,
            "object_fit": null,
            "grid_auto_columns": null,
            "margin": null,
            "display": null,
            "left": null
          }
        },
        "5d60ccb87a67450ba8a27c16d10e8da5": {
          "model_module": "@jupyter-widgets/controls",
          "model_name": "DescriptionStyleModel",
          "state": {
            "_view_name": "StyleView",
            "_model_name": "DescriptionStyleModel",
            "description_width": "",
            "_view_module": "@jupyter-widgets/base",
            "_model_module_version": "1.5.0",
            "_view_count": null,
            "_view_module_version": "1.2.0",
            "_model_module": "@jupyter-widgets/controls"
          }
        },
        "9937d579656a4fbfb06efef8c99b4b7e": {
          "model_module": "@jupyter-widgets/base",
          "model_name": "LayoutModel",
          "state": {
            "_view_name": "LayoutView",
            "grid_template_rows": null,
            "right": null,
            "justify_content": null,
            "_view_module": "@jupyter-widgets/base",
            "overflow": null,
            "_model_module_version": "1.2.0",
            "_view_count": null,
            "flex_flow": null,
            "width": null,
            "min_width": null,
            "border": null,
            "align_items": null,
            "bottom": null,
            "_model_module": "@jupyter-widgets/base",
            "top": null,
            "grid_column": null,
            "overflow_y": null,
            "overflow_x": null,
            "grid_auto_flow": null,
            "grid_area": null,
            "grid_template_columns": null,
            "flex": null,
            "_model_name": "LayoutModel",
            "justify_items": null,
            "grid_row": null,
            "max_height": null,
            "align_content": null,
            "visibility": null,
            "align_self": null,
            "height": null,
            "min_height": null,
            "padding": null,
            "grid_auto_rows": null,
            "grid_gap": null,
            "max_width": null,
            "order": null,
            "_view_module_version": "1.2.0",
            "grid_template_areas": null,
            "object_position": null,
            "object_fit": null,
            "grid_auto_columns": null,
            "margin": null,
            "display": null,
            "left": null
          }
        },
        "ae0f2974c30a442aad7e3b9a76baf612": {
          "model_module": "@jupyter-widgets/controls",
          "model_name": "HBoxModel",
          "state": {
            "_view_name": "HBoxView",
            "_dom_classes": [],
            "_model_name": "HBoxModel",
            "_view_module": "@jupyter-widgets/controls",
            "_model_module_version": "1.5.0",
            "_view_count": null,
            "_view_module_version": "1.5.0",
            "box_style": "",
            "layout": "IPY_MODEL_25982c40dbcf408b91eb43dfd342c246",
            "_model_module": "@jupyter-widgets/controls",
            "children": [
              "IPY_MODEL_b06babbd10b0409d82cf3578f55ca09e",
              "IPY_MODEL_459e4f973c814895b9af01b86630a9ed"
            ]
          }
        },
        "25982c40dbcf408b91eb43dfd342c246": {
          "model_module": "@jupyter-widgets/base",
          "model_name": "LayoutModel",
          "state": {
            "_view_name": "LayoutView",
            "grid_template_rows": null,
            "right": null,
            "justify_content": null,
            "_view_module": "@jupyter-widgets/base",
            "overflow": null,
            "_model_module_version": "1.2.0",
            "_view_count": null,
            "flex_flow": null,
            "width": null,
            "min_width": null,
            "border": null,
            "align_items": null,
            "bottom": null,
            "_model_module": "@jupyter-widgets/base",
            "top": null,
            "grid_column": null,
            "overflow_y": null,
            "overflow_x": null,
            "grid_auto_flow": null,
            "grid_area": null,
            "grid_template_columns": null,
            "flex": null,
            "_model_name": "LayoutModel",
            "justify_items": null,
            "grid_row": null,
            "max_height": null,
            "align_content": null,
            "visibility": null,
            "align_self": null,
            "height": null,
            "min_height": null,
            "padding": null,
            "grid_auto_rows": null,
            "grid_gap": null,
            "max_width": null,
            "order": null,
            "_view_module_version": "1.2.0",
            "grid_template_areas": null,
            "object_position": null,
            "object_fit": null,
            "grid_auto_columns": null,
            "margin": null,
            "display": null,
            "left": null
          }
        },
        "b06babbd10b0409d82cf3578f55ca09e": {
          "model_module": "@jupyter-widgets/controls",
          "model_name": "IntProgressModel",
          "state": {
            "_view_name": "ProgressView",
            "style": "IPY_MODEL_4d294d670ce4490c963b7b38e7149436",
            "_dom_classes": [],
            "description": "",
            "_model_name": "IntProgressModel",
            "bar_style": "success",
            "max": 10000,
            "_view_module": "@jupyter-widgets/controls",
            "_model_module_version": "1.5.0",
            "value": 10000,
            "_view_count": null,
            "_view_module_version": "1.5.0",
            "orientation": "horizontal",
            "min": 0,
            "description_tooltip": null,
            "_model_module": "@jupyter-widgets/controls",
            "layout": "IPY_MODEL_faa0a8be569f42bcabe6db0024ca7354"
          }
        },
        "459e4f973c814895b9af01b86630a9ed": {
          "model_module": "@jupyter-widgets/controls",
          "model_name": "HTMLModel",
          "state": {
            "_view_name": "HTMLView",
            "style": "IPY_MODEL_3c6e1cec3f524933bedcf444ac70a932",
            "_dom_classes": [],
            "description": "",
            "_model_name": "HTMLModel",
            "placeholder": "​",
            "_view_module": "@jupyter-widgets/controls",
            "_model_module_version": "1.5.0",
            "value": "100% 10000/10000 [01:57&lt;00:00, 84.80it/s]",
            "_view_count": null,
            "_view_module_version": "1.5.0",
            "description_tooltip": null,
            "_model_module": "@jupyter-widgets/controls",
            "layout": "IPY_MODEL_32098f86c12841da9e1553e3de2dcea1"
          }
        },
        "4d294d670ce4490c963b7b38e7149436": {
          "model_module": "@jupyter-widgets/controls",
          "model_name": "ProgressStyleModel",
          "state": {
            "_view_name": "StyleView",
            "_model_name": "ProgressStyleModel",
            "description_width": "",
            "_view_module": "@jupyter-widgets/base",
            "_model_module_version": "1.5.0",
            "_view_count": null,
            "_view_module_version": "1.2.0",
            "bar_color": null,
            "_model_module": "@jupyter-widgets/controls"
          }
        },
        "faa0a8be569f42bcabe6db0024ca7354": {
          "model_module": "@jupyter-widgets/base",
          "model_name": "LayoutModel",
          "state": {
            "_view_name": "LayoutView",
            "grid_template_rows": null,
            "right": null,
            "justify_content": null,
            "_view_module": "@jupyter-widgets/base",
            "overflow": null,
            "_model_module_version": "1.2.0",
            "_view_count": null,
            "flex_flow": null,
            "width": null,
            "min_width": null,
            "border": null,
            "align_items": null,
            "bottom": null,
            "_model_module": "@jupyter-widgets/base",
            "top": null,
            "grid_column": null,
            "overflow_y": null,
            "overflow_x": null,
            "grid_auto_flow": null,
            "grid_area": null,
            "grid_template_columns": null,
            "flex": null,
            "_model_name": "LayoutModel",
            "justify_items": null,
            "grid_row": null,
            "max_height": null,
            "align_content": null,
            "visibility": null,
            "align_self": null,
            "height": null,
            "min_height": null,
            "padding": null,
            "grid_auto_rows": null,
            "grid_gap": null,
            "max_width": null,
            "order": null,
            "_view_module_version": "1.2.0",
            "grid_template_areas": null,
            "object_position": null,
            "object_fit": null,
            "grid_auto_columns": null,
            "margin": null,
            "display": null,
            "left": null
          }
        },
        "3c6e1cec3f524933bedcf444ac70a932": {
          "model_module": "@jupyter-widgets/controls",
          "model_name": "DescriptionStyleModel",
          "state": {
            "_view_name": "StyleView",
            "_model_name": "DescriptionStyleModel",
            "description_width": "",
            "_view_module": "@jupyter-widgets/base",
            "_model_module_version": "1.5.0",
            "_view_count": null,
            "_view_module_version": "1.2.0",
            "_model_module": "@jupyter-widgets/controls"
          }
        },
        "32098f86c12841da9e1553e3de2dcea1": {
          "model_module": "@jupyter-widgets/base",
          "model_name": "LayoutModel",
          "state": {
            "_view_name": "LayoutView",
            "grid_template_rows": null,
            "right": null,
            "justify_content": null,
            "_view_module": "@jupyter-widgets/base",
            "overflow": null,
            "_model_module_version": "1.2.0",
            "_view_count": null,
            "flex_flow": null,
            "width": null,
            "min_width": null,
            "border": null,
            "align_items": null,
            "bottom": null,
            "_model_module": "@jupyter-widgets/base",
            "top": null,
            "grid_column": null,
            "overflow_y": null,
            "overflow_x": null,
            "grid_auto_flow": null,
            "grid_area": null,
            "grid_template_columns": null,
            "flex": null,
            "_model_name": "LayoutModel",
            "justify_items": null,
            "grid_row": null,
            "max_height": null,
            "align_content": null,
            "visibility": null,
            "align_self": null,
            "height": null,
            "min_height": null,
            "padding": null,
            "grid_auto_rows": null,
            "grid_gap": null,
            "max_width": null,
            "order": null,
            "_view_module_version": "1.2.0",
            "grid_template_areas": null,
            "object_position": null,
            "object_fit": null,
            "grid_auto_columns": null,
            "margin": null,
            "display": null,
            "left": null
          }
        }
      }
    }
  },
  "cells": [
    {
      "cell_type": "markdown",
      "metadata": {
        "id": "view-in-github",
        "colab_type": "text"
      },
      "source": [
        "<a href=\"https://colab.research.google.com/github/Fyfy1996/Natural_language_understanding/blob/master/hw3_ipynb.ipynb\" target=\"_parent\"><img src=\"https://colab.research.google.com/assets/colab-badge.svg\" alt=\"Open In Colab\"/></a>"
      ]
    },
    {
      "cell_type": "markdown",
      "metadata": {
        "id": "2ZvRsKxerr_C",
        "colab_type": "text"
      },
      "source": [
        "# Homework 3: Word Embeddings\n",
        "\n",
        "In this homework assignment, we are going to tackle two different exercises involving word embeddings. First, we are going to explore using the semantic orientation method to score words. Second, we will explore the effect of context sizes in building embeddings based on word cooccurrences."
      ]
    },
    {
      "cell_type": "markdown",
      "metadata": {
        "id": "fRjB4n70e_Nv",
        "colab_type": "text"
      },
      "source": [
        "# Part 0: Setup"
      ]
    },
    {
      "cell_type": "code",
      "metadata": {
        "id": "qIT93qtzg7rA",
        "colab_type": "code",
        "outputId": "4d7d4b60-231c-42d5-aded-5f6e4936b419",
        "colab": {
          "base_uri": "https://localhost:8080/",
          "height": 272
        }
      },
      "source": [
        "!pip install sacremoses"
      ],
      "execution_count": 0,
      "outputs": [
        {
          "output_type": "stream",
          "text": [
            "Collecting sacremoses\n",
            "\u001b[?25l  Downloading https://files.pythonhosted.org/packages/a6/b4/7a41d630547a4afd58143597d5a49e07bfd4c42914d8335b2a5657efc14b/sacremoses-0.0.38.tar.gz (860kB)\n",
            "\u001b[K     |████████████████████████████████| 870kB 2.8MB/s \n",
            "\u001b[?25hRequirement already satisfied: regex in /usr/local/lib/python3.6/dist-packages (from sacremoses) (2019.12.20)\n",
            "Requirement already satisfied: six in /usr/local/lib/python3.6/dist-packages (from sacremoses) (1.12.0)\n",
            "Requirement already satisfied: click in /usr/local/lib/python3.6/dist-packages (from sacremoses) (7.0)\n",
            "Requirement already satisfied: joblib in /usr/local/lib/python3.6/dist-packages (from sacremoses) (0.14.1)\n",
            "Requirement already satisfied: tqdm in /usr/local/lib/python3.6/dist-packages (from sacremoses) (4.28.1)\n",
            "Building wheels for collected packages: sacremoses\n",
            "  Building wheel for sacremoses (setup.py) ... \u001b[?25l\u001b[?25hdone\n",
            "  Created wheel for sacremoses: filename=sacremoses-0.0.38-cp36-none-any.whl size=884628 sha256=617c7b67951e48c5b4e300fe2695a01d2c4d3c572f1da80209a9e7d30769607e\n",
            "  Stored in directory: /root/.cache/pip/wheels/6d/ec/1a/21b8912e35e02741306f35f66c785f3afe94de754a0eaf1422\n",
            "Successfully built sacremoses\n",
            "Installing collected packages: sacremoses\n",
            "Successfully installed sacremoses-0.0.38\n"
          ],
          "name": "stdout"
        }
      ]
    },
    {
      "cell_type": "code",
      "metadata": {
        "id": "Mv7TBcl5e_Nf",
        "colab_type": "code",
        "colab": {}
      },
      "source": [
        "import pandas as pd\n",
        "import numpy as np\n",
        "from sklearn.metrics.pairwise import cosine_similarity\n",
        "import sacremoses\n",
        "import tqdm\n",
        "import time\n",
        "from matplotlib import pyplot as plt\n",
        "%matplotlib inline"
      ],
      "execution_count": 0,
      "outputs": []
    },
    {
      "cell_type": "markdown",
      "metadata": {
        "id": "O0lWzIl3e_N1",
        "colab_type": "text"
      },
      "source": [
        "We're going load a set of 50D word vectors from GloVe. If want to download other versions of GloVe, you can click [here](https://nlp.stanford.edu/projects/glove/)."
      ]
    },
    {
      "cell_type": "code",
      "metadata": {
        "id": "2INTutRPfCVn",
        "colab_type": "code",
        "outputId": "91dec204-7844-4b44-d882-f7cd4afa3985",
        "colab": {
          "base_uri": "https://localhost:8080/",
          "height": 1000
        }
      },
      "source": [
        "!wget https://docs.google.com/uc?id=1si-rTb4nALWb-Wah5_tqbs9KXAwE3qhK -O glove.aa\n",
        "!wget https://docs.google.com/uc?id=1_XywxYH56-tHepqxpUfE-Y6xNQSZiu-7 -O glove.ab\n",
        "!wget https://docs.google.com/uc?id=1ISSLqQWL8EO8blT54RKahkDQhtmSp9ae -O glove.ac\n",
        "!wget https://docs.google.com/uc?id=1qHqCKLFO0Zdyhmb_ctd63aaFRLNGiDfB -O glove.ad\n",
        "!cat glove.?? > 'glove.6B.50d.txt'"
      ],
      "execution_count": 0,
      "outputs": [
        {
          "output_type": "stream",
          "text": [
            "--2020-02-23 17:06:39--  https://docs.google.com/uc?id=1si-rTb4nALWb-Wah5_tqbs9KXAwE3qhK\n",
            "Resolving docs.google.com (docs.google.com)... 108.177.13.101, 108.177.13.113, 108.177.13.100, ...\n",
            "Connecting to docs.google.com (docs.google.com)|108.177.13.101|:443... connected.\n",
            "HTTP request sent, awaiting response... 302 Moved Temporarily\n",
            "Location: https://doc-00-0g-docs.googleusercontent.com/docs/securesc/ha0ro937gcuc7l7deffksulhg5h7mbp1/kt4gviibpuuncdhreh4sasb3adjngd4d/1582477200000/14514704803973256873/*/1si-rTb4nALWb-Wah5_tqbs9KXAwE3qhK [following]\n",
            "Warning: wildcards not supported in HTTP.\n",
            "--2020-02-23 17:06:41--  https://doc-00-0g-docs.googleusercontent.com/docs/securesc/ha0ro937gcuc7l7deffksulhg5h7mbp1/kt4gviibpuuncdhreh4sasb3adjngd4d/1582477200000/14514704803973256873/*/1si-rTb4nALWb-Wah5_tqbs9KXAwE3qhK\n",
            "Resolving doc-00-0g-docs.googleusercontent.com (doc-00-0g-docs.googleusercontent.com)... 172.217.204.132, 2607:f8b0:400c:c15::84\n",
            "Connecting to doc-00-0g-docs.googleusercontent.com (doc-00-0g-docs.googleusercontent.com)|172.217.204.132|:443... connected.\n",
            "HTTP request sent, awaiting response... 200 OK\n",
            "Length: unspecified [audio/audible]\n",
            "Saving to: ‘glove.aa’\n",
            "\n",
            "glove.aa                [   <=>              ]  50.00M  96.4MB/s    in 0.5s    \n",
            "\n",
            "2020-02-23 17:06:42 (96.4 MB/s) - ‘glove.aa’ saved [52428800]\n",
            "\n",
            "--2020-02-23 17:06:42--  https://docs.google.com/uc?id=1_XywxYH56-tHepqxpUfE-Y6xNQSZiu-7\n",
            "Resolving docs.google.com (docs.google.com)... 108.177.13.113, 108.177.13.100, 108.177.13.102, ...\n",
            "Connecting to docs.google.com (docs.google.com)|108.177.13.113|:443... connected.\n",
            "HTTP request sent, awaiting response... 302 Moved Temporarily\n",
            "Location: https://doc-08-0g-docs.googleusercontent.com/docs/securesc/ha0ro937gcuc7l7deffksulhg5h7mbp1/4sd4ub9t1p47cq801focf04c3vr1lj2f/1582477200000/14514704803973256873/*/1_XywxYH56-tHepqxpUfE-Y6xNQSZiu-7 [following]\n",
            "Warning: wildcards not supported in HTTP.\n",
            "--2020-02-23 17:06:44--  https://doc-08-0g-docs.googleusercontent.com/docs/securesc/ha0ro937gcuc7l7deffksulhg5h7mbp1/4sd4ub9t1p47cq801focf04c3vr1lj2f/1582477200000/14514704803973256873/*/1_XywxYH56-tHepqxpUfE-Y6xNQSZiu-7\n",
            "Resolving doc-08-0g-docs.googleusercontent.com (doc-08-0g-docs.googleusercontent.com)... 172.217.204.132, 2607:f8b0:400c:c15::84\n",
            "Connecting to doc-08-0g-docs.googleusercontent.com (doc-08-0g-docs.googleusercontent.com)|172.217.204.132|:443... connected.\n",
            "HTTP request sent, awaiting response... 200 OK\n",
            "Length: unspecified [application/octet-stream]\n",
            "Saving to: ‘glove.ab’\n",
            "\n",
            "glove.ab                [    <=>             ]  50.00M  27.4MB/s    in 1.8s    \n",
            "\n",
            "2020-02-23 17:06:46 (27.4 MB/s) - ‘glove.ab’ saved [52428800]\n",
            "\n",
            "--2020-02-23 17:06:47--  https://docs.google.com/uc?id=1ISSLqQWL8EO8blT54RKahkDQhtmSp9ae\n",
            "Resolving docs.google.com (docs.google.com)... 108.177.13.101, 108.177.13.113, 108.177.13.100, ...\n",
            "Connecting to docs.google.com (docs.google.com)|108.177.13.101|:443... connected.\n",
            "HTTP request sent, awaiting response... 302 Moved Temporarily\n",
            "Location: https://doc-0g-0g-docs.googleusercontent.com/docs/securesc/ha0ro937gcuc7l7deffksulhg5h7mbp1/4o3hlr30l56ijmrd5pq2qrgtthi6i028/1582477200000/14514704803973256873/*/1ISSLqQWL8EO8blT54RKahkDQhtmSp9ae [following]\n",
            "Warning: wildcards not supported in HTTP.\n",
            "--2020-02-23 17:06:48--  https://doc-0g-0g-docs.googleusercontent.com/docs/securesc/ha0ro937gcuc7l7deffksulhg5h7mbp1/4o3hlr30l56ijmrd5pq2qrgtthi6i028/1582477200000/14514704803973256873/*/1ISSLqQWL8EO8blT54RKahkDQhtmSp9ae\n",
            "Resolving doc-0g-0g-docs.googleusercontent.com (doc-0g-0g-docs.googleusercontent.com)... 172.217.204.132, 2607:f8b0:400c:c15::84\n",
            "Connecting to doc-0g-0g-docs.googleusercontent.com (doc-0g-0g-docs.googleusercontent.com)|172.217.204.132|:443... connected.\n",
            "HTTP request sent, awaiting response... 200 OK\n",
            "Length: unspecified [application/octet-stream]\n",
            "Saving to: ‘glove.ac’\n",
            "\n",
            "glove.ac                [   <=>              ]  50.00M  55.0MB/s    in 0.9s    \n",
            "\n",
            "2020-02-23 17:06:49 (55.0 MB/s) - ‘glove.ac’ saved [52428800]\n",
            "\n",
            "--2020-02-23 17:06:50--  https://docs.google.com/uc?id=1qHqCKLFO0Zdyhmb_ctd63aaFRLNGiDfB\n",
            "Resolving docs.google.com (docs.google.com)... 108.177.13.113, 108.177.13.100, 108.177.13.102, ...\n",
            "Connecting to docs.google.com (docs.google.com)|108.177.13.113|:443... connected.\n",
            "HTTP request sent, awaiting response... 302 Moved Temporarily\n",
            "Location: https://doc-0o-0g-docs.googleusercontent.com/docs/securesc/ha0ro937gcuc7l7deffksulhg5h7mbp1/mprqth5tr8c8kgvjtbjvf2bm5d1tntv5/1582477200000/14514704803973256873/*/1qHqCKLFO0Zdyhmb_ctd63aaFRLNGiDfB [following]\n",
            "Warning: wildcards not supported in HTTP.\n",
            "--2020-02-23 17:06:50--  https://doc-0o-0g-docs.googleusercontent.com/docs/securesc/ha0ro937gcuc7l7deffksulhg5h7mbp1/mprqth5tr8c8kgvjtbjvf2bm5d1tntv5/1582477200000/14514704803973256873/*/1qHqCKLFO0Zdyhmb_ctd63aaFRLNGiDfB\n",
            "Resolving doc-0o-0g-docs.googleusercontent.com (doc-0o-0g-docs.googleusercontent.com)... 172.217.204.132, 2607:f8b0:400c:c15::84\n",
            "Connecting to doc-0o-0g-docs.googleusercontent.com (doc-0o-0g-docs.googleusercontent.com)|172.217.204.132|:443... connected.\n",
            "HTTP request sent, awaiting response... 200 OK\n",
            "Length: unspecified [application/octet-stream]\n",
            "Saving to: ‘glove.ad’\n",
            "\n",
            "glove.ad                [  <=>               ]  13.41M  24.3MB/s    in 0.6s    \n",
            "\n",
            "2020-02-23 17:06:51 (24.3 MB/s) - ‘glove.ad’ saved [14063679]\n",
            "\n"
          ],
          "name": "stdout"
        }
      ]
    },
    {
      "cell_type": "markdown",
      "metadata": {
        "id": "1t4crjzWsOpp",
        "colab_type": "text"
      },
      "source": [
        "We'll load the GloVe embeddings similar to previous labs. `words_to_load` specifies how many word vectors we want to load. The words are saved in frequency order, so specifying 50,000 means that we only want to work with the 50,000 most frequent words from the source corpus."
      ]
    },
    {
      "cell_type": "code",
      "metadata": {
        "id": "H1MqtauHe_N4",
        "colab_type": "code",
        "outputId": "21ae1ba8-3d89-44ab-bafc-9fd3d4825167",
        "colab": {
          "base_uri": "https://localhost:8080/",
          "height": 34
        }
      },
      "source": [
        "words_to_load = 50000\n",
        "\n",
        "with open('./glove.6B.50d.txt') as f:\n",
        "    loaded_embeddings = np.zeros((words_to_load, 50))\n",
        "    words_to_index = {}\n",
        "    ordered_words = []\n",
        "    for i, line in enumerate(f):\n",
        "        if i >= words_to_load: \n",
        "            break\n",
        "        \n",
        "        s = line.split()\n",
        "        loaded_embeddings[i, :] = np.asarray(s[1:])\n",
        "        words_to_index[s[0]] = i\n",
        "        ordered_words.append(s[0])\n",
        "print(\"GloVe loaded\")"
      ],
      "execution_count": 0,
      "outputs": [
        {
          "output_type": "stream",
          "text": [
            "GloVe loaded\n"
          ],
          "name": "stdout"
        }
      ]
    },
    {
      "cell_type": "markdown",
      "metadata": {
        "id": "O_SUYoKFe_OB",
        "colab_type": "text"
      },
      "source": [
        "Let's look at the embedding for the word \"potato\"."
      ]
    },
    {
      "cell_type": "code",
      "metadata": {
        "id": "A_wdFWAXe_ON",
        "colab_type": "code",
        "outputId": "7f95c94a-c43f-4d68-c236-8592addc4ee3",
        "colab": {
          "base_uri": "https://localhost:8080/",
          "height": 170
        }
      },
      "source": [
        "loaded_embeddings[words_to_index['potato']]"
      ],
      "execution_count": 0,
      "outputs": [
        {
          "output_type": "execute_result",
          "data": {
            "text/plain": [
              "array([-0.063054, -0.62636 , -0.76417 , -0.041484,  0.56284 ,  0.86432 ,\n",
              "       -0.73734 , -0.70925 , -0.073065, -0.74619 , -0.34769 ,  0.14402 ,\n",
              "        1.4576  ,  0.034688,  0.11224 ,  0.13854 ,  0.10484 ,  0.60207 ,\n",
              "        0.021777, -0.21802 ,  0.087613, -1.4234  ,  1.0361  ,  0.1509  ,\n",
              "        0.13608 , -0.2971  , -0.90828 ,  0.34182 ,  1.3367  ,  0.16329 ,\n",
              "        1.2374  , -0.20113 , -0.91532 ,  1.4222  , -0.1276  ,  0.69443 ,\n",
              "       -1.1782  ,  1.2072  ,  1.0524  , -0.11957 , -0.1275  ,  0.41798 ,\n",
              "       -0.9232  , -0.1312  ,  1.2696  ,  1.2318  ,  0.30061 , -0.18854 ,\n",
              "        0.15899 ,  0.0486  ])"
            ]
          },
          "metadata": {
            "tags": []
          },
          "execution_count": 5
        }
      ]
    },
    {
      "cell_type": "markdown",
      "metadata": {
        "id": "lqeYUGvJe_OW",
        "colab_type": "text"
      },
      "source": [
        "# Part 1: The Semantic Orientation Method [40]"
      ]
    },
    {
      "cell_type": "markdown",
      "metadata": {
        "id": "iTvdJ39Fe_OZ",
        "colab_type": "text"
      },
      "source": [
        "The __semantic orientation__ method of [Turney and Littman 2003](http://doi.acm.org/10.1145/944012.944013) is a method for automatically scoring words along some single semantic dimension like sentiment. It works from a pair of small seed sets of words that represent two opposing points on that dimension.\n",
        "\n",
        "*Some code in this section was adapted from Stanford CS 224U*"
      ]
    },
    {
      "cell_type": "markdown",
      "metadata": {
        "id": "EK48UHrke_Oc",
        "colab_type": "text"
      },
      "source": [
        "Here's a sample pair of seed sets:"
      ]
    },
    {
      "cell_type": "code",
      "metadata": {
        "id": "xtlIac9Ge_Oe",
        "colab_type": "code",
        "colab": {}
      },
      "source": [
        "positive_words = ['good', 'great', 'awesome', 'like', 'love']\n",
        "negative_words = ['bad', 'awful', 'terrible', 'hate', 'dislike']"
      ],
      "execution_count": 0,
      "outputs": []
    },
    {
      "cell_type": "code",
      "metadata": {
        "id": "hXaolKIIe_Ok",
        "colab_type": "code",
        "colab": {}
      },
      "source": [
        "class SemanticOrientation:\n",
        "    \n",
        "    def __init__(self, seed_pos, seed_neg):\n",
        "        \"\"\"\n",
        "        args: \n",
        "            - seed_pos: list of 'positive' words\n",
        "            - seed_neg: list of 'negative' words\n",
        "        \"\"\"\n",
        "        self.seed_pos = seed_pos\n",
        "        self.seed_neg = seed_neg\n",
        "        seed_pos_indices = [words_to_index[seed] for seed in seed_pos]\n",
        "        seed_neg_indices = [words_to_index[seed] for seed in seed_neg]\n",
        "        \n",
        "        # Get matrices of embeddings for positive and negative words\n",
        "        self.seed_pos_mat = loaded_embeddings[seed_pos_indices]\n",
        "        self.seed_neg_mat = loaded_embeddings[seed_neg_indices]\n",
        "        \n",
        "    def determine_coefficient(self, candidate_words):\n",
        "        \"\"\"\n",
        "        args:\n",
        "            - candidate_words: single word, or list of words\n",
        "        \"\"\"\n",
        "        \n",
        "        # Optionally handle a single word\n",
        "        one_word = isinstance(candidate_words, str)\n",
        "        if one_word:\n",
        "            candidate_words = [candidate_words]\n",
        "\n",
        "        # Retrieve matrix of embeddings for candidate words\n",
        "        candidates_mat = np.array([\n",
        "            loaded_embeddings[words_to_index[candidate_word]]\n",
        "            for candidate_word in candidate_words\n",
        "        ])\n",
        "        # Compute the cosine similarity between the seed word and \n",
        "        #   the candidate word embeddings, and average\n",
        "        pos_sim = cosine_similarity(self.seed_pos_mat, candidates_mat).mean(axis=0)\n",
        "        neg_sim = cosine_similarity(self.seed_neg_mat, candidates_mat).mean(axis=0)\n",
        "        # Compute the difference between the average positive and negative similarities\n",
        "        diff = pos_sim - neg_sim\n",
        "\n",
        "        if one_word:\n",
        "            return diff[0]\n",
        "        else:\n",
        "            return diff"
      ],
      "execution_count": 0,
      "outputs": []
    },
    {
      "cell_type": "code",
      "metadata": {
        "id": "B8ho1OPve_Or",
        "colab_type": "code",
        "colab": {}
      },
      "source": [
        "sentiment_so = SemanticOrientation(\n",
        "    seed_pos=positive_words,\n",
        "    seed_neg=negative_words,\n",
        ")"
      ],
      "execution_count": 0,
      "outputs": []
    },
    {
      "cell_type": "markdown",
      "metadata": {
        "id": "iCokxNHHe_Oy",
        "colab_type": "text"
      },
      "source": [
        "Let's get the coefficients of some words and see if it lines up with our intuition."
      ]
    },
    {
      "cell_type": "code",
      "metadata": {
        "scrolled": true,
        "id": "MgIfflYpe_O0",
        "colab_type": "code",
        "outputId": "f756902a-89d7-41c4-a1d7-3565185acd8c",
        "colab": {
          "base_uri": "https://localhost:8080/",
          "height": 34
        }
      },
      "source": [
        "sentiment_so.determine_coefficient('abhorrent')"
      ],
      "execution_count": 0,
      "outputs": [
        {
          "output_type": "execute_result",
          "data": {
            "text/plain": [
              "-0.2712170238375182"
            ]
          },
          "metadata": {
            "tags": []
          },
          "execution_count": 9
        }
      ]
    },
    {
      "cell_type": "code",
      "metadata": {
        "id": "qnCoEmT4e_O6",
        "colab_type": "code",
        "outputId": "6446e2bd-74c1-4411-f24f-a8976c8d1a16",
        "colab": {
          "base_uri": "https://localhost:8080/",
          "height": 34
        }
      },
      "source": [
        "sentiment_so.determine_coefficient('excellent')"
      ],
      "execution_count": 0,
      "outputs": [
        {
          "output_type": "execute_result",
          "data": {
            "text/plain": [
              "0.2816580407857993"
            ]
          },
          "metadata": {
            "tags": []
          },
          "execution_count": 10
        }
      ]
    },
    {
      "cell_type": "code",
      "metadata": {
        "id": "u7s5-BXFe_O_",
        "colab_type": "code",
        "outputId": "42b48927-827b-4b16-fc9a-d66020a6e49a",
        "colab": {
          "base_uri": "https://localhost:8080/",
          "height": 34
        }
      },
      "source": [
        "sentiment_so.determine_coefficient('amazing')"
      ],
      "execution_count": 0,
      "outputs": [
        {
          "output_type": "execute_result",
          "data": {
            "text/plain": [
              "0.2068293944473673"
            ]
          },
          "metadata": {
            "tags": []
          },
          "execution_count": 11
        }
      ]
    },
    {
      "cell_type": "code",
      "metadata": {
        "id": "utlgXcWee_PH",
        "colab_type": "code",
        "outputId": "b8979125-4a8a-4222-84b2-44afea117d08",
        "colab": {
          "base_uri": "https://localhost:8080/",
          "height": 34
        }
      },
      "source": [
        "sentiment_so.determine_coefficient('okay')"
      ],
      "execution_count": 0,
      "outputs": [
        {
          "output_type": "execute_result",
          "data": {
            "text/plain": [
              "-0.011928961401575844"
            ]
          },
          "metadata": {
            "tags": []
          },
          "execution_count": 12
        }
      ]
    },
    {
      "cell_type": "code",
      "metadata": {
        "id": "zSjJ6ceRe_PO",
        "colab_type": "code",
        "outputId": "1ef5bc65-537c-4ca4-88c6-b367a81ac45b",
        "colab": {
          "base_uri": "https://localhost:8080/",
          "height": 34
        }
      },
      "source": [
        "sentiment_so.determine_coefficient('atrocious')"
      ],
      "execution_count": 0,
      "outputs": [
        {
          "output_type": "execute_result",
          "data": {
            "text/plain": [
              "-0.2749609244690855"
            ]
          },
          "metadata": {
            "tags": []
          },
          "execution_count": 13
        }
      ]
    },
    {
      "cell_type": "code",
      "metadata": {
        "id": "qm3h-qP29ttp",
        "colab_type": "code",
        "colab": {}
      },
      "source": [
        "def scatter_and_annotate(ax, x_values, y_values, labels, color):\n",
        "    ax.scatter(x_values, y_values, color=color)\n",
        "    for i, label in enumerate(labels):\n",
        "        ax.text(x_values[i], y_values[i], label, rotation=45)\n",
        "\n",
        "def plot_semantic_orientation(semantic_orientation, words):\n",
        "    fig = plt.figure(figsize=(8, 4))\n",
        "    ax = fig.gca()\n",
        "    x_values = semantic_orientation.determine_coefficient(semantic_orientation.seed_pos) \n",
        "    x_values = semantic_orientation.determine_coefficient(semantic_orientation.seed_pos) \n",
        "\n",
        "    scatter_and_annotate(\n",
        "        ax=ax,\n",
        "        x_values=semantic_orientation.determine_coefficient(semantic_orientation.seed_pos),\n",
        "        y_values=[0] * len(semantic_orientation.seed_pos),\n",
        "        labels=semantic_orientation.seed_pos,\n",
        "        color=\"blue\",\n",
        "    )\n",
        "    scatter_and_annotate(\n",
        "        ax=ax,\n",
        "        x_values=semantic_orientation.determine_coefficient(semantic_orientation.seed_neg),\n",
        "        y_values=[0] * len(semantic_orientation.seed_neg),\n",
        "        labels=semantic_orientation.seed_neg,\n",
        "        color=\"red\",\n",
        "    )\n",
        "    ax.axhline(0, color=\"gray\")\n",
        "\n",
        "    scatter_and_annotate(\n",
        "        ax=ax,\n",
        "        x_values=semantic_orientation.determine_coefficient(words),\n",
        "        y_values=[-2] * len(words),\n",
        "        labels=words,\n",
        "        color=\"purple\",\n",
        "    )\n",
        "    ax.axhline(-2, color=\"black\")\n",
        "    ax.set_ylim(-2.5, 1)\n",
        "    ax.set_yticks([-2, 0])\n",
        "    ax.set_yticklabels([\"words\", \"seed\"])"
      ],
      "execution_count": 0,
      "outputs": []
    },
    {
      "cell_type": "code",
      "metadata": {
        "id": "R6eXvmqT9GAx",
        "colab_type": "code",
        "outputId": "23effd90-cdc0-4bdc-af88-646d8cbd850a",
        "colab": {
          "base_uri": "https://localhost:8080/",
          "height": 265
        }
      },
      "source": [
        "plot_semantic_orientation(\n",
        "    semantic_orientation=sentiment_so, \n",
        "    words=[\"abhorrent\", \"excellent\", \"amazing\", \"okay\", \"atrocious\"],\n",
        ")"
      ],
      "execution_count": 0,
      "outputs": [
        {
          "output_type": "display_data",
          "data": {
            "image/png": "[encoded data removed]",
            "text/plain": [
              "<Figure size 576x288 with 1 Axes>"
            ]
          },
          "metadata": {
            "tags": []
          }
        }
      ]
    },
    {
      "cell_type": "markdown",
      "metadata": {
        "id": "GAXq32WIe_PU",
        "colab_type": "text"
      },
      "source": [
        "And sort our vocabulary by its score along the axis. For now, we're only scoring frequent words, since this process can be slow."
      ]
    },
    {
      "cell_type": "markdown",
      "metadata": {
        "id": "kIXIX_LLApL5",
        "colab_type": "text"
      },
      "source": [
        "### Question 1.1 [10]\n",
        "\n",
        "Using `sentiment_so`, compute the coefficients of all `ordered_words` and show the 10 most positive and 10 most negative words."
      ]
    },
    {
      "cell_type": "code",
      "metadata": {
        "id": "RX3HSrbfe_PV",
        "colab_type": "code",
        "outputId": "8523c49f-e072-4172-f4ca-28e3248f8394",
        "colab": {
          "base_uri": "https://localhost:8080/",
          "height": 459
        }
      },
      "source": [
        "def show_tops(sentiment_so, ordered_words, tops):\n",
        "  order_words_so = pd.Series(sentiment_so.determine_coefficient(ordered_words),index=ordered_words).sort_values(ascending=False)\n",
        "  print(\"The 10 most positive is \\n\",order_words_so[:tops],\"\\n\\n\")\n",
        "  print(\"The 10 most negative is \\n\",order_words_so[-tops:])\n",
        "show_tops(sentiment_so, ordered_words, 10)"
      ],
      "execution_count": 0,
      "outputs": [
        {
          "output_type": "stream",
          "text": [
            "The 10 most positive is \n",
            " golden       0.332636\n",
            "alongside    0.322001\n",
            "famed        0.317862\n",
            "award        0.315711\n",
            "named        0.312229\n",
            "pioneer      0.310568\n",
            "star         0.306124\n",
            "eagle        0.305612\n",
            "diamond      0.304883\n",
            "master       0.304087\n",
            "dtype: float64 \n",
            "\n",
            "\n",
            "The 10 most negative is \n",
            " unjustifiable   -0.312373\n",
            "profiteering    -0.312473\n",
            "complicit       -0.322153\n",
            "avoidable       -0.322462\n",
            "malfeasance     -0.323151\n",
            "inexcusable     -0.329084\n",
            "cautioning      -0.339960\n",
            "mongering       -0.342252\n",
            "inaction        -0.352449\n",
            "deplore         -0.356517\n",
            "dtype: float64\n"
          ],
          "name": "stdout"
        }
      ]
    },
    {
      "cell_type": "markdown",
      "metadata": {
        "id": "G7x_GhEge_Ph",
        "colab_type": "text"
      },
      "source": [
        "### Question 1.2 [30]\n",
        "\n",
        "1. Create another `SemanticOrientation` object with a different set of contrasting \"positive\" and \"negative\" categories that are unrelated to sentiment (e.g solids vs. liquids, living things vs objects) and corresponding seed words. Have at least 5 words per category.\n",
        "2. Pick another 5 words in either category and show their coefficients. Display them using the plotting code from above.\n",
        "3. Using `ordered_words`, show the 10 most positive and 10 most \"negative\" words.\n",
        "4. Pick 2 words that are unrelated to either category, compute their coefficients, and comment on them."
      ]
    },
    {
      "cell_type": "code",
      "metadata": {
        "id": "VsQhgLeae_Pi",
        "colab_type": "code",
        "colab": {}
      },
      "source": [
        "posi_words = [\"animal\",\"dog\",\"cat\",\"human\",\"people\",\"pets\"]\n",
        "neg_words = [\"rock\",\"river\",\"mountain\",\"tree\",\"ocean\",\"sea\"]\n",
        "\n",
        "so_animal_vs_rock = SemanticOrientation(seed_pos=posi_words, seed_neg=negative_words)"
      ],
      "execution_count": 0,
      "outputs": []
    },
    {
      "cell_type": "code",
      "metadata": {
        "id": "KJaS4_yAOA1r",
        "colab_type": "code",
        "outputId": "ad1a80c2-1d77-4c79-ce69-c91436fb807a",
        "colab": {
          "base_uri": "https://localhost:8080/",
          "height": 265
        }
      },
      "source": [
        "plot_semantic_orientation(\n",
        "    semantic_orientation=so_animal_vs_rock, \n",
        "    words=[\"water\", \"puppy\", \"kitten\", \"snow\", \"earth\"],\n",
        ")"
      ],
      "execution_count": 0,
      "outputs": [
        {
          "output_type": "display_data",
          "data": {
            "image/png": "[encoded data removed]",
            "text/plain": [
              "<Figure size 576x288 with 1 Axes>"
            ]
          },
          "metadata": {
            "tags": []
          }
        }
      ]
    },
    {
      "cell_type": "code",
      "metadata": {
        "id": "cy-ICA-ROvqg",
        "colab_type": "code",
        "outputId": "f1452c39-5b99-4509-fb6b-144239835ac4",
        "colab": {
          "base_uri": "https://localhost:8080/",
          "height": 459
        }
      },
      "source": [
        "show_tops(so_animal_vs_rock, ordered_words, 10)"
      ],
      "execution_count": 0,
      "outputs": [
        {
          "output_type": "stream",
          "text": [
            "The 10 most positive is \n",
            " mammal        0.484386\n",
            "elephant      0.468456\n",
            "panda         0.457522\n",
            "parrot        0.453117\n",
            "cloned        0.439439\n",
            "inflatable    0.437091\n",
            "turtle        0.432099\n",
            "chimpanzee    0.431677\n",
            "reptile       0.428993\n",
            "whale         0.420556\n",
            "dtype: float64 \n",
            "\n",
            "\n",
            "The 10 most negative is \n",
            " sentimentality     -0.417669\n",
            "notwithstanding    -0.419955\n",
            "intransigence      -0.421176\n",
            "rancor             -0.423538\n",
            "aggravation        -0.427635\n",
            "utter              -0.429163\n",
            "seeming            -0.433223\n",
            "uncharacteristic   -0.433256\n",
            "inconsistency      -0.434516\n",
            "indecision         -0.466489\n",
            "dtype: float64\n"
          ],
          "name": "stdout"
        }
      ]
    },
    {
      "cell_type": "code",
      "metadata": {
        "id": "qCnk2fgKPHee",
        "colab_type": "code",
        "outputId": "fdc293bd-afc0-4174-924a-94fcfebb73d1",
        "colab": {
          "base_uri": "https://localhost:8080/",
          "height": 34
        }
      },
      "source": [
        "words_unrelated = [\"cup\",\"glass\"]\n",
        "coefficient = cosine_similarity(loaded_embeddings[words_to_index[words_unrelated[0]]].reshape(1,-1), loaded_embeddings[words_to_index[words_unrelated[1]]].reshape(1,-1))\n",
        "print(\"The coefficient between {} and {} is {}\".format(words_unrelated[0], words_unrelated[1], float(coefficient)))"
      ],
      "execution_count": 0,
      "outputs": [
        {
          "output_type": "stream",
          "text": [
            "The coefficient between cup and glass is 0.28476156067463343\n"
          ],
          "name": "stdout"
        }
      ]
    },
    {
      "cell_type": "markdown",
      "metadata": {
        "id": "CxO7owlte_Py",
        "colab_type": "text"
      },
      "source": [
        "# Part 2: Exploring effect of context size [60 pts]"
      ]
    },
    {
      "cell_type": "markdown",
      "metadata": {
        "id": "qaVVYaUbe_P0",
        "colab_type": "text"
      },
      "source": [
        "Let's take a step back and assume we are creating word embeddings from scratch.\n",
        "\n",
        "We face many implicit and explicit design decisions in creating distributional word representations. In lecture, we discussed creating vectors using a co-occurence matrix built on neighboring pairs of words. We might suspect, however, that we can get more signal of word similarity by considering larger contexts than pairs of words."
      ]
    },
    {
      "cell_type": "markdown",
      "metadata": {
        "id": "Vpwg6x8xs9bP",
        "colab_type": "text"
      },
      "source": [
        "We're going to download two files:\n",
        "\n",
        "1. `sst.txt`, a list of sentences from the [Stanford Sentiment Treebank](https://nlp.stanford.edu/sentiment/treebank.html).\n",
        "2. `MTURK-771.csv`, a [word-relatedness dataset](http://www2.mta.ac.il/~gideon/mturk771.html)."
      ]
    },
    {
      "cell_type": "code",
      "metadata": {
        "id": "7kE54j3Hs98q",
        "colab_type": "code",
        "outputId": "86ead49a-ac87-489a-8b01-88aa43353fba",
        "colab": {
          "base_uri": "https://localhost:8080/",
          "height": 493
        }
      },
      "source": [
        "!wget https://docs.google.com/uc?id=1uDpAm-eoZx-kS7UAPELfH0gGAxekkDVd -O sst.txt\n",
        "!wget http://www2.mta.ac.il/~gideon/datasets/MTURK-771.csv -O MTURK-771.csv"
      ],
      "execution_count": 0,
      "outputs": [
        {
          "output_type": "stream",
          "text": [
            "--2020-02-23 17:06:56--  https://docs.google.com/uc?id=1uDpAm-eoZx-kS7UAPELfH0gGAxekkDVd\n",
            "Resolving docs.google.com (docs.google.com)... 173.194.216.102, 173.194.216.113, 173.194.216.101, ...\n",
            "Connecting to docs.google.com (docs.google.com)|173.194.216.102|:443... connected.\n",
            "HTTP request sent, awaiting response... 302 Moved Temporarily\n",
            "Location: https://doc-00-0g-docs.googleusercontent.com/docs/securesc/ha0ro937gcuc7l7deffksulhg5h7mbp1/1uq069fvg2904svcn2flauaqc2mvta67/1582477200000/14514704803973256873/*/1uDpAm-eoZx-kS7UAPELfH0gGAxekkDVd [following]\n",
            "Warning: wildcards not supported in HTTP.\n",
            "--2020-02-23 17:06:57--  https://doc-00-0g-docs.googleusercontent.com/docs/securesc/ha0ro937gcuc7l7deffksulhg5h7mbp1/1uq069fvg2904svcn2flauaqc2mvta67/1582477200000/14514704803973256873/*/1uDpAm-eoZx-kS7UAPELfH0gGAxekkDVd\n",
            "Resolving doc-00-0g-docs.googleusercontent.com (doc-00-0g-docs.googleusercontent.com)... 172.217.204.132, 2607:f8b0:400c:c15::84\n",
            "Connecting to doc-00-0g-docs.googleusercontent.com (doc-00-0g-docs.googleusercontent.com)|172.217.204.132|:443... connected.\n",
            "HTTP request sent, awaiting response... 200 OK\n",
            "Length: 1290263 (1.2M) [text/plain]\n",
            "Saving to: ‘sst.txt’\n",
            "\n",
            "sst.txt             100%[===================>]   1.23M  --.-KB/s    in 0.007s  \n",
            "\n",
            "2020-02-23 17:06:57 (164 MB/s) - ‘sst.txt’ saved [1290263/1290263]\n",
            "\n",
            "--2020-02-23 17:06:57--  http://www2.mta.ac.il/~gideon/datasets/MTURK-771.csv\n",
            "Resolving www2.mta.ac.il (www2.mta.ac.il)... 192.116.64.52\n",
            "Connecting to www2.mta.ac.il (www2.mta.ac.il)|192.116.64.52|:80... connected.\n",
            "HTTP request sent, awaiting response... 200 OK\n",
            "Length: 19629 (19K) [text/csv]\n",
            "Saving to: ‘MTURK-771.csv’\n",
            "\n",
            "MTURK-771.csv       100%[===================>]  19.17K   123KB/s    in 0.2s    \n",
            "\n",
            "2020-02-23 17:06:58 (123 KB/s) - ‘MTURK-771.csv’ saved [19629/19629]\n",
            "\n"
          ],
          "name": "stdout"
        }
      ]
    },
    {
      "cell_type": "code",
      "metadata": {
        "id": "aUXiGZ1Ie_P3",
        "colab_type": "code",
        "colab": {}
      },
      "source": [
        "mturk_path = \"./MTURK-771.csv\"\n",
        "sst_path = \"./sst.txt\""
      ],
      "execution_count": 0,
      "outputs": []
    },
    {
      "cell_type": "markdown",
      "metadata": {
        "id": "mqh5wfjHNb91",
        "colab_type": "text"
      },
      "source": [
        "First, we will load the SST data."
      ]
    },
    {
      "cell_type": "code",
      "metadata": {
        "id": "cM4zMwY9NaPp",
        "colab_type": "code",
        "outputId": "5547d1bb-7338-41eb-8062-2b3dffab7706",
        "colab": {
          "base_uri": "https://localhost:8080/",
          "height": 66,
          "referenced_widgets": [
            "b6cd5e0f1ecb40788612948d5dcb61eb",
            "8f853349dacb48729dfd9769740ea6aa",
            "2dcd270d67ce4db58b5403f6b9ae947e",
            "78a04b9a80b248478fd4d28358975da2",
            "1e61d26ac6234dceba0f4e5dbb6aee66",
            "326c79c250024c7f8507a0b01858f9d8",
            "30eceede0ee64a58b2929aeff34675f1",
            "1deed71adcfb4708b4cf31321c8ac5ca"
          ]
        }
      },
      "source": [
        "def load_sst(sst_path):\n",
        "    tokenizer = sacremoses.MosesTokenizer()\n",
        "    results = []\n",
        "    for line in tqdm.tqdm_notebook(pd.read_csv(sst_path, sep=\"\\t\")[\"sentence\"].values):\n",
        "        results.append(tokenizer.tokenize(line))\n",
        "    return results\n",
        "data = load_sst(sst_path)"
      ],
      "execution_count": 0,
      "outputs": [
        {
          "output_type": "display_data",
          "data": {
            "application/vnd.jupyter.widget-view+json": {
              "model_id": "b6cd5e0f1ecb40788612948d5dcb61eb",
              "version_minor": 0,
              "version_major": 2
            },
            "text/plain": [
              "HBox(children=(IntProgress(value=0, max=11855), HTML(value='')))"
            ]
          },
          "metadata": {
            "tags": []
          }
        },
        {
          "output_type": "stream",
          "text": [
            "\n"
          ],
          "name": "stdout"
        }
      ]
    },
    {
      "cell_type": "markdown",
      "metadata": {
        "id": "B4ncGmpye_P1",
        "colab_type": "text"
      },
      "source": [
        "### Question 2.1 [45]\n",
        "\n",
        "Implement:\n",
        "* `get_token_frequencies_and_cooccurrences`\n",
        "* `prune_vocabulary`\n",
        "* `build_cooccurrence_mat_from_counts`\n",
        "\n",
        "Each of these will be used in  `build_cooccurrence_matrix`, which generates the co-occurence matrix for a window of arbitrary size and for the vocabulary of `max_vocab_size` most frequent words. "
      ]
    },
    {
      "cell_type": "code",
      "metadata": {
        "id": "nApzVKpKgqeL",
        "colab_type": "code",
        "colab": {}
      },
      "source": [
        "import math"
      ],
      "execution_count": 0,
      "outputs": []
    },
    {
      "cell_type": "code",
      "metadata": {
        "id": "nGMhTNM5NM5j",
        "colab_type": "code",
        "colab": {}
      },
      "source": [
        "def build_cooccurrence_matrix(data, max_vocab_size=20000, context_size=2, verbose=True):\n",
        "    \"\"\" \n",
        "    args:\n",
        "        - data: iterable where each item is a string sentence\n",
        "        - max_vocab_size: maximum vocabulary size\n",
        "        \n",
        "    returns:\n",
        "        - coocur_mat: co-occurrence matrix as a numpy array\n",
        "    \"\"\"\n",
        "    if verbose:\n",
        "        print(\"Counting words...\")\n",
        "    start_time = time.time()\n",
        "    tok2freq, cooccur_counts = get_token_frequencies_and_cooccurrences(data, context_size)\n",
        "    if verbose:\n",
        "        print(\"\\tFinished counting %d words in %.5f\" % (len(tok2freq), time.time() - start_time))\n",
        "        print(\"Pruning vocabulary...\")\n",
        "    tok2idx, idx2tok = prune_vocabulary(tok2freq, max_vocab_size)\n",
        "    start_time = time.time()\n",
        "    if verbose:\n",
        "        print(\"\\tFinished pruning vocabulary to %d words in %.5f\" % (len(tok2idx), time.time() - start_time))\n",
        "        print(\"Building co-occurrence matrix...\")\n",
        "    start_time = time.time()\n",
        "    cooccur_mat = build_cooccurrence_mat_from_counts(idx2tok, cooccur_counts)\n",
        "    if verbose:\n",
        "        print(\"\\tFinished building co-occurrence matrix in %.5f\" % (time.time() - start_time))\n",
        "    return cooccur_mat, tok2idx, idx2tok, cooccur_counts"
      ],
      "execution_count": 0,
      "outputs": []
    },
    {
      "cell_type": "code",
      "metadata": {
        "colab_type": "code",
        "id": "ai5pnuntGjFz",
        "colab": {}
      },
      "source": [
        "from collections import defaultdict\n",
        "\n",
        "def get_token_frequencies_and_cooccurrences(data, context_size):\n",
        "    \"\"\" \n",
        "    Compute token frequencies and cooccurrences from data\n",
        "\n",
        "    args: \n",
        "        - data: a list of list of words (or tokens)\n",
        "        - context_size: the vocabulary size to prune to\n",
        "    \n",
        "    return:\n",
        "        A tuple containing:\n",
        "        - tok2freq: a dictionary mapping from words to count\n",
        "        - cooccur_counts: a dictionary of dictionaries, where\n",
        "\n",
        "              cooccur_counts[word1][word2]\n",
        "\n",
        "          is how often word1 cooccurs with word2 within a given context_size\n",
        "    \"\"\"\n",
        "    tok2freq = defaultdict(int)\n",
        "    cooccur_counts = defaultdict(lambda: defaultdict(int))\n",
        "\n",
        "    for datum in data:\n",
        "        for i, tok in enumerate(datum):\n",
        "            tok2freq[tok] += 1\n",
        "            for k in range(context_size + 1):\n",
        "                # === Exercise Start [1/3] === #\n",
        "                if i + k < len(datum):\n",
        "                    cooccur_counts[tok][datum[i + k]] += 1\n",
        "                # === Exercise End [1/3] === #\n",
        "    return tok2freq, cooccur_counts\n",
        "\n",
        "def prune_vocabulary(tok2freq, max_vocab_size):\n",
        "    \"\"\" \n",
        "    Prune vocab by taking max_vocab_size most frequent words \n",
        "\n",
        "    args: \n",
        "        - tok2freq: a dictionary mapping from words to count\n",
        "        - max_vocab_size: the vocabulary size to prune to\n",
        "    \n",
        "    return:\n",
        "        A tuple containing:\n",
        "        - tok2idx: a dictionary mapping from words to the index in idx2tok\n",
        "        - idx2tok: a list of words (the vocabulary), of length max_vocab_size\n",
        "    \"\"\"\n",
        "    \n",
        "    tok_and_freqs = [(k, v) for k, v in tok2freq.items()]\n",
        "    # === Exercise Start [2/3] === #\n",
        "    for i in range(round(math.sqrt(len(tok_and_freqs)))):\n",
        "      for j in range(len(tok_and_freqs)-1):\n",
        "        if tok_and_freqs[j][1] <  tok_and_freqs[j+1][1]:\n",
        "            temp = tok_and_freqs[j]\n",
        "            tok_and_freqs[j] = tok_and_freqs[j+1]\n",
        "            tok_and_freqs[j+1] = temp\n",
        "    tok_and_freqs = tok_and_freqs[:max_vocab_size]\n",
        "    tok2idx = { item[0]: i  for i, item in enumerate(tok_and_freqs)}\n",
        "    idx2tok = list(tok2idx.keys())\n",
        "    \n",
        "    # === Exercise End [2/3] === #\n",
        "    return tok2idx, idx2tok\n",
        "\n",
        "def build_cooccurrence_mat_from_counts(idx2tok, cooccur_counts):\n",
        "    \"\"\" Build a cooccurrence matrix from counts and a vocab\n",
        "    args:\n",
        "        - idx2tok: a list of words (the vocabulary), of length N\n",
        "        - cooccur_counts: a dictionary of dictionaries, where\n",
        "\n",
        "              cooccur_counts[word1][word2]\n",
        "\n",
        "          is how often word1 cooccurs with word2\n",
        "    return:\n",
        "        - mat: an NxN matrix (symmetric) of the occurrence counts of the\n",
        "               words in idx2tok\n",
        "    \"\"\"\n",
        "    vocab_size = len(idx2tok)\n",
        "    mat = np.zeros([vocab_size, vocab_size])\n",
        "    for i in tqdm.tqdm_notebook(range(vocab_size)):\n",
        "        for j in range(i, vocab_size):\n",
        "            # === Exercise Start [3/3] === #\n",
        "            word1, word2 = idx2tok[i], idx2tok[j]\n",
        "            counts = cooccur_counts[word1][word2] + cooccur_counts[word2][word1]\n",
        "            mat[i,j] = counts\n",
        "            mat[j,i] = counts\n",
        "            # === Exercise End [3/3] === #\n",
        "    return mat"
      ],
      "execution_count": 0,
      "outputs": []
    },
    {
      "cell_type": "markdown",
      "metadata": {
        "id": "LfImY8VcNl5z",
        "colab_type": "text"
      },
      "source": [
        "Let's build a cooccurrence matrix with `context_size=2`."
      ]
    },
    {
      "cell_type": "code",
      "metadata": {
        "id": "oaIAY8oTEXLP",
        "colab_type": "code",
        "outputId": "a02417f6-a55c-4f3f-f18a-a2ae809926fb",
        "colab": {
          "base_uri": "https://localhost:8080/",
          "height": 168,
          "referenced_widgets": [
            "62c08b68e57a4b27854729effec3e5ac",
            "a84b6505b7264cb1b94e0c5cc29ba72b",
            "4688511d52e844b496724997de7161a9",
            "62b79de09d6c4ce38e47f4ba7a6f9ba9",
            "c36f852d427c47679e9e085709c48c4c",
            "de6260c14ee8437d8a1141af37960d06",
            "4adfb6f9c34b49b3bd7d91caa32d8cd2",
            "6232b1ccc072407ea2bdbf1664b3bd23"
          ]
        }
      },
      "source": [
        "mat, tok2idx, idx2tok, _ = build_cooccurrence_matrix(data, max_vocab_size=10000, context_size=2)"
      ],
      "execution_count": 0,
      "outputs": [
        {
          "output_type": "stream",
          "text": [
            "Counting words...\n",
            "\tFinished counting 21669 words in 0.49126\n",
            "Pruning vocabulary...\n",
            "\tFinished pruning vocabulary to 10000 words in 0.00000\n",
            "Building co-occurrence matrix...\n"
          ],
          "name": "stdout"
        },
        {
          "output_type": "display_data",
          "data": {
            "application/vnd.jupyter.widget-view+json": {
              "model_id": "62c08b68e57a4b27854729effec3e5ac",
              "version_minor": 0,
              "version_major": 2
            },
            "text/plain": [
              "HBox(children=(IntProgress(value=0, max=10000), HTML(value='')))"
            ]
          },
          "metadata": {
            "tags": []
          }
        },
        {
          "output_type": "stream",
          "text": [
            "\n",
            "\tFinished building co-occurrence matrix in 100.86621\n"
          ],
          "name": "stdout"
        }
      ]
    },
    {
      "cell_type": "code",
      "metadata": {
        "id": "aNe_CAgre_QK",
        "colab_type": "code",
        "outputId": "7853a90f-8591-4058-a264-9b3439998fdb",
        "colab": {
          "base_uri": "https://localhost:8080/",
          "height": 34
        }
      },
      "source": [
        "tok1 = \"the\"\n",
        "tok2 = \"end\"\n",
        "print(\"'{}' and '{}' co-occur {} times\".format(tok1, tok2, mat[tok2idx[tok1]][tok2idx[tok2]]))"
      ],
      "execution_count": 0,
      "outputs": [
        {
          "output_type": "stream",
          "text": [
            "'the' and 'end' co-occur 98.0 times\n"
          ],
          "name": "stdout"
        }
      ]
    },
    {
      "cell_type": "markdown",
      "metadata": {
        "id": "h_iprP4ve_QQ",
        "colab_type": "text"
      },
      "source": [
        "### Question 2.2 [15]\n",
        "\n",
        "We are going to evaluate the effect of varying context size in $\\{1, 2, 3, 4\\}$ (leaving all the other settings the same) on the quality of the learned word embeddings, as measured by performance (Spearman correlation) on the word similarity dataset [MTurk-771](http://www2.mta.ac.il/~gideon/mturk771.html) between human judgments and cosine similarity of the learned word vectors (the coccurrence matrices).\n",
        "\n",
        "In this exercise, you will fill in parts of the code in the `evaluate_word_similarity` function. (Hint: make use of the imports we include at the top of the code block; the solution should be pretty short!)"
      ]
    },
    {
      "cell_type": "code",
      "metadata": {
        "id": "ktX17VQ9MjCH",
        "colab_type": "code",
        "colab": {}
      },
      "source": [
        "# Hint: some helpful imports!\n",
        "from scipy.stats import spearmanr\n",
        "from sklearn.metrics.pairwise import cosine_similarity\n",
        "\n",
        "\n",
        "def load_word_similarity_dataset(data_file):\n",
        "    mturk_df = pd.read_csv(mturk_path, names=[\"word1\", \"word2\", \"similarity\"])\n",
        "    return mturk_df\n",
        "\n",
        "\n",
        "def evaluate_word_similarity(mturk_df, mat, tok2idx):\n",
        "    \"\"\" Evaluate the word embeddings by comparing the word similarities \n",
        "        to the word similarity scores from the MTurk-771 data.\n",
        "    Notes:\n",
        "        - In some cases, the words in the MTurk-771 data may not appear in \n",
        "          our vocabulary. In those cases, we will simpy skip over those\n",
        "          MTurk-771 examples.\n",
        "        - Use cosine_similarity to compute word similarities, and use\n",
        "          spearmanr to compute the overall rank correlation.\n",
        "\n",
        "    args:\n",
        "        - mturk_df: DataFrame of MTurk-711 data\n",
        "        - mat: cooccurrence matrix computed from above. These will serve as \n",
        "               our word embeddings.\n",
        "        - idx2tok: a list of words (the vocabulary), of length N\n",
        "\n",
        "    return:\n",
        "        - rho: the rank correlation between the predicted word similarities\n",
        "               and the ground truth word similarities from MTurk-771\n",
        "    \"\"\"\n",
        "    preds = []\n",
        "    trgs = []\n",
        "    n_exs = 0\n",
        "    for row in mturk_df.itertuples():\n",
        "        if row.word1 in tok2idx and row.word2 in tok2idx:\n",
        "            # === Exercise Start [1/2] === #\n",
        "            pred_sim = float(cosine_similarity(mat[tok2idx[row.word1]].reshape(1,-1), mat[tok2idx[row.word2]].reshape(1,-1)))\n",
        "            # === Exercise End [1/2] === #\n",
        "            preds.append(pred_sim)\n",
        "            trgs.append(row.similarity)\n",
        "            n_exs += 1\n",
        "\n",
        "    # === Exercise Start [2/2] === #\n",
        "    rho = spearmanr(preds, trgs)[0]\n",
        "    # === Exercise End [2/2] === #\n",
        "    print(\"Evaluated on %d of %d examples\" % (n_exs, len(mturk_df)))\n",
        "    return rho"
      ],
      "execution_count": 0,
      "outputs": []
    },
    {
      "cell_type": "code",
      "metadata": {
        "id": "ksl3dtOhe_QW",
        "colab_type": "code",
        "outputId": "5e471bae-a94a-4686-b8cd-e0d37c1f669f",
        "colab": {
          "base_uri": "https://localhost:8080/",
          "height": 706,
          "referenced_widgets": [
            "75badea0837e492a90d56c1b65eb165c",
            "c522779cb2df464aa690b4b59a4c9fd2",
            "9c12fe4eca134186b2bd73f0e0ab70bc",
            "47a4a3d7b1d249e5822c118cecf0432e",
            "c2291c6e91e9456fa1684b6ff8c630ba",
            "d4bbbc92e2fa4047995149bd43e74492",
            "ef07cd59d8984ed48fe6d2f0311b8401",
            "df269b478c974b12a849967857574587",
            "1fe1545b88c944b2aefdb6f99e91a379",
            "a1f96a267163456c922477d1663a64bd",
            "67a16fcf3aa642e8a6de9fb6be6a2924",
            "4ca86de23d49446286c429f151e47e54",
            "69b920910d674b04960c664c6d58a3aa",
            "aeeeca0bab2047e5875859d941e5727b",
            "6d0616e6f703477690e897aeacf75676",
            "d6a92dcfe77b4db4890dcc721bb3db23",
            "a209a928c54c4e99a13aa40cd93f0b7c",
            "fd8211bcb3eb4dc0ac5331d53a275767",
            "5a55deba759f407db7d0101fa2089051",
            "97841b9676b1447ea2e38c2d25ed992b",
            "7337024369dc4f50b7d3f107efce5a85",
            "088cfff2f07a432087c4fba3d3527301",
            "5d60ccb87a67450ba8a27c16d10e8da5",
            "9937d579656a4fbfb06efef8c99b4b7e",
            "ae0f2974c30a442aad7e3b9a76baf612",
            "25982c40dbcf408b91eb43dfd342c246",
            "b06babbd10b0409d82cf3578f55ca09e",
            "459e4f973c814895b9af01b86630a9ed",
            "4d294d670ce4490c963b7b38e7149436",
            "faa0a8be569f42bcabe6db0024ca7354",
            "3c6e1cec3f524933bedcf444ac70a932",
            "32098f86c12841da9e1553e3de2dcea1"
          ]
        }
      },
      "source": [
        "mturk_df = load_word_similarity_dataset(mturk_path)\n",
        "scores = []\n",
        "context_sizes = [1, 2, 3, 4]\n",
        "for context_size in context_sizes:\n",
        "    mat, tok2idx, idx2tok, _ = build_cooccurrence_matrix(data, max_vocab_size=10000, context_size=context_size)\n",
        "    score = evaluate_word_similarity(mturk_df, mat, tok2idx)\n",
        "    scores.append(score)\n",
        "print(scores)"
      ],
      "execution_count": 0,
      "outputs": [
        {
          "output_type": "stream",
          "text": [
            "Counting words...\n",
            "\tFinished counting 21669 words in 0.34846\n",
            "Pruning vocabulary...\n",
            "\tFinished pruning vocabulary to 10000 words in 0.00000\n",
            "Building co-occurrence matrix...\n"
          ],
          "name": "stdout"
        },
        {
          "output_type": "display_data",
          "data": {
            "application/vnd.jupyter.widget-view+json": {
              "model_id": "75badea0837e492a90d56c1b65eb165c",
              "version_minor": 0,
              "version_major": 2
            },
            "text/plain": [
              "HBox(children=(IntProgress(value=0, max=10000), HTML(value='')))"
            ]
          },
          "metadata": {
            "tags": []
          }
        },
        {
          "output_type": "stream",
          "text": [
            "\n",
            "\tFinished building co-occurrence matrix in 101.27655\n",
            "Evaluated on 197 of 771 examples\n",
            "Counting words...\n",
            "\tFinished counting 21669 words in 0.47512\n",
            "Pruning vocabulary...\n",
            "\tFinished pruning vocabulary to 10000 words in 0.00000\n",
            "Building co-occurrence matrix...\n"
          ],
          "name": "stdout"
        },
        {
          "output_type": "display_data",
          "data": {
            "application/vnd.jupyter.widget-view+json": {
              "model_id": "1fe1545b88c944b2aefdb6f99e91a379",
              "version_minor": 0,
              "version_major": 2
            },
            "text/plain": [
              "HBox(children=(IntProgress(value=0, max=10000), HTML(value='')))"
            ]
          },
          "metadata": {
            "tags": []
          }
        },
        {
          "output_type": "stream",
          "text": [
            "\n",
            "\tFinished building co-occurrence matrix in 111.81448\n",
            "Evaluated on 197 of 771 examples\n",
            "Counting words...\n",
            "\tFinished counting 21669 words in 1.45380\n",
            "Pruning vocabulary...\n",
            "\tFinished pruning vocabulary to 10000 words in 0.00000\n",
            "Building co-occurrence matrix...\n"
          ],
          "name": "stdout"
        },
        {
          "output_type": "display_data",
          "data": {
            "application/vnd.jupyter.widget-view+json": {
              "model_id": "a209a928c54c4e99a13aa40cd93f0b7c",
              "version_minor": 0,
              "version_major": 2
            },
            "text/plain": [
              "HBox(children=(IntProgress(value=0, max=10000), HTML(value='')))"
            ]
          },
          "metadata": {
            "tags": []
          }
        },
        {
          "output_type": "stream",
          "text": [
            "\n",
            "\tFinished building co-occurrence matrix in 108.33731\n",
            "Evaluated on 197 of 771 examples\n",
            "Counting words...\n",
            "\tFinished counting 21669 words in 0.71300\n",
            "Pruning vocabulary...\n",
            "\tFinished pruning vocabulary to 10000 words in 0.00001\n",
            "Building co-occurrence matrix...\n"
          ],
          "name": "stdout"
        },
        {
          "output_type": "display_data",
          "data": {
            "application/vnd.jupyter.widget-view+json": {
              "model_id": "ae0f2974c30a442aad7e3b9a76baf612",
              "version_minor": 0,
              "version_major": 2
            },
            "text/plain": [
              "HBox(children=(IntProgress(value=0, max=10000), HTML(value='')))"
            ]
          },
          "metadata": {
            "tags": []
          }
        },
        {
          "output_type": "stream",
          "text": [
            "\n",
            "\tFinished building co-occurrence matrix in 118.19032\n",
            "Evaluated on 197 of 771 examples\n",
            "[-0.004682393197378277, 0.019790821317139922, 0.04344536603739426, 0.09216468343999126]\n"
          ],
          "name": "stdout"
        }
      ]
    },
    {
      "cell_type": "code",
      "metadata": {
        "id": "m7ZMgciye_Qa",
        "colab_type": "code",
        "outputId": "f623d0ff-bf10-4f2a-e3fc-f65f7351bec6",
        "colab": {
          "base_uri": "https://localhost:8080/",
          "height": 296
        }
      },
      "source": [
        "plt.plot(context_sizes, scores, marker='o')\n",
        "plt.xlabel(\"Context size\")\n",
        "plt.ylabel(\"Word similarity correlation\")"
      ],
      "execution_count": 0,
      "outputs": [
        {
          "output_type": "execute_result",
          "data": {
            "text/plain": [
              "Text(0, 0.5, 'Word similarity correlation')"
            ]
          },
          "metadata": {
            "tags": []
          },
          "execution_count": 57
        },
        {
          "output_type": "display_data",
          "data": {
            "image/png": "[encoded data removed]",
            "text/plain": [
              "<Figure size 432x288 with 1 Axes>"
            ]
          },
          "metadata": {
            "tags": []
          }
        }
      ]
    },
    {
      "cell_type": "code",
      "metadata": {
        "id": "JvvTXLbne_Qf",
        "colab_type": "code",
        "colab": {}
      },
      "source": [
        ""
      ],
      "execution_count": 0,
      "outputs": []
    }
  ]
}