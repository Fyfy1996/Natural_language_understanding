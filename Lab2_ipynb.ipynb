{
  "nbformat": 4,
  "nbformat_minor": 0,
  "metadata": {
    "kernelspec": {
      "name": "python3",
      "display_name": "Python 3"
    },
    "language_info": {
      "codemirror_mode": {
        "name": "ipython",
        "version": 3
      },
      "file_extension": ".py",
      "mimetype": "text/x-python",
      "name": "python",
      "nbconvert_exporter": "python",
      "pygments_lexer": "ipython3",
      "version": "3.7.4"
    },
    "colab": {
      "name": "“Lab2.ipynb”的副本",
      "provenance": [],
      "collapsed_sections": [],
      "toc_visible": true,
      "include_colab_link": true
    },
    "accelerator": "GPU",
    "widgets": {
      "application/vnd.jupyter.widget-state+json": {
        "35fd818991994a2da19108a5aa76fd0a": {
          "model_module": "@jupyter-widgets/controls",
          "model_name": "HBoxModel",
          "state": {
            "_view_name": "HBoxView",
            "_dom_classes": [],
            "_model_name": "HBoxModel",
            "_view_module": "@jupyter-widgets/controls",
            "_model_module_version": "1.5.0",
            "_view_count": null,
            "_view_module_version": "1.5.0",
            "box_style": "",
            "layout": "IPY_MODEL_02431183d37049d7a2e1942a78e8e2ef",
            "_model_module": "@jupyter-widgets/controls",
            "children": [
              "IPY_MODEL_4761490ecf824f1a8d0eecb42268cb61",
              "IPY_MODEL_be2a2bfc77144044beec4f577e72b2c3"
            ]
          }
        },
        "02431183d37049d7a2e1942a78e8e2ef": {
          "model_module": "@jupyter-widgets/base",
          "model_name": "LayoutModel",
          "state": {
            "_view_name": "LayoutView",
            "grid_template_rows": null,
            "right": null,
            "justify_content": null,
            "_view_module": "@jupyter-widgets/base",
            "overflow": null,
            "_model_module_version": "1.2.0",
            "_view_count": null,
            "flex_flow": null,
            "width": null,
            "min_width": null,
            "border": null,
            "align_items": null,
            "bottom": null,
            "_model_module": "@jupyter-widgets/base",
            "top": null,
            "grid_column": null,
            "overflow_y": null,
            "overflow_x": null,
            "grid_auto_flow": null,
            "grid_area": null,
            "grid_template_columns": null,
            "flex": null,
            "_model_name": "LayoutModel",
            "justify_items": null,
            "grid_row": null,
            "max_height": null,
            "align_content": null,
            "visibility": null,
            "align_self": null,
            "height": null,
            "min_height": null,
            "padding": null,
            "grid_auto_rows": null,
            "grid_gap": null,
            "max_width": null,
            "order": null,
            "_view_module_version": "1.2.0",
            "grid_template_areas": null,
            "object_position": null,
            "object_fit": null,
            "grid_auto_columns": null,
            "margin": null,
            "display": null,
            "left": null
          }
        },
        "4761490ecf824f1a8d0eecb42268cb61": {
          "model_module": "@jupyter-widgets/controls",
          "model_name": "IntProgressModel",
          "state": {
            "_view_name": "ProgressView",
            "style": "IPY_MODEL_72453a9042c048339eed98a6541cdd60",
            "_dom_classes": [],
            "description": "",
            "_model_name": "IntProgressModel",
            "bar_style": "success",
            "max": 10000,
            "_view_module": "@jupyter-widgets/controls",
            "_model_module_version": "1.5.0",
            "value": 10000,
            "_view_count": null,
            "_view_module_version": "1.5.0",
            "orientation": "horizontal",
            "min": 0,
            "description_tooltip": null,
            "_model_module": "@jupyter-widgets/controls",
            "layout": "IPY_MODEL_09bf6882d02f433ba2655f141e2a561b"
          }
        },
        "be2a2bfc77144044beec4f577e72b2c3": {
          "model_module": "@jupyter-widgets/controls",
          "model_name": "HTMLModel",
          "state": {
            "_view_name": "HTMLView",
            "style": "IPY_MODEL_7b9cec2c6e544640973116c13633e5e6",
            "_dom_classes": [],
            "description": "",
            "_model_name": "HTMLModel",
            "placeholder": "​",
            "_view_module": "@jupyter-widgets/controls",
            "_model_module_version": "1.5.0",
            "value": "100% 10000/10000 [00:20&lt;00:00, 476.57it/s]",
            "_view_count": null,
            "_view_module_version": "1.5.0",
            "description_tooltip": null,
            "_model_module": "@jupyter-widgets/controls",
            "layout": "IPY_MODEL_bd0ca5b8af25438c984d6b62ec42cf61"
          }
        },
        "72453a9042c048339eed98a6541cdd60": {
          "model_module": "@jupyter-widgets/controls",
          "model_name": "ProgressStyleModel",
          "state": {
            "_view_name": "StyleView",
            "_model_name": "ProgressStyleModel",
            "description_width": "",
            "_view_module": "@jupyter-widgets/base",
            "_model_module_version": "1.5.0",
            "_view_count": null,
            "_view_module_version": "1.2.0",
            "bar_color": null,
            "_model_module": "@jupyter-widgets/controls"
          }
        },
        "09bf6882d02f433ba2655f141e2a561b": {
          "model_module": "@jupyter-widgets/base",
          "model_name": "LayoutModel",
          "state": {
            "_view_name": "LayoutView",
            "grid_template_rows": null,
            "right": null,
            "justify_content": null,
            "_view_module": "@jupyter-widgets/base",
            "overflow": null,
            "_model_module_version": "1.2.0",
            "_view_count": null,
            "flex_flow": null,
            "width": null,
            "min_width": null,
            "border": null,
            "align_items": null,
            "bottom": null,
            "_model_module": "@jupyter-widgets/base",
            "top": null,
            "grid_column": null,
            "overflow_y": null,
            "overflow_x": null,
            "grid_auto_flow": null,
            "grid_area": null,
            "grid_template_columns": null,
            "flex": null,
            "_model_name": "LayoutModel",
            "justify_items": null,
            "grid_row": null,
            "max_height": null,
            "align_content": null,
            "visibility": null,
            "align_self": null,
            "height": null,
            "min_height": null,
            "padding": null,
            "grid_auto_rows": null,
            "grid_gap": null,
            "max_width": null,
            "order": null,
            "_view_module_version": "1.2.0",
            "grid_template_areas": null,
            "object_position": null,
            "object_fit": null,
            "grid_auto_columns": null,
            "margin": null,
            "display": null,
            "left": null
          }
        },
        "7b9cec2c6e544640973116c13633e5e6": {
          "model_module": "@jupyter-widgets/controls",
          "model_name": "DescriptionStyleModel",
          "state": {
            "_view_name": "StyleView",
            "_model_name": "DescriptionStyleModel",
            "description_width": "",
            "_view_module": "@jupyter-widgets/base",
            "_model_module_version": "1.5.0",
            "_view_count": null,
            "_view_module_version": "1.2.0",
            "_model_module": "@jupyter-widgets/controls"
          }
        },
        "bd0ca5b8af25438c984d6b62ec42cf61": {
          "model_module": "@jupyter-widgets/base",
          "model_name": "LayoutModel",
          "state": {
            "_view_name": "LayoutView",
            "grid_template_rows": null,
            "right": null,
            "justify_content": null,
            "_view_module": "@jupyter-widgets/base",
            "overflow": null,
            "_model_module_version": "1.2.0",
            "_view_count": null,
            "flex_flow": null,
            "width": null,
            "min_width": null,
            "border": null,
            "align_items": null,
            "bottom": null,
            "_model_module": "@jupyter-widgets/base",
            "top": null,
            "grid_column": null,
            "overflow_y": null,
            "overflow_x": null,
            "grid_auto_flow": null,
            "grid_area": null,
            "grid_template_columns": null,
            "flex": null,
            "_model_name": "LayoutModel",
            "justify_items": null,
            "grid_row": null,
            "max_height": null,
            "align_content": null,
            "visibility": null,
            "align_self": null,
            "height": null,
            "min_height": null,
            "padding": null,
            "grid_auto_rows": null,
            "grid_gap": null,
            "max_width": null,
            "order": null,
            "_view_module_version": "1.2.0",
            "grid_template_areas": null,
            "object_position": null,
            "object_fit": null,
            "grid_auto_columns": null,
            "margin": null,
            "display": null,
            "left": null
          }
        },
        "63100f2daa50418481f5753cdc4b0d1e": {
          "model_module": "@jupyter-widgets/controls",
          "model_name": "HBoxModel",
          "state": {
            "_view_name": "HBoxView",
            "_dom_classes": [],
            "_model_name": "HBoxModel",
            "_view_module": "@jupyter-widgets/controls",
            "_model_module_version": "1.5.0",
            "_view_count": null,
            "_view_module_version": "1.5.0",
            "box_style": "",
            "layout": "IPY_MODEL_5656487e02454c9298a946b6814ee6a3",
            "_model_module": "@jupyter-widgets/controls",
            "children": [
              "IPY_MODEL_e996348e89c44ca599cdf34c7ef54764",
              "IPY_MODEL_2f2f05e2ae3142d59e3d1d7577e01c6b"
            ]
          }
        },
        "5656487e02454c9298a946b6814ee6a3": {
          "model_module": "@jupyter-widgets/base",
          "model_name": "LayoutModel",
          "state": {
            "_view_name": "LayoutView",
            "grid_template_rows": null,
            "right": null,
            "justify_content": null,
            "_view_module": "@jupyter-widgets/base",
            "overflow": null,
            "_model_module_version": "1.2.0",
            "_view_count": null,
            "flex_flow": null,
            "width": null,
            "min_width": null,
            "border": null,
            "align_items": null,
            "bottom": null,
            "_model_module": "@jupyter-widgets/base",
            "top": null,
            "grid_column": null,
            "overflow_y": null,
            "overflow_x": null,
            "grid_auto_flow": null,
            "grid_area": null,
            "grid_template_columns": null,
            "flex": null,
            "_model_name": "LayoutModel",
            "justify_items": null,
            "grid_row": null,
            "max_height": null,
            "align_content": null,
            "visibility": null,
            "align_self": null,
            "height": null,
            "min_height": null,
            "padding": null,
            "grid_auto_rows": null,
            "grid_gap": null,
            "max_width": null,
            "order": null,
            "_view_module_version": "1.2.0",
            "grid_template_areas": null,
            "object_position": null,
            "object_fit": null,
            "grid_auto_columns": null,
            "margin": null,
            "display": null,
            "left": null
          }
        },
        "e996348e89c44ca599cdf34c7ef54764": {
          "model_module": "@jupyter-widgets/controls",
          "model_name": "IntProgressModel",
          "state": {
            "_view_name": "ProgressView",
            "style": "IPY_MODEL_8f2961fc15de45b0ae53caf5e71f0b98",
            "_dom_classes": [],
            "description": "",
            "_model_name": "IntProgressModel",
            "bar_style": "success",
            "max": 1000,
            "_view_module": "@jupyter-widgets/controls",
            "_model_module_version": "1.5.0",
            "value": 1000,
            "_view_count": null,
            "_view_module_version": "1.5.0",
            "orientation": "horizontal",
            "min": 0,
            "description_tooltip": null,
            "_model_module": "@jupyter-widgets/controls",
            "layout": "IPY_MODEL_cfc7e98d9f5a44f6ac011cd68ec78cbf"
          }
        },
        "2f2f05e2ae3142d59e3d1d7577e01c6b": {
          "model_module": "@jupyter-widgets/controls",
          "model_name": "HTMLModel",
          "state": {
            "_view_name": "HTMLView",
            "style": "IPY_MODEL_12aca6f222794d8d9232c76f2aab899a",
            "_dom_classes": [],
            "description": "",
            "_model_name": "HTMLModel",
            "placeholder": "​",
            "_view_module": "@jupyter-widgets/controls",
            "_model_module_version": "1.5.0",
            "value": "100% 1000/1000 [00:02&lt;00:00, 460.10it/s]",
            "_view_count": null,
            "_view_module_version": "1.5.0",
            "description_tooltip": null,
            "_model_module": "@jupyter-widgets/controls",
            "layout": "IPY_MODEL_1a723dc4cd2a4447b6481c53ac6adb28"
          }
        },
        "8f2961fc15de45b0ae53caf5e71f0b98": {
          "model_module": "@jupyter-widgets/controls",
          "model_name": "ProgressStyleModel",
          "state": {
            "_view_name": "StyleView",
            "_model_name": "ProgressStyleModel",
            "description_width": "",
            "_view_module": "@jupyter-widgets/base",
            "_model_module_version": "1.5.0",
            "_view_count": null,
            "_view_module_version": "1.2.0",
            "bar_color": null,
            "_model_module": "@jupyter-widgets/controls"
          }
        },
        "cfc7e98d9f5a44f6ac011cd68ec78cbf": {
          "model_module": "@jupyter-widgets/base",
          "model_name": "LayoutModel",
          "state": {
            "_view_name": "LayoutView",
            "grid_template_rows": null,
            "right": null,
            "justify_content": null,
            "_view_module": "@jupyter-widgets/base",
            "overflow": null,
            "_model_module_version": "1.2.0",
            "_view_count": null,
            "flex_flow": null,
            "width": null,
            "min_width": null,
            "border": null,
            "align_items": null,
            "bottom": null,
            "_model_module": "@jupyter-widgets/base",
            "top": null,
            "grid_column": null,
            "overflow_y": null,
            "overflow_x": null,
            "grid_auto_flow": null,
            "grid_area": null,
            "grid_template_columns": null,
            "flex": null,
            "_model_name": "LayoutModel",
            "justify_items": null,
            "grid_row": null,
            "max_height": null,
            "align_content": null,
            "visibility": null,
            "align_self": null,
            "height": null,
            "min_height": null,
            "padding": null,
            "grid_auto_rows": null,
            "grid_gap": null,
            "max_width": null,
            "order": null,
            "_view_module_version": "1.2.0",
            "grid_template_areas": null,
            "object_position": null,
            "object_fit": null,
            "grid_auto_columns": null,
            "margin": null,
            "display": null,
            "left": null
          }
        },
        "12aca6f222794d8d9232c76f2aab899a": {
          "model_module": "@jupyter-widgets/controls",
          "model_name": "DescriptionStyleModel",
          "state": {
            "_view_name": "StyleView",
            "_model_name": "DescriptionStyleModel",
            "description_width": "",
            "_view_module": "@jupyter-widgets/base",
            "_model_module_version": "1.5.0",
            "_view_count": null,
            "_view_module_version": "1.2.0",
            "_model_module": "@jupyter-widgets/controls"
          }
        },
        "1a723dc4cd2a4447b6481c53ac6adb28": {
          "model_module": "@jupyter-widgets/base",
          "model_name": "LayoutModel",
          "state": {
            "_view_name": "LayoutView",
            "grid_template_rows": null,
            "right": null,
            "justify_content": null,
            "_view_module": "@jupyter-widgets/base",
            "overflow": null,
            "_model_module_version": "1.2.0",
            "_view_count": null,
            "flex_flow": null,
            "width": null,
            "min_width": null,
            "border": null,
            "align_items": null,
            "bottom": null,
            "_model_module": "@jupyter-widgets/base",
            "top": null,
            "grid_column": null,
            "overflow_y": null,
            "overflow_x": null,
            "grid_auto_flow": null,
            "grid_area": null,
            "grid_template_columns": null,
            "flex": null,
            "_model_name": "LayoutModel",
            "justify_items": null,
            "grid_row": null,
            "max_height": null,
            "align_content": null,
            "visibility": null,
            "align_self": null,
            "height": null,
            "min_height": null,
            "padding": null,
            "grid_auto_rows": null,
            "grid_gap": null,
            "max_width": null,
            "order": null,
            "_view_module_version": "1.2.0",
            "grid_template_areas": null,
            "object_position": null,
            "object_fit": null,
            "grid_auto_columns": null,
            "margin": null,
            "display": null,
            "left": null
          }
        },
        "a8dbfdefa37f4e83923e802d5a72995e": {
          "model_module": "@jupyter-widgets/controls",
          "model_name": "HBoxModel",
          "state": {
            "_view_name": "HBoxView",
            "_dom_classes": [],
            "_model_name": "HBoxModel",
            "_view_module": "@jupyter-widgets/controls",
            "_model_module_version": "1.5.0",
            "_view_count": null,
            "_view_module_version": "1.5.0",
            "box_style": "",
            "layout": "IPY_MODEL_6aec29c7e4d941e981cfb33f1744db53",
            "_model_module": "@jupyter-widgets/controls",
            "children": [
              "IPY_MODEL_69f63969250c4ff1a3b3ebafd136201a",
              "IPY_MODEL_08b709ee43d54546bb81d41bb27a9740"
            ]
          }
        },
        "6aec29c7e4d941e981cfb33f1744db53": {
          "model_module": "@jupyter-widgets/base",
          "model_name": "LayoutModel",
          "state": {
            "_view_name": "LayoutView",
            "grid_template_rows": null,
            "right": null,
            "justify_content": null,
            "_view_module": "@jupyter-widgets/base",
            "overflow": null,
            "_model_module_version": "1.2.0",
            "_view_count": null,
            "flex_flow": null,
            "width": null,
            "min_width": null,
            "border": null,
            "align_items": null,
            "bottom": null,
            "_model_module": "@jupyter-widgets/base",
            "top": null,
            "grid_column": null,
            "overflow_y": null,
            "overflow_x": null,
            "grid_auto_flow": null,
            "grid_area": null,
            "grid_template_columns": null,
            "flex": null,
            "_model_name": "LayoutModel",
            "justify_items": null,
            "grid_row": null,
            "max_height": null,
            "align_content": null,
            "visibility": null,
            "align_self": null,
            "height": null,
            "min_height": null,
            "padding": null,
            "grid_auto_rows": null,
            "grid_gap": null,
            "max_width": null,
            "order": null,
            "_view_module_version": "1.2.0",
            "grid_template_areas": null,
            "object_position": null,
            "object_fit": null,
            "grid_auto_columns": null,
            "margin": null,
            "display": null,
            "left": null
          }
        },
        "69f63969250c4ff1a3b3ebafd136201a": {
          "model_module": "@jupyter-widgets/controls",
          "model_name": "IntProgressModel",
          "state": {
            "_view_name": "ProgressView",
            "style": "IPY_MODEL_a690873bb3594ae59f908522e4cb8c00",
            "_dom_classes": [],
            "description": "",
            "_model_name": "IntProgressModel",
            "bar_style": "success",
            "max": 10,
            "_view_module": "@jupyter-widgets/controls",
            "_model_module_version": "1.5.0",
            "value": 10,
            "_view_count": null,
            "_view_module_version": "1.5.0",
            "orientation": "horizontal",
            "min": 0,
            "description_tooltip": null,
            "_model_module": "@jupyter-widgets/controls",
            "layout": "IPY_MODEL_80927f9ab3234da0820a773493d01ab5"
          }
        },
        "08b709ee43d54546bb81d41bb27a9740": {
          "model_module": "@jupyter-widgets/controls",
          "model_name": "HTMLModel",
          "state": {
            "_view_name": "HTMLView",
            "style": "IPY_MODEL_c365d989a8fa487da1fc27251f891e8c",
            "_dom_classes": [],
            "description": "",
            "_model_name": "HTMLModel",
            "placeholder": "​",
            "_view_module": "@jupyter-widgets/controls",
            "_model_module_version": "1.5.0",
            "value": "100% 10/10 [00:01&lt;00:00,  9.03it/s]",
            "_view_count": null,
            "_view_module_version": "1.5.0",
            "description_tooltip": null,
            "_model_module": "@jupyter-widgets/controls",
            "layout": "IPY_MODEL_ac784ad3f2a44fe0bf59ecebbd69a45a"
          }
        },
        "a690873bb3594ae59f908522e4cb8c00": {
          "model_module": "@jupyter-widgets/controls",
          "model_name": "ProgressStyleModel",
          "state": {
            "_view_name": "StyleView",
            "_model_name": "ProgressStyleModel",
            "description_width": "",
            "_view_module": "@jupyter-widgets/base",
            "_model_module_version": "1.5.0",
            "_view_count": null,
            "_view_module_version": "1.2.0",
            "bar_color": null,
            "_model_module": "@jupyter-widgets/controls"
          }
        },
        "80927f9ab3234da0820a773493d01ab5": {
          "model_module": "@jupyter-widgets/base",
          "model_name": "LayoutModel",
          "state": {
            "_view_name": "LayoutView",
            "grid_template_rows": null,
            "right": null,
            "justify_content": null,
            "_view_module": "@jupyter-widgets/base",
            "overflow": null,
            "_model_module_version": "1.2.0",
            "_view_count": null,
            "flex_flow": null,
            "width": null,
            "min_width": null,
            "border": null,
            "align_items": null,
            "bottom": null,
            "_model_module": "@jupyter-widgets/base",
            "top": null,
            "grid_column": null,
            "overflow_y": null,
            "overflow_x": null,
            "grid_auto_flow": null,
            "grid_area": null,
            "grid_template_columns": null,
            "flex": null,
            "_model_name": "LayoutModel",
            "justify_items": null,
            "grid_row": null,
            "max_height": null,
            "align_content": null,
            "visibility": null,
            "align_self": null,
            "height": null,
            "min_height": null,
            "padding": null,
            "grid_auto_rows": null,
            "grid_gap": null,
            "max_width": null,
            "order": null,
            "_view_module_version": "1.2.0",
            "grid_template_areas": null,
            "object_position": null,
            "object_fit": null,
            "grid_auto_columns": null,
            "margin": null,
            "display": null,
            "left": null
          }
        },
        "c365d989a8fa487da1fc27251f891e8c": {
          "model_module": "@jupyter-widgets/controls",
          "model_name": "DescriptionStyleModel",
          "state": {
            "_view_name": "StyleView",
            "_model_name": "DescriptionStyleModel",
            "description_width": "",
            "_view_module": "@jupyter-widgets/base",
            "_model_module_version": "1.5.0",
            "_view_count": null,
            "_view_module_version": "1.2.0",
            "_model_module": "@jupyter-widgets/controls"
          }
        },
        "ac784ad3f2a44fe0bf59ecebbd69a45a": {
          "model_module": "@jupyter-widgets/base",
          "model_name": "LayoutModel",
          "state": {
            "_view_name": "LayoutView",
            "grid_template_rows": null,
            "right": null,
            "justify_content": null,
            "_view_module": "@jupyter-widgets/base",
            "overflow": null,
            "_model_module_version": "1.2.0",
            "_view_count": null,
            "flex_flow": null,
            "width": null,
            "min_width": null,
            "border": null,
            "align_items": null,
            "bottom": null,
            "_model_module": "@jupyter-widgets/base",
            "top": null,
            "grid_column": null,
            "overflow_y": null,
            "overflow_x": null,
            "grid_auto_flow": null,
            "grid_area": null,
            "grid_template_columns": null,
            "flex": null,
            "_model_name": "LayoutModel",
            "justify_items": null,
            "grid_row": null,
            "max_height": null,
            "align_content": null,
            "visibility": null,
            "align_self": null,
            "height": null,
            "min_height": null,
            "padding": null,
            "grid_auto_rows": null,
            "grid_gap": null,
            "max_width": null,
            "order": null,
            "_view_module_version": "1.2.0",
            "grid_template_areas": null,
            "object_position": null,
            "object_fit": null,
            "grid_auto_columns": null,
            "margin": null,
            "display": null,
            "left": null
          }
        },
        "87ff34bf27c548fcb026714169c759a1": {
          "model_module": "@jupyter-widgets/controls",
          "model_name": "HBoxModel",
          "state": {
            "_view_name": "HBoxView",
            "_dom_classes": [],
            "_model_name": "HBoxModel",
            "_view_module": "@jupyter-widgets/controls",
            "_model_module_version": "1.5.0",
            "_view_count": null,
            "_view_module_version": "1.5.0",
            "box_style": "",
            "layout": "IPY_MODEL_a4fc040b54cc441fa7bd681c698c30d8",
            "_model_module": "@jupyter-widgets/controls",
            "children": [
              "IPY_MODEL_41ae84536c8a4883b0138014c0d07d3c",
              "IPY_MODEL_4d71e1f396cb438dbd538be2af585658"
            ]
          }
        },
        "a4fc040b54cc441fa7bd681c698c30d8": {
          "model_module": "@jupyter-widgets/base",
          "model_name": "LayoutModel",
          "state": {
            "_view_name": "LayoutView",
            "grid_template_rows": null,
            "right": null,
            "justify_content": null,
            "_view_module": "@jupyter-widgets/base",
            "overflow": null,
            "_model_module_version": "1.2.0",
            "_view_count": null,
            "flex_flow": null,
            "width": null,
            "min_width": null,
            "border": null,
            "align_items": null,
            "bottom": null,
            "_model_module": "@jupyter-widgets/base",
            "top": null,
            "grid_column": null,
            "overflow_y": null,
            "overflow_x": null,
            "grid_auto_flow": null,
            "grid_area": null,
            "grid_template_columns": null,
            "flex": null,
            "_model_name": "LayoutModel",
            "justify_items": null,
            "grid_row": null,
            "max_height": null,
            "align_content": null,
            "visibility": null,
            "align_self": null,
            "height": null,
            "min_height": null,
            "padding": null,
            "grid_auto_rows": null,
            "grid_gap": null,
            "max_width": null,
            "order": null,
            "_view_module_version": "1.2.0",
            "grid_template_areas": null,
            "object_position": null,
            "object_fit": null,
            "grid_auto_columns": null,
            "margin": null,
            "display": null,
            "left": null
          }
        },
        "41ae84536c8a4883b0138014c0d07d3c": {
          "model_module": "@jupyter-widgets/controls",
          "model_name": "IntProgressModel",
          "state": {
            "_view_name": "ProgressView",
            "style": "IPY_MODEL_b85e815ef82e4dbfa58b16cf5f3d076f",
            "_dom_classes": [],
            "description": "",
            "_model_name": "IntProgressModel",
            "bar_style": "danger",
            "max": 10,
            "_view_module": "@jupyter-widgets/controls",
            "_model_module_version": "1.5.0",
            "value": 0,
            "_view_count": null,
            "_view_module_version": "1.5.0",
            "orientation": "horizontal",
            "min": 0,
            "description_tooltip": null,
            "_model_module": "@jupyter-widgets/controls",
            "layout": "IPY_MODEL_20c599ec305740ac82bb414b0c9e7aec"
          }
        },
        "4d71e1f396cb438dbd538be2af585658": {
          "model_module": "@jupyter-widgets/controls",
          "model_name": "HTMLModel",
          "state": {
            "_view_name": "HTMLView",
            "style": "IPY_MODEL_c12626a16a574b62957b1b5528828cc3",
            "_dom_classes": [],
            "description": "",
            "_model_name": "HTMLModel",
            "placeholder": "​",
            "_view_module": "@jupyter-widgets/controls",
            "_model_module_version": "1.5.0",
            "value": "  0% 0/10 [00:00&lt;?, ?it/s]",
            "_view_count": null,
            "_view_module_version": "1.5.0",
            "description_tooltip": null,
            "_model_module": "@jupyter-widgets/controls",
            "layout": "IPY_MODEL_c0804532124548889f1ebb2ecff3998e"
          }
        },
        "b85e815ef82e4dbfa58b16cf5f3d076f": {
          "model_module": "@jupyter-widgets/controls",
          "model_name": "ProgressStyleModel",
          "state": {
            "_view_name": "StyleView",
            "_model_name": "ProgressStyleModel",
            "description_width": "",
            "_view_module": "@jupyter-widgets/base",
            "_model_module_version": "1.5.0",
            "_view_count": null,
            "_view_module_version": "1.2.0",
            "bar_color": null,
            "_model_module": "@jupyter-widgets/controls"
          }
        },
        "20c599ec305740ac82bb414b0c9e7aec": {
          "model_module": "@jupyter-widgets/base",
          "model_name": "LayoutModel",
          "state": {
            "_view_name": "LayoutView",
            "grid_template_rows": null,
            "right": null,
            "justify_content": null,
            "_view_module": "@jupyter-widgets/base",
            "overflow": null,
            "_model_module_version": "1.2.0",
            "_view_count": null,
            "flex_flow": null,
            "width": null,
            "min_width": null,
            "border": null,
            "align_items": null,
            "bottom": null,
            "_model_module": "@jupyter-widgets/base",
            "top": null,
            "grid_column": null,
            "overflow_y": null,
            "overflow_x": null,
            "grid_auto_flow": null,
            "grid_area": null,
            "grid_template_columns": null,
            "flex": null,
            "_model_name": "LayoutModel",
            "justify_items": null,
            "grid_row": null,
            "max_height": null,
            "align_content": null,
            "visibility": null,
            "align_self": null,
            "height": null,
            "min_height": null,
            "padding": null,
            "grid_auto_rows": null,
            "grid_gap": null,
            "max_width": null,
            "order": null,
            "_view_module_version": "1.2.0",
            "grid_template_areas": null,
            "object_position": null,
            "object_fit": null,
            "grid_auto_columns": null,
            "margin": null,
            "display": null,
            "left": null
          }
        },
        "c12626a16a574b62957b1b5528828cc3": {
          "model_module": "@jupyter-widgets/controls",
          "model_name": "DescriptionStyleModel",
          "state": {
            "_view_name": "StyleView",
            "_model_name": "DescriptionStyleModel",
            "description_width": "",
            "_view_module": "@jupyter-widgets/base",
            "_model_module_version": "1.5.0",
            "_view_count": null,
            "_view_module_version": "1.2.0",
            "_model_module": "@jupyter-widgets/controls"
          }
        },
        "c0804532124548889f1ebb2ecff3998e": {
          "model_module": "@jupyter-widgets/base",
          "model_name": "LayoutModel",
          "state": {
            "_view_name": "LayoutView",
            "grid_template_rows": null,
            "right": null,
            "justify_content": null,
            "_view_module": "@jupyter-widgets/base",
            "overflow": null,
            "_model_module_version": "1.2.0",
            "_view_count": null,
            "flex_flow": null,
            "width": null,
            "min_width": null,
            "border": null,
            "align_items": null,
            "bottom": null,
            "_model_module": "@jupyter-widgets/base",
            "top": null,
            "grid_column": null,
            "overflow_y": null,
            "overflow_x": null,
            "grid_auto_flow": null,
            "grid_area": null,
            "grid_template_columns": null,
            "flex": null,
            "_model_name": "LayoutModel",
            "justify_items": null,
            "grid_row": null,
            "max_height": null,
            "align_content": null,
            "visibility": null,
            "align_self": null,
            "height": null,
            "min_height": null,
            "padding": null,
            "grid_auto_rows": null,
            "grid_gap": null,
            "max_width": null,
            "order": null,
            "_view_module_version": "1.2.0",
            "grid_template_areas": null,
            "object_position": null,
            "object_fit": null,
            "grid_auto_columns": null,
            "margin": null,
            "display": null,
            "left": null
          }
        }
      }
    }
  },
  "cells": [
    {
      "cell_type": "markdown",
      "metadata": {
        "id": "view-in-github",
        "colab_type": "text"
      },
      "source": [
        "<a href=\"https://colab.research.google.com/github/Fyfy1996/Natural_language_understanding/blob/master/Lab2_ipynb.ipynb\" target=\"_parent\"><img src=\"https://colab.research.google.com/assets/colab-badge.svg\" alt=\"Open In Colab\"/></a>"
      ]
    },
    {
      "cell_type": "code",
      "metadata": {
        "id": "EUKJYU85hTOY",
        "colab_type": "code",
        "cellView": "form",
        "outputId": "21ade9f0-b490-44ad-f89b-a4da4a5c4e11",
        "colab": {
          "base_uri": "https://localhost:8080/",
          "height": 119
        }
      },
      "source": [
        "#@title Import packages\n",
        "\n",
        "!pip install sacremoses\n",
        "\n",
        "import torch\n",
        "import torch.nn as nn\n",
        "import torch.nn.functional as F\n",
        "import torch.optim as optim\n",
        "import numpy as np\n",
        "import os\n",
        "import pandas as pd\n",
        "import sacremoses\n",
        "from torch.utils.data import dataloader, Dataset\n",
        "import tqdm"
      ],
      "execution_count": 0,
      "outputs": [
        {
          "output_type": "stream",
          "text": [
            "Requirement already satisfied: sacremoses in /usr/local/lib/python3.6/dist-packages (0.0.38)\n",
            "Requirement already satisfied: regex in /usr/local/lib/python3.6/dist-packages (from sacremoses) (2019.12.20)\n",
            "Requirement already satisfied: joblib in /usr/local/lib/python3.6/dist-packages (from sacremoses) (0.14.1)\n",
            "Requirement already satisfied: click in /usr/local/lib/python3.6/dist-packages (from sacremoses) (7.0)\n",
            "Requirement already satisfied: six in /usr/local/lib/python3.6/dist-packages (from sacremoses) (1.12.0)\n",
            "Requirement already satisfied: tqdm in /usr/local/lib/python3.6/dist-packages (from sacremoses) (4.28.1)\n"
          ],
          "name": "stdout"
        }
      ]
    },
    {
      "cell_type": "markdown",
      "metadata": {
        "id": "wNDTPrrOJ0ax",
        "colab_type": "text"
      },
      "source": [
        "# 新段落"
      ]
    },
    {
      "cell_type": "code",
      "metadata": {
        "id": "kAWSBWuLhTOp",
        "colab_type": "code",
        "colab": {}
      },
      "source": [
        "import matplotlib.pyplot as plt"
      ],
      "execution_count": 0,
      "outputs": []
    },
    {
      "cell_type": "markdown",
      "metadata": {
        "id": "z1867CdvkL9E",
        "colab_type": "text"
      },
      "source": [
        "**Portions of this lab taken from DS-GA-1011, Fall 2018**"
      ]
    },
    {
      "cell_type": "markdown",
      "metadata": {
        "id": "Av5zuTeVhTO1",
        "colab_type": "text"
      },
      "source": [
        "## 1. Tensor basics\n",
        "\n",
        "PyTorch is a library for training deep neural networks, and much of it is based on the `Tensor`, an array type that is similar to NumPy arrays."
      ]
    },
    {
      "cell_type": "code",
      "metadata": {
        "id": "CHzqQjQ3hTO5",
        "colab_type": "code",
        "outputId": "742b0439-2080-4dfa-ded4-c7874c613c16",
        "colab": {
          "base_uri": "https://localhost:8080/",
          "height": 34
        }
      },
      "source": [
        "tensor = torch.Tensor([0, 1, 2, 3])\n",
        "tensor"
      ],
      "execution_count": 0,
      "outputs": [
        {
          "output_type": "execute_result",
          "data": {
            "text/plain": [
              "tensor([0., 1., 2., 3.])"
            ]
          },
          "metadata": {
            "tags": []
          },
          "execution_count": 5
        }
      ]
    },
    {
      "cell_type": "code",
      "metadata": {
        "id": "2gCnryWUhTPD",
        "colab_type": "code",
        "outputId": "277aa7e7-470d-4810-a45f-1eca0cea712f",
        "colab": {
          "base_uri": "https://localhost:8080/",
          "height": 51
        }
      },
      "source": [
        "print(tensor.shape)\n",
        "print(tensor.dtype)"
      ],
      "execution_count": 0,
      "outputs": [
        {
          "output_type": "stream",
          "text": [
            "torch.Size([4])\n",
            "torch.float32\n"
          ],
          "name": "stdout"
        }
      ]
    },
    {
      "cell_type": "markdown",
      "metadata": {
        "id": "_iMRZ5rWhTPL",
        "colab_type": "text"
      },
      "source": [
        "It's easy to convert between NumPy arrays PyTorch Tensors."
      ]
    },
    {
      "cell_type": "code",
      "metadata": {
        "id": "YeLyTRQ1hTPO",
        "colab_type": "code",
        "outputId": "952dbe20-4df0-4e52-c9dc-a5af0e94d18f",
        "colab": {
          "base_uri": "https://localhost:8080/",
          "height": 34
        }
      },
      "source": [
        "tensor.numpy()"
      ],
      "execution_count": 0,
      "outputs": [
        {
          "output_type": "execute_result",
          "data": {
            "text/plain": [
              "array([0., 1., 2., 3.], dtype=float32)"
            ]
          },
          "metadata": {
            "tags": []
          },
          "execution_count": 7
        }
      ]
    },
    {
      "cell_type": "markdown",
      "metadata": {
        "id": "PFDnFoFRhTPW",
        "colab_type": "text"
      },
      "source": [
        "They also behave a lot like NumPy arrays."
      ]
    },
    {
      "cell_type": "code",
      "metadata": {
        "scrolled": true,
        "id": "wwkGYChOhTPY",
        "colab_type": "code",
        "outputId": "c98d9bbd-e8aa-418e-fa8d-3b95c17bb47c",
        "colab": {
          "base_uri": "https://localhost:8080/",
          "height": 34
        }
      },
      "source": [
        "tensor * 5"
      ],
      "execution_count": 0,
      "outputs": [
        {
          "output_type": "execute_result",
          "data": {
            "text/plain": [
              "tensor([ 0.,  5., 10., 15.])"
            ]
          },
          "metadata": {
            "tags": []
          },
          "execution_count": 8
        }
      ]
    },
    {
      "cell_type": "markdown",
      "metadata": {
        "id": "bFEftZv_hTPe",
        "colab_type": "text"
      },
      "source": [
        "## 2. Using CUDA"
      ]
    },
    {
      "cell_type": "markdown",
      "metadata": {
        "id": "VDp9k5awhTPj",
        "colab_type": "text"
      },
      "source": [
        "CUDA and cuDNN allow you to use GPUs to accerate computations for mathematical operations and neural network models.\n",
        "\n",
        "PyTorch natively supports this."
      ]
    },
    {
      "cell_type": "code",
      "metadata": {
        "id": "deqTmKdMhTPm",
        "colab_type": "code",
        "colab": {}
      },
      "source": [
        "assert torch.cuda.is_available and torch.has_cudnn"
      ],
      "execution_count": 0,
      "outputs": []
    },
    {
      "cell_type": "code",
      "metadata": {
        "id": "4dlAaDefhTPt",
        "colab_type": "code",
        "colab": {}
      },
      "source": [
        "x = torch.Tensor(range(5))\n",
        "y = torch.Tensor(np.ones(5))"
      ],
      "execution_count": 0,
      "outputs": []
    },
    {
      "cell_type": "code",
      "metadata": {
        "id": "auy2mNY5hTP0",
        "colab_type": "code",
        "outputId": "d9a03a49-cca6-4a92-a229-72cd95405704",
        "colab": {
          "base_uri": "https://localhost:8080/",
          "height": 34
        }
      },
      "source": [
        "x.cuda()"
      ],
      "execution_count": 0,
      "outputs": [
        {
          "output_type": "execute_result",
          "data": {
            "text/plain": [
              "tensor([0., 1., 2., 3., 4.], device='cuda:0')"
            ]
          },
          "metadata": {
            "tags": []
          },
          "execution_count": 11
        }
      ]
    },
    {
      "cell_type": "code",
      "metadata": {
        "id": "tew9n3cuhTP9",
        "colab_type": "code",
        "outputId": "72331228-5413-4284-b3f0-6c3cb62f262f",
        "colab": {
          "base_uri": "https://localhost:8080/",
          "height": 34
        }
      },
      "source": [
        "z = x.cuda() + y.cuda()\n",
        "print(z)"
      ],
      "execution_count": 0,
      "outputs": [
        {
          "output_type": "stream",
          "text": [
            "tensor([1., 2., 3., 4., 5.], device='cuda:0')\n"
          ],
          "name": "stdout"
        }
      ]
    },
    {
      "cell_type": "code",
      "metadata": {
        "id": "QawkS7MehTQD",
        "colab_type": "code",
        "outputId": "2e5e23c0-a2fa-4d83-8f62-04618d6cb3f7",
        "colab": {
          "base_uri": "https://localhost:8080/",
          "height": 34
        }
      },
      "source": [
        "z.cpu()"
      ],
      "execution_count": 0,
      "outputs": [
        {
          "output_type": "execute_result",
          "data": {
            "text/plain": [
              "tensor([1., 2., 3., 4., 5.])"
            ]
          },
          "metadata": {
            "tags": []
          },
          "execution_count": 13
        }
      ]
    },
    {
      "cell_type": "markdown",
      "metadata": {
        "id": "TdV-F6r9168Y",
        "colab_type": "text"
      },
      "source": [
        "The recommended method is to use torch.device() as follows,"
      ]
    },
    {
      "cell_type": "code",
      "metadata": {
        "id": "lZVoqIwuhTQL",
        "colab_type": "code",
        "outputId": "2c373def-f5d3-496b-f982-54001b918133",
        "colab": {
          "base_uri": "https://localhost:8080/",
          "height": 34
        }
      },
      "source": [
        "device = torch.device(\"cuda:0\" if torch.cuda.is_available() else \"cpu\")\n",
        "z = x.to(device) + y.to(device)\n",
        "print(z)\n",
        "\n",
        "# selecting device if the gpu is available and cpu when cuda is not available."
      ],
      "execution_count": 0,
      "outputs": [
        {
          "output_type": "stream",
          "text": [
            "tensor([1., 2., 3., 4., 5.], device='cuda:0')\n"
          ],
          "name": "stdout"
        }
      ]
    },
    {
      "cell_type": "markdown",
      "metadata": {
        "id": "WorWdYTshTQR",
        "colab_type": "text"
      },
      "source": [
        "## 3. Autograd"
      ]
    },
    {
      "cell_type": "markdown",
      "metadata": {
        "id": "vfI8d51-hTQU",
        "colab_type": "text"
      },
      "source": [
        "Autograd is a submodule in PyTorch that handles automatic differentiations and gradient computation. This allows you to simply define a model once, in a forward fashion, and the library handles the computation of all gradients in the computational graph.\n",
        "\n",
        "Here, we create 2 Tensors, but we want PyTorch to compute gradients with respect to x\n",
        ". By default, for arbitrary computations in PyTorch, no gradiens are computed (e.g for y)."
      ]
    },
    {
      "cell_type": "code",
      "metadata": {
        "id": "oAVdjoh7hTQW",
        "colab_type": "code",
        "colab": {}
      },
      "source": [
        "x = torch.randn(5, requires_grad=True)\n",
        "y = torch.arange(5.)"
      ],
      "execution_count": 0,
      "outputs": []
    },
    {
      "cell_type": "code",
      "metadata": {
        "id": "t5FWUdW6hTQb",
        "colab_type": "code",
        "outputId": "0ce7c044-4b56-4acd-8394-98a513d94d65",
        "colab": {
          "base_uri": "https://localhost:8080/",
          "height": 51
        }
      },
      "source": [
        "print(\"tensor x: \", x)\n",
        "print(\"gradient wrt x:\", x.grad)"
      ],
      "execution_count": 0,
      "outputs": [
        {
          "output_type": "stream",
          "text": [
            "tensor x:  tensor([ 1.7486,  0.8333, -1.4543, -1.7678, -0.3391], requires_grad=True)\n",
            "gradient wrt x: None\n"
          ],
          "name": "stdout"
        }
      ]
    },
    {
      "cell_type": "code",
      "metadata": {
        "id": "4iVwkfe0hTQi",
        "colab_type": "code",
        "outputId": "4fe55d59-28ea-4fd6-86e0-7a30422b0a97",
        "colab": {
          "base_uri": "https://localhost:8080/",
          "height": 51
        }
      },
      "source": [
        "print(y)\n",
        "print(y.grad)"
      ],
      "execution_count": 0,
      "outputs": [
        {
          "output_type": "stream",
          "text": [
            "tensor([0., 1., 2., 3., 4.])\n",
            "None\n"
          ],
          "name": "stdout"
        }
      ]
    },
    {
      "cell_type": "markdown",
      "metadata": {
        "id": "-RXBswGVhTQp",
        "colab_type": "text"
      },
      "source": [
        "We defined $z = x \\cdot y$. Then\n",
        "\n",
        "$$\\frac{dz}{dx} = y$$\n",
        "\n",
        "Note `z.grad_fn`, which shows $z$ was computed, capturing its dependencies in the computation graph."
      ]
    },
    {
      "cell_type": "code",
      "metadata": {
        "id": "9Ef0FOl6hTQq",
        "colab_type": "code",
        "outputId": "4a2086a5-6640-4a65-90eb-dd3323b0e6ab",
        "colab": {
          "base_uri": "https://localhost:8080/",
          "height": 68
        }
      },
      "source": [
        "z = (x * y).sum()\n",
        "print(z)\n",
        "print(z.grad)\n",
        "print(z.grad_fn)"
      ],
      "execution_count": 0,
      "outputs": [
        {
          "output_type": "stream",
          "text": [
            "tensor(-8.7350, grad_fn=<SumBackward0>)\n",
            "None\n",
            "<SumBackward0 object at 0x7f1a4f8e9978>\n"
          ],
          "name": "stdout"
        }
      ]
    },
    {
      "cell_type": "markdown",
      "metadata": {
        "id": "2euwxnnFhTQv",
        "colab_type": "text"
      },
      "source": [
        "At this point, no gradients are computed yet. It is only when we call z.backward() that PyTorch computes the gradients, and backpropagates them to any node in the graph that required gradients (e.g. x)."
      ]
    },
    {
      "cell_type": "code",
      "metadata": {
        "id": "ykJ3cyN5hTQx",
        "colab_type": "code",
        "colab": {}
      },
      "source": [
        "z.backward()"
      ],
      "execution_count": 0,
      "outputs": []
    },
    {
      "cell_type": "markdown",
      "metadata": {
        "id": "EgrCT2HmhTQ2",
        "colab_type": "text"
      },
      "source": [
        "As we can see, $x$ now has gradients associated with it, but $y$ does not."
      ]
    },
    {
      "cell_type": "code",
      "metadata": {
        "id": "dSphL1TAhTQ4",
        "colab_type": "code",
        "outputId": "0968be17-bd86-4fbe-8fff-f4b6551a1f16",
        "colab": {
          "base_uri": "https://localhost:8080/",
          "height": 68
        }
      },
      "source": [
        "print(x.grad)\n",
        "print(y.grad)\n",
        "print(z.grad)"
      ],
      "execution_count": 0,
      "outputs": [
        {
          "output_type": "stream",
          "text": [
            "tensor([0., 1., 2., 3., 4.])\n",
            "None\n",
            "None\n"
          ],
          "name": "stdout"
        }
      ]
    },
    {
      "cell_type": "markdown",
      "metadata": {
        "id": "NPtdeGIqhTQ-",
        "colab_type": "text"
      },
      "source": [
        "With just this, we can compute a very rudimentary form of gradient descent!\n"
      ]
    },
    {
      "cell_type": "code",
      "metadata": {
        "id": "-KYluBjShTRA",
        "colab_type": "code",
        "colab": {}
      },
      "source": [
        "# A very silly case of gradient descent:\n",
        "learning_rate = 0.01\n",
        "x = torch.tensor([1000.], requires_grad=True)\n",
        "x_values = []\n",
        "for i in range(1000):\n",
        "    \n",
        "    # Our loss function is: We want x**2 to be small\n",
        "    loss = x ** 2\n",
        "    loss.backward()\n",
        "    \n",
        "    # Have to do something a little convoluted here to subtract the \n",
        "    #   gradient -- don't worry, we'll never do this again\n",
        "    x.data.sub_(x.grad.data * learning_rate)\n",
        "    \n",
        "    # Remember to zero-out the gradient! \n",
        "    # PyTorch doesn't do it automatically.\n",
        "    x.grad.data = torch.Tensor([0])\n",
        "    x_values.append(x.item())"
      ],
      "execution_count": 0,
      "outputs": []
    },
    {
      "cell_type": "code",
      "metadata": {
        "id": "FMSkZl9thTRE",
        "colab_type": "code",
        "outputId": "681ef358-183e-4563-ae9c-083d8bd5cf67",
        "colab": {
          "base_uri": "https://localhost:8080/",
          "height": 282
        }
      },
      "source": [
        "plt.plot(x_values)"
      ],
      "execution_count": 0,
      "outputs": [
        {
          "output_type": "execute_result",
          "data": {
            "text/plain": [
              "[<matplotlib.lines.Line2D at 0x7f1a46771898>]"
            ]
          },
          "metadata": {
            "tags": []
          },
          "execution_count": 22
        },
        {
          "output_type": "display_data",
          "data": {
            "image/png": "[encoded data removed]",
            "text/plain": [
              "<Figure size 432x288 with 1 Axes>"
            ]
          },
          "metadata": {
            "tags": []
          }
        }
      ]
    },
    {
      "cell_type": "markdown",
      "metadata": {
        "id": "bAIMjmGBhTRK",
        "colab_type": "text"
      },
      "source": [
        "Lastly, sometimes you want to run things without computing gradients:"
      ]
    },
    {
      "cell_type": "code",
      "metadata": {
        "id": "GIVW9HhMhTRM",
        "colab_type": "code",
        "outputId": "747fe482-c8f6-4382-c6d2-7cef7fec09b9",
        "colab": {
          "base_uri": "https://localhost:8080/",
          "height": 51
        }
      },
      "source": [
        "x = torch.tensor([1000.], requires_grad=True)\n",
        "\n",
        "# With gradient computation:\n",
        "loss = x ** 2\n",
        "print(loss.requires_grad)\n",
        "\n",
        "\n",
        "# Without gradient computation:\n",
        "with torch.no_grad(): # This temporarily sets all the requires_grad flags to false\n",
        "    loss = x ** 2\n",
        "print(loss.requires_grad)"
      ],
      "execution_count": 0,
      "outputs": [
        {
          "output_type": "stream",
          "text": [
            "True\n",
            "False\n"
          ],
          "name": "stdout"
        }
      ]
    },
    {
      "cell_type": "markdown",
      "metadata": {
        "id": "YBlRQHZRhTRQ",
        "colab_type": "text"
      },
      "source": [
        "## 4. Regression with PyTorch"
      ]
    },
    {
      "cell_type": "markdown",
      "metadata": {
        "id": "oXfZxfIBhTRS",
        "colab_type": "text"
      },
      "source": [
        "Let's solve a toy regression problem with PyTorch. Let's define the following data-generating process:\n",
        "\n",
        "$$ y = wx + b + \\epsilon$$\n",
        "\n",
        "Where $w=2$, $b=5$, and $\\epsilon \\sim N(0, 1)$."
      ]
    },
    {
      "cell_type": "code",
      "metadata": {
        "id": "x03lx3HihTRU",
        "colab_type": "code",
        "colab": {}
      },
      "source": [
        "rng = np.random.RandomState(seed=1234)\n",
        "torch.manual_seed(1234)\n",
        "x = rng.uniform(0, 10, 100)\n",
        "w = 2\n",
        "b = 5\n",
        "eps = rng.normal(size=100)\n",
        "y = w * x + b + eps"
      ],
      "execution_count": 0,
      "outputs": []
    },
    {
      "cell_type": "markdown",
      "metadata": {
        "id": "lF2QxOezhTRY",
        "colab_type": "text"
      },
      "source": [
        "Our data looks like this. Now, we want to fit a best-fit line through our data."
      ]
    },
    {
      "cell_type": "code",
      "metadata": {
        "scrolled": true,
        "id": "R-mxQO_ahTRZ",
        "colab_type": "code",
        "outputId": "719e003b-4978-4d6d-bf7f-4fec6fd742b6",
        "colab": {
          "base_uri": "https://localhost:8080/",
          "height": 282
        }
      },
      "source": [
        "plt.scatter(x, y)"
      ],
      "execution_count": 0,
      "outputs": [
        {
          "output_type": "execute_result",
          "data": {
            "text/plain": [
              "<matplotlib.collections.PathCollection at 0x7f1a462c0320>"
            ]
          },
          "metadata": {
            "tags": []
          },
          "execution_count": 25
        },
        {
          "output_type": "display_data",
          "data": {
            "image/png": "[encoded data removed]",
            "text/plain": [
              "<Figure size 432x288 with 1 Axes>"
            ]
          },
          "metadata": {
            "tags": []
          }
        }
      ]
    },
    {
      "cell_type": "markdown",
      "metadata": {
        "id": "USCABfrvhTRe",
        "colab_type": "text"
      },
      "source": [
        "PyTorch lets users wrap complex function in `nn.Modules`. `nn.Linear` is a simple instance of a module, that just captures a simple linear function."
      ]
    },
    {
      "cell_type": "code",
      "metadata": {
        "id": "rep3zBpChTRg",
        "colab_type": "code",
        "colab": {}
      },
      "source": [
        "linear_model = nn.Linear(in_features=1, out_features=1)"
      ],
      "execution_count": 0,
      "outputs": []
    },
    {
      "cell_type": "markdown",
      "metadata": {
        "id": "UE0XykfqhTRl",
        "colab_type": "text"
      },
      "source": [
        "The above initialized `linear_model` contains two parameters: a weight and a bias, corresponding to the $w$ and $b$ above. The values of these parameters are randomly initialized at the start."
      ]
    },
    {
      "cell_type": "code",
      "metadata": {
        "id": "T1Dx3ENbhTRn",
        "colab_type": "code",
        "outputId": "14936660-5392-421a-fc39-4a8b5a95fcad",
        "colab": {
          "base_uri": "https://localhost:8080/",
          "height": 85
        }
      },
      "source": [
        "for name, param in linear_model.named_parameters():\n",
        "    print(name, param)"
      ],
      "execution_count": 0,
      "outputs": [
        {
          "output_type": "stream",
          "text": [
            "weight Parameter containing:\n",
            "tensor([[-0.9420]], requires_grad=True)\n",
            "bias Parameter containing:\n",
            "tensor([-0.1962], requires_grad=True)\n"
          ],
          "name": "stdout"
        }
      ]
    },
    {
      "cell_type": "markdown",
      "metadata": {
        "id": "TStejIlvhTRq",
        "colab_type": "text"
      },
      "source": [
        "This is what our untrained model looks like initially: it's just a random line!"
      ]
    },
    {
      "cell_type": "code",
      "metadata": {
        "id": "v4ZU3fzuhTRs",
        "colab_type": "code",
        "outputId": "43c6f10f-24cb-4594-9fc9-6479d3edc83b",
        "colab": {
          "base_uri": "https://localhost:8080/",
          "height": 282
        }
      },
      "source": [
        "plt.scatter(x, y)\n",
        "x_space = np.linspace(0, 10, 5)\n",
        "plt.plot(\n",
        "    x_space, \n",
        "    linear_model.weight.item() * x_space + linear_model.bias.item(),\n",
        "    linestyle=\"--\", color=\"red\"\n",
        ")"
      ],
      "execution_count": 0,
      "outputs": [
        {
          "output_type": "execute_result",
          "data": {
            "text/plain": [
              "[<matplotlib.lines.Line2D at 0x7f1a462719b0>]"
            ]
          },
          "metadata": {
            "tags": []
          },
          "execution_count": 28
        },
        {
          "output_type": "display_data",
          "data": {
            "image/png": "[encoded data removed]",
            "text/plain": [
              "<Figure size 432x288 with 1 Axes>"
            ]
          },
          "metadata": {
            "tags": []
          }
        }
      ]
    },
    {
      "cell_type": "markdown",
      "metadata": {
        "id": "-UoxmpmjhTRw",
        "colab_type": "text"
      },
      "source": [
        "To start training, we'll do two things:\n",
        "* First, we'll create PyTorch tensors based on our artifically generated data.\n",
        "* Second, we'll create an optimizer, that will make gradient descent more convenient for us. We'll use a simple stochastic gradient descent (SGD) optimizer with a learning rate of 0.01."
      ]
    },
    {
      "cell_type": "code",
      "metadata": {
        "scrolled": true,
        "id": "4HPHClI2hTRx",
        "colab_type": "code",
        "colab": {}
      },
      "source": [
        "x_tensor = torch.tensor(x).float().view(-1, 1)\n",
        "y_tensor = torch.tensor(y).float().view(-1, 1)\n",
        "optimizer = optim.SGD(linear_model.parameters(), lr=0.01)"
      ],
      "execution_count": 0,
      "outputs": []
    },
    {
      "cell_type": "markdown",
      "metadata": {
        "id": "c6eWgexUhTR2",
        "colab_type": "text"
      },
      "source": [
        "Let's perform our optimization for 1000 steps, and see how our line of best fit changes over time (we'll check every 200 steps).\n",
        "\n",
        "Pay close attention to the steps that happen within the loop:\n",
        "\n",
        "1. Compute the forward pass (predict $\\hat{y}$)\n",
        "2. Compute the loss (how far are we from the true $y$?)\n",
        "3. Back-propagate the gradients\n",
        "4. Take a step with the optimizer (update the parameters)\n",
        "5. Zero-out the gradients of the optimizer (**This is an important and often forgotten step**. If you don't do this, the gradients will be continually accumulated for past forward passes.)"
      ]
    },
    {
      "cell_type": "code",
      "metadata": {
        "scrolled": false,
        "id": "SHCVQFpThTR3",
        "colab_type": "code",
        "outputId": "087372c3-68b8-4c50-f8e0-c19e0b7b5a8d",
        "colab": {
          "base_uri": "https://localhost:8080/",
          "height": 953
        }
      },
      "source": [
        "for t in range(1001):\n",
        "    # === Optimization === #\n",
        "    \n",
        "    # 1. Compute the forward pass\n",
        "    y_hat = linear_model(x_tensor)\n",
        "    \n",
        "    # 2. Compute the loss\n",
        "    loss = F.mse_loss(y_hat, y_tensor)\n",
        "    \n",
        "    # 3. Back-propagate the gradients\n",
        "    loss.backward()\n",
        "    \n",
        "    # 4. Take a step with the optimizer (update the parameters)\n",
        "    optimizer.step()\n",
        "    \n",
        "    # 5.Zero-out the gradients of the optimizer\n",
        "    optimizer.zero_grad()\n",
        "    \n",
        "    # === Plotting === #\n",
        "    if t % 200 == 0:\n",
        "        current_w = linear_model.weight.item()\n",
        "        current_b = linear_model.bias.item()\n",
        "        plt.figure(figsize=(4, 2))\n",
        "        plt.scatter(x, y)\n",
        "        x_space = np.linspace(0, 10, 5)\n",
        "        plt.plot(\n",
        "            x_space, \n",
        "            current_w * x_space + current_b,\n",
        "            linestyle=\"--\", color=\"red\"\n",
        "        )\n",
        "        plt.title(f\"Step={t}, w={current_w:.3f}, b={current_b:.3f}\")\n",
        "        plt.show()"
      ],
      "execution_count": 0,
      "outputs": [
        {
          "output_type": "display_data",
          "data": {
            "image/png": "[encoded data removed]",
            "text/plain": [
              "<Figure size 288x144 with 1 Axes>"
            ]
          },
          "metadata": {
            "tags": []
          }
        },
        {
          "output_type": "display_data",
          "data": {
            "image/png": "[encoded data removed]",
            "text/plain": [
              "<Figure size 288x144 with 1 Axes>"
            ]
          },
          "metadata": {
            "tags": []
          }
        },
        {
          "output_type": "display_data",
          "data": {
            "image/png": "[encoded data removed]",
            "text/plain": [
              "<Figure size 288x144 with 1 Axes>"
            ]
          },
          "metadata": {
            "tags": []
          }
        },
        {
          "output_type": "display_data",
          "data": {
            "image/png": "[encoded data removed]",
            "text/plain": [
              "<Figure size 288x144 with 1 Axes>"
            ]
          },
          "metadata": {
            "tags": []
          }
        },
        {
          "output_type": "display_data",
          "data": {
            "image/png": "[encoded data removed]",
            "text/plain": [
              "<Figure size 288x144 with 1 Axes>"
            ]
          },
          "metadata": {
            "tags": []
          }
        },
        {
          "output_type": "display_data",
          "data": {
            "image/png": "[encoded data removed]",
            "text/plain": [
              "<Figure size 288x144 with 1 Axes>"
            ]
          },
          "metadata": {
            "tags": []
          }
        }
      ]
    },
    {
      "cell_type": "markdown",
      "metadata": {
        "id": "6JqQbPzNhTR8",
        "colab_type": "text"
      },
      "source": [
        "You should see the values of $w$ and $b$ get closer to $2$ and $5$ respectively."
      ]
    },
    {
      "cell_type": "markdown",
      "metadata": {
        "id": "ZfoicWcGhTR-",
        "colab_type": "text"
      },
      "source": [
        "## A simple text-classification model with PyTorch"
      ]
    },
    {
      "cell_type": "code",
      "metadata": {
        "id": "KcKFNxeQj_p1",
        "colab_type": "code",
        "cellView": "both",
        "outputId": "af465ab5-3a74-4218-f769-b904691e4f22",
        "colab": {
          "base_uri": "https://localhost:8080/",
          "height": 1000
        }
      },
      "source": [
        "#@title Download data and GloVe word embeddings\n",
        "\n",
        "# === Download data and GloVe word embeddings\n",
        "# !wget https://s3.amazonaws.com/fast-ai-nlp/yelp_review_polarity_csv.tgz\n",
        "# !wget http://nlp.stanford.edu/data/glove.6B.zip\n",
        "\n",
        "# === Unzip yelp dataset and use a truncated version of the dataset\n",
        "# !tar zxvf yelp_review_polarity_csv.tgz\n",
        "# !head -n 10000 yelp_review_polarity_csv/train.csv > train_10000.csv\n",
        "# !head -n 1000 yelp_review_polarity_csv/test.csv > test_1000.csv\n",
        "\n",
        "# === Unzip word embeddings and use only the top 50000 word embeddings for speed\n",
        "# !unzip glove.6B.zip\n",
        "# !head -n 50000 glove.6B.300d.txt > glove.6B.300d__50k.txt\n",
        "\n",
        "# === Download Preprocessed version\n",
        "!wget https://docs.google.com/uc?id=1iBc6Mc8rt1T9Uo6QH9rdVQOL6ZjwvTGf -O train_10000.csv\n",
        "!wget https://docs.google.com/uc?id=13B-BqMHTyUehUZkyNBaHYByCjGUUZXwd -O test_1000.csv\n",
        "!wget https://docs.google.com/uc?id=1KMJTagaVD9hFHXFTPtNk0u2JjvNlyCAu -O glove_split.aa\n",
        "!wget https://docs.google.com/uc?id=1LF2yD2jToXriyD-lsYA5hj03f7J3ZKaY -O glove_split.ab\n",
        "!wget https://docs.google.com/uc?id=1N1xnxkRyM5Gar7sv4d41alyTL92Iip3f -O glove_split.ac\n",
        "!cat glove_split.?? > 'glove.6B.300d__50k.txt'"
      ],
      "execution_count": 0,
      "outputs": [
        {
          "output_type": "stream",
          "text": [
            "--2020-02-13 17:27:45--  https://docs.google.com/uc?id=1iBc6Mc8rt1T9Uo6QH9rdVQOL6ZjwvTGf\n",
            "Resolving docs.google.com (docs.google.com)... 74.125.195.113, 74.125.195.100, 74.125.195.139, ...\n",
            "Connecting to docs.google.com (docs.google.com)|74.125.195.113|:443... connected.\n",
            "HTTP request sent, awaiting response... 302 Moved Temporarily\n",
            "Location: https://doc-10-0g-docs.googleusercontent.com/docs/securesc/ha0ro937gcuc7l7deffksulhg5h7mbp1/6edcvkbdobj5h9sjk4jp0t1jq9pjoh04/1581614100000/14514704803973256873/*/1iBc6Mc8rt1T9Uo6QH9rdVQOL6ZjwvTGf [following]\n",
            "Warning: wildcards not supported in HTTP.\n",
            "--2020-02-13 17:27:46--  https://doc-10-0g-docs.googleusercontent.com/docs/securesc/ha0ro937gcuc7l7deffksulhg5h7mbp1/6edcvkbdobj5h9sjk4jp0t1jq9pjoh04/1581614100000/14514704803973256873/*/1iBc6Mc8rt1T9Uo6QH9rdVQOL6ZjwvTGf\n",
            "Resolving doc-10-0g-docs.googleusercontent.com (doc-10-0g-docs.googleusercontent.com)... 74.125.195.132, 2607:f8b0:400e:c09::84\n",
            "Connecting to doc-10-0g-docs.googleusercontent.com (doc-10-0g-docs.googleusercontent.com)|74.125.195.132|:443... connected.\n",
            "HTTP request sent, awaiting response... 200 OK\n",
            "Length: unspecified [text/csv]\n",
            "Saving to: ‘train_10000.csv’\n",
            "\n",
            "train_10000.csv         [ <=>                ]   6.83M  --.-KB/s    in 0.03s   \n",
            "\n",
            "2020-02-13 17:27:46 (206 MB/s) - ‘train_10000.csv’ saved [7163576]\n",
            "\n",
            "--2020-02-13 17:27:47--  https://docs.google.com/uc?id=13B-BqMHTyUehUZkyNBaHYByCjGUUZXwd\n",
            "Resolving docs.google.com (docs.google.com)... 74.125.20.100, 74.125.20.138, 74.125.20.139, ...\n",
            "Connecting to docs.google.com (docs.google.com)|74.125.20.100|:443... connected.\n",
            "HTTP request sent, awaiting response... 302 Moved Temporarily\n",
            "Location: https://doc-00-0g-docs.googleusercontent.com/docs/securesc/ha0ro937gcuc7l7deffksulhg5h7mbp1/jf6a9r50kojd3adluburv93d64lg7as5/1581614100000/14514704803973256873/*/13B-BqMHTyUehUZkyNBaHYByCjGUUZXwd [following]\n",
            "Warning: wildcards not supported in HTTP.\n",
            "--2020-02-13 17:27:47--  https://doc-00-0g-docs.googleusercontent.com/docs/securesc/ha0ro937gcuc7l7deffksulhg5h7mbp1/jf6a9r50kojd3adluburv93d64lg7as5/1581614100000/14514704803973256873/*/13B-BqMHTyUehUZkyNBaHYByCjGUUZXwd\n",
            "Resolving doc-00-0g-docs.googleusercontent.com (doc-00-0g-docs.googleusercontent.com)... 74.125.195.132, 2607:f8b0:400e:c09::84\n",
            "Connecting to doc-00-0g-docs.googleusercontent.com (doc-00-0g-docs.googleusercontent.com)|74.125.195.132|:443... connected.\n",
            "HTTP request sent, awaiting response... 200 OK\n",
            "Length: 721232 (704K) [text/csv]\n",
            "Saving to: ‘test_1000.csv’\n",
            "\n",
            "test_1000.csv       100%[===================>] 704.33K  --.-KB/s    in 0.004s  \n",
            "\n",
            "2020-02-13 17:27:48 (155 MB/s) - ‘test_1000.csv’ saved [721232/721232]\n",
            "\n",
            "--2020-02-13 17:27:48--  https://docs.google.com/uc?id=1KMJTagaVD9hFHXFTPtNk0u2JjvNlyCAu\n",
            "Resolving docs.google.com (docs.google.com)... 74.125.195.139, 74.125.195.113, 74.125.195.101, ...\n",
            "Connecting to docs.google.com (docs.google.com)|74.125.195.139|:443... connected.\n",
            "HTTP request sent, awaiting response... 302 Moved Temporarily\n",
            "Location: https://doc-0k-0g-docs.googleusercontent.com/docs/securesc/ha0ro937gcuc7l7deffksulhg5h7mbp1/9d2j6veu8kvpdvqs1f60lbu03rn5b2r1/1581614100000/14514704803973256873/*/1KMJTagaVD9hFHXFTPtNk0u2JjvNlyCAu [following]\n",
            "Warning: wildcards not supported in HTTP.\n",
            "--2020-02-13 17:27:49--  https://doc-0k-0g-docs.googleusercontent.com/docs/securesc/ha0ro937gcuc7l7deffksulhg5h7mbp1/9d2j6veu8kvpdvqs1f60lbu03rn5b2r1/1581614100000/14514704803973256873/*/1KMJTagaVD9hFHXFTPtNk0u2JjvNlyCAu\n",
            "Resolving doc-0k-0g-docs.googleusercontent.com (doc-0k-0g-docs.googleusercontent.com)... 74.125.195.132, 2607:f8b0:400e:c09::84\n",
            "Connecting to doc-0k-0g-docs.googleusercontent.com (doc-0k-0g-docs.googleusercontent.com)|74.125.195.132|:443... connected.\n",
            "HTTP request sent, awaiting response... 200 OK\n",
            "Length: unspecified [audio/audible]\n",
            "Saving to: ‘glove_split.aa’\n",
            "\n",
            "glove_split.aa          [   <=>              ]  50.00M  82.0MB/s    in 0.6s    \n",
            "\n",
            "2020-02-13 17:27:50 (82.0 MB/s) - ‘glove_split.aa’ saved [52428800]\n",
            "\n",
            "--2020-02-13 17:27:50--  https://docs.google.com/uc?id=1LF2yD2jToXriyD-lsYA5hj03f7J3ZKaY\n",
            "Resolving docs.google.com (docs.google.com)... 74.125.195.113, 74.125.195.100, 74.125.195.139, ...\n",
            "Connecting to docs.google.com (docs.google.com)|74.125.195.113|:443... connected.\n",
            "HTTP request sent, awaiting response... 302 Moved Temporarily\n",
            "Location: https://doc-08-0g-docs.googleusercontent.com/docs/securesc/ha0ro937gcuc7l7deffksulhg5h7mbp1/o50stmqp8pvkgk223s46inqmtnlebsmo/1581614100000/14514704803973256873/*/1LF2yD2jToXriyD-lsYA5hj03f7J3ZKaY [following]\n",
            "Warning: wildcards not supported in HTTP.\n",
            "--2020-02-13 17:27:54--  https://doc-08-0g-docs.googleusercontent.com/docs/securesc/ha0ro937gcuc7l7deffksulhg5h7mbp1/o50stmqp8pvkgk223s46inqmtnlebsmo/1581614100000/14514704803973256873/*/1LF2yD2jToXriyD-lsYA5hj03f7J3ZKaY\n",
            "Resolving doc-08-0g-docs.googleusercontent.com (doc-08-0g-docs.googleusercontent.com)... 74.125.195.132, 2607:f8b0:400e:c09::84\n",
            "Connecting to doc-08-0g-docs.googleusercontent.com (doc-08-0g-docs.googleusercontent.com)|74.125.195.132|:443... connected.\n",
            "HTTP request sent, awaiting response... 200 OK\n",
            "Length: unspecified [application/octet-stream]\n",
            "Saving to: ‘glove_split.ab’\n",
            "\n",
            "glove_split.ab          [     <=>            ]  50.00M  46.6MB/s    in 1.1s    \n",
            "\n",
            "2020-02-13 17:27:55 (46.6 MB/s) - ‘glove_split.ab’ saved [52428800]\n",
            "\n",
            "--2020-02-13 17:27:55--  https://docs.google.com/uc?id=1N1xnxkRyM5Gar7sv4d41alyTL92Iip3f\n",
            "Resolving docs.google.com (docs.google.com)... 74.125.195.113, 74.125.195.100, 74.125.195.139, ...\n",
            "Connecting to docs.google.com (docs.google.com)|74.125.195.113|:443... connected.\n",
            "HTTP request sent, awaiting response... 302 Moved Temporarily\n",
            "Location: https://doc-04-0g-docs.googleusercontent.com/docs/securesc/ha0ro937gcuc7l7deffksulhg5h7mbp1/kanc09mb51n3rv3repn028se6sc9jk1o/1581614100000/14514704803973256873/*/1N1xnxkRyM5Gar7sv4d41alyTL92Iip3f [following]\n",
            "Warning: wildcards not supported in HTTP.\n",
            "--2020-02-13 17:27:56--  https://doc-04-0g-docs.googleusercontent.com/docs/securesc/ha0ro937gcuc7l7deffksulhg5h7mbp1/kanc09mb51n3rv3repn028se6sc9jk1o/1581614100000/14514704803973256873/*/1N1xnxkRyM5Gar7sv4d41alyTL92Iip3f\n",
            "Resolving doc-04-0g-docs.googleusercontent.com (doc-04-0g-docs.googleusercontent.com)... 74.125.195.132, 2607:f8b0:400e:c09::84\n",
            "Connecting to doc-04-0g-docs.googleusercontent.com (doc-04-0g-docs.googleusercontent.com)|74.125.195.132|:443... connected.\n",
            "HTTP request sent, awaiting response... 200 OK\n",
            "Length: unspecified [application/octet-stream]\n",
            "Saving to: ‘glove_split.ac’\n",
            "\n",
            "glove_split.ac          [  <=>               ]  23.49M  58.7MB/s    in 0.4s    \n",
            "\n",
            "2020-02-13 17:27:57 (58.7 MB/s) - ‘glove_split.ac’ saved [24629432]\n",
            "\n"
          ],
          "name": "stdout"
        }
      ]
    },
    {
      "cell_type": "code",
      "metadata": {
        "id": "Db_YRon3hTSA",
        "colab_type": "code",
        "colab": {}
      },
      "source": [
        "# Some constants that will be useful along the way.\n",
        "\n",
        "VOCAB_SIZE = 50001\n",
        "EMBEDDING_DIM = 300\n",
        "PAD_TOKEN = \"PAD\"\n",
        "NUM_CLASSES = 2\n",
        "NUM_EPOCHS = 10"
      ],
      "execution_count": 0,
      "outputs": []
    },
    {
      "cell_type": "markdown",
      "metadata": {
        "id": "WZQtdRmlhTSD",
        "colab_type": "text"
      },
      "source": [
        "First, let's read in some data. We'll work with a subset of the Yelp review classification dataset."
      ]
    },
    {
      "cell_type": "code",
      "metadata": {
        "id": "VIGqF2-ChTSF",
        "colab_type": "code",
        "colab": {}
      },
      "source": [
        "train_df = pd.read_csv(\"train_10000.csv\", header=None, names=[\"label\", \"text\"])\n",
        "test_df = pd.read_csv(\"test_1000.csv\", header=None, names=[\"label\", \"text\"])"
      ],
      "execution_count": 0,
      "outputs": []
    },
    {
      "cell_type": "code",
      "metadata": {
        "id": "21JbHD5WhTSJ",
        "colab_type": "code",
        "outputId": "5d06a219-737f-443d-cb17-135a5a626cb8",
        "colab": {
          "base_uri": "https://localhost:8080/",
          "height": 204
        }
      },
      "source": [
        "train_df.head()"
      ],
      "execution_count": 0,
      "outputs": [
        {
          "output_type": "execute_result",
          "data": {
            "text/html": [
              "<div>\n",
              "<style scoped>\n",
              "    .dataframe tbody tr th:only-of-type {\n",
              "        vertical-align: middle;\n",
              "    }\n",
              "\n",
              "    .dataframe tbody tr th {\n",
              "        vertical-align: top;\n",
              "    }\n",
              "\n",
              "    .dataframe thead th {\n",
              "        text-align: right;\n",
              "    }\n",
              "</style>\n",
              "<table border=\"1\" class=\"dataframe\">\n",
              "  <thead>\n",
              "    <tr style=\"text-align: right;\">\n",
              "      <th></th>\n",
              "      <th>label</th>\n",
              "      <th>text</th>\n",
              "    </tr>\n",
              "  </thead>\n",
              "  <tbody>\n",
              "    <tr>\n",
              "      <th>0</th>\n",
              "      <td>1</td>\n",
              "      <td>Unfortunately, the frustration of being Dr. Go...</td>\n",
              "    </tr>\n",
              "    <tr>\n",
              "      <th>1</th>\n",
              "      <td>2</td>\n",
              "      <td>Been going to Dr. Goldberg for over 10 years. ...</td>\n",
              "    </tr>\n",
              "    <tr>\n",
              "      <th>2</th>\n",
              "      <td>1</td>\n",
              "      <td>I don't know what Dr. Goldberg was like before...</td>\n",
              "    </tr>\n",
              "    <tr>\n",
              "      <th>3</th>\n",
              "      <td>1</td>\n",
              "      <td>I'm writing this review to give you a heads up...</td>\n",
              "    </tr>\n",
              "    <tr>\n",
              "      <th>4</th>\n",
              "      <td>2</td>\n",
              "      <td>All the food is great here. But the best thing...</td>\n",
              "    </tr>\n",
              "  </tbody>\n",
              "</table>\n",
              "</div>"
            ],
            "text/plain": [
              "   label                                               text\n",
              "0      1  Unfortunately, the frustration of being Dr. Go...\n",
              "1      2  Been going to Dr. Goldberg for over 10 years. ...\n",
              "2      1  I don't know what Dr. Goldberg was like before...\n",
              "3      1  I'm writing this review to give you a heads up...\n",
              "4      2  All the food is great here. But the best thing..."
            ]
          },
          "metadata": {
            "tags": []
          },
          "execution_count": 41
        }
      ]
    },
    {
      "cell_type": "markdown",
      "metadata": {
        "id": "WeKsTiDbhTSN",
        "colab_type": "text"
      },
      "source": [
        "The labels correspond to 1 for negative and 2 for positive."
      ]
    },
    {
      "cell_type": "markdown",
      "metadata": {
        "id": "6PtOm68bhTSO",
        "colab_type": "text"
      },
      "source": [
        "For this model, we're going to make use of word embeddings. Word embeddings map individual words or tokens to unique vector of numbers (e.g. 300-dim), corresponding to a point in high-dimensional space. (Why these are useful will be covered in class in the near future!)\n",
        "\n",
        "We will use the [GloVe](https://nlp.stanford.edu/projects/glove/) word vectors as our embeddings. These are pretrained on a large corpus of text."
      ]
    },
    {
      "cell_type": "code",
      "metadata": {
        "id": "UpnHBGh1hTSO",
        "colab_type": "code",
        "colab": {}
      },
      "source": [
        "def load_glove(glove_path, embedding_dim):\n",
        "    with open(glove_path) as f:\n",
        "        token_ls = [PAD_TOKEN]\n",
        "        embedding_ls = [np.zeros(embedding_dim)]\n",
        "        for line in f:\n",
        "            token, raw_embedding = line.split(maxsplit=1)\n",
        "            token_ls.append(token)\n",
        "            embedding = np.array([float(x) for x in raw_embedding.split()])\n",
        "            embedding_ls.append(embedding)\n",
        "        embeddings = np.array(embedding_ls)\n",
        "    return token_ls, embeddings"
      ],
      "execution_count": 0,
      "outputs": []
    },
    {
      "cell_type": "code",
      "metadata": {
        "id": "Lix6QLj2hTST",
        "colab_type": "code",
        "colab": {}
      },
      "source": [
        "glove_path = \"glove.6B.300d__50k.txt\"\n",
        "vocab, embeddings = load_glove(glove_path, EMBEDDING_DIM)"
      ],
      "execution_count": 0,
      "outputs": []
    },
    {
      "cell_type": "markdown",
      "metadata": {
        "id": "Iq_rnG4ohTSn",
        "colab_type": "text"
      },
      "source": [
        "After loading the GloVe vectors, we see that we have vocab of 50000 words and a unique PAD token, and a [50000$\\times$300] NumPy array of word vectors."
      ]
    },
    {
      "cell_type": "code",
      "metadata": {
        "id": "sgKpSVqlhTSo",
        "colab_type": "code",
        "outputId": "dfd7e1b8-8050-4277-bb43-717ee596ac01",
        "colab": {
          "base_uri": "https://localhost:8080/",
          "height": 153
        }
      },
      "source": [
        "print(len(vocab))\n",
        "print(vocab[:20])\n",
        "print(embeddings.shape)\n",
        "print(embeddings[:5])"
      ],
      "execution_count": 0,
      "outputs": [
        {
          "output_type": "stream",
          "text": [
            "50001\n",
            "['PAD', 'the', ',', '.', 'of', 'to', 'and', 'in', 'a', '\"', \"'s\", 'for', '-', 'that', 'on', 'is', 'was', 'said', 'with', 'he']\n",
            "(50001, 300)\n",
            "[[ 0.         0.         0.        ...  0.         0.         0.       ]\n",
            " [ 0.04656    0.21318   -0.0074364 ...  0.0090611 -0.20989    0.053913 ]\n",
            " [-0.25539   -0.25723    0.13169   ... -0.2329    -0.12226    0.35499  ]\n",
            " [-0.12559    0.01363    0.10306   ... -0.34224   -0.022394   0.13684  ]\n",
            " [-0.076947  -0.021211   0.21271   ...  0.18351   -0.29183   -0.046533 ]]\n"
          ],
          "name": "stdout"
        }
      ]
    },
    {
      "cell_type": "markdown",
      "metadata": {
        "id": "j2NJOG02hTSt",
        "colab_type": "text"
      },
      "source": [
        "Our strategy is to tokenize (break a string of text into words or tokens) our input string into a list of tokens, and map each word the the corresponding vector.\n",
        "\n",
        "We do this by first mapping each word to a token-id, and then use a PyTorch `nn.Embedding` module that maps from token-ids to embeddings. The token-id will simply be the numerical position in our `vocab`."
      ]
    },
    {
      "cell_type": "markdown",
      "metadata": {
        "id": "hMD6hUjjhTSu",
        "colab_type": "text"
      },
      "source": [
        "First, we'll write a function that converts our DataFrame of text and labels into an array of token-ids and an array of labels. We'll use a maximum sequence length of 128, and pad shorter inputs to that length. If we encounter a word that doesn't appear in our vocab, we'll also treat it as a padded value."
      ]
    },
    {
      "cell_type": "code",
      "metadata": {
        "id": "Sxz4AotohTSv",
        "colab_type": "code",
        "outputId": "78ce6abe-f301-49c1-a33d-30400d4ac1dd",
        "colab": {
          "base_uri": "https://localhost:8080/",
          "height": 115,
          "referenced_widgets": [
            "35fd818991994a2da19108a5aa76fd0a",
            "02431183d37049d7a2e1942a78e8e2ef",
            "4761490ecf824f1a8d0eecb42268cb61",
            "be2a2bfc77144044beec4f577e72b2c3",
            "72453a9042c048339eed98a6541cdd60",
            "09bf6882d02f433ba2655f141e2a561b",
            "7b9cec2c6e544640973116c13633e5e6",
            "bd0ca5b8af25438c984d6b62ec42cf61",
            "63100f2daa50418481f5753cdc4b0d1e",
            "5656487e02454c9298a946b6814ee6a3",
            "e996348e89c44ca599cdf34c7ef54764",
            "2f2f05e2ae3142d59e3d1d7577e01c6b",
            "8f2961fc15de45b0ae53caf5e71f0b98",
            "cfc7e98d9f5a44f6ac011cd68ec78cbf",
            "12aca6f222794d8d9232c76f2aab899a",
            "1a723dc4cd2a4447b6481c53ac6adb28"
          ]
        }
      },
      "source": [
        "def featurize(data_df, tokenizer, vocab, max_seq_length=128):\n",
        "    vocab_to_idx = {word: i for i, word in enumerate(vocab)}\n",
        "    text_data = []\n",
        "    label_data = []\n",
        "    for row in tqdm.tqdm_notebook(data_df.itertuples(), total=len(data_df)):\n",
        "        tokenized = tokenizer.tokenize(row.text.lower())\n",
        "        if len(tokenized) < max_seq_length:\n",
        "            tokenized += [PAD_TOKEN] * (max_seq_length - len(tokenized))\n",
        "        tokenized = tokenized[:max_seq_length]\n",
        "        ids = [vocab_to_idx.get(token, 0) for token in tokenized]\n",
        "        text_data.append(ids)\n",
        "        label_data.append(1 if row.label == 2 else 0)\n",
        "    return np.array(text_data), np.array(label_data)\n",
        "\n",
        "tokenizer = sacremoses.MosesTokenizer()\n",
        "train_text, train_labels = featurize(train_df, tokenizer, vocab)\n",
        "test_text, test_labels = featurize(test_df, tokenizer, vocab)"
      ],
      "execution_count": 0,
      "outputs": [
        {
          "output_type": "display_data",
          "data": {
            "application/vnd.jupyter.widget-view+json": {
              "model_id": "35fd818991994a2da19108a5aa76fd0a",
              "version_minor": 0,
              "version_major": 2
            },
            "text/plain": [
              "HBox(children=(IntProgress(value=0, max=10000), HTML(value='')))"
            ]
          },
          "metadata": {
            "tags": []
          }
        },
        {
          "output_type": "stream",
          "text": [
            "\n"
          ],
          "name": "stdout"
        },
        {
          "output_type": "display_data",
          "data": {
            "application/vnd.jupyter.widget-view+json": {
              "model_id": "63100f2daa50418481f5753cdc4b0d1e",
              "version_minor": 0,
              "version_major": 2
            },
            "text/plain": [
              "HBox(children=(IntProgress(value=0, max=1000), HTML(value='')))"
            ]
          },
          "metadata": {
            "tags": []
          }
        },
        {
          "output_type": "stream",
          "text": [
            "\n"
          ],
          "name": "stdout"
        }
      ]
    },
    {
      "cell_type": "code",
      "metadata": {
        "scrolled": true,
        "id": "lGT0YJGqhTS1",
        "colab_type": "code",
        "outputId": "7e38ea47-92ef-4db6-fe06-954f40bccf58",
        "colab": {
          "base_uri": "https://localhost:8080/",
          "height": 1000
        }
      },
      "source": [
        "print(\"Train text shape:\", train_text.shape)\n",
        "print(\"Train labels shape:\", train_labels.shape)\n",
        "print(\"\\nTrain text first 5 examples:\\n\", train_text[:5])\n",
        "print(\"\\nTrain labels first 5 examples:\\n\", train_labels[:5])"
      ],
      "execution_count": 0,
      "outputs": [
        {
          "output_type": "stream",
          "text": [
            "Train text shape: (10000, 128)\n",
            "Train labels shape: (10000,)\n",
            "\n",
            "Train text first 5 examples:\n",
            " [[ 4717     2     1  6429     4   135  1345 12316     0  3223    15     8\n",
            "   5149     4     1  1222    42     0    41    18   101   110    69  1769\n",
            "      7 16727    66   220  2083     2  5511     0    21  1349    13    27\n",
            "    822  1482   333  5320     1     0    21  1141  1145   233   607     4\n",
            "   3383  1526     5   170    30     0    39    32    80    11    13    47\n",
            "   1026     5   436    18    21   189    42    34   308    76    38   748\n",
            "     18   110    69  1769     6    42   121  3317     0   170     0    82\n",
            "     34   284   538     2    82    34  1616    18   750  1076     2   739\n",
            "      0     0  1545 10311     1  1265   189    21     0 29467     6    37\n",
            "    162     1     0    21     0    18  6744    13    42   999    13    42\n",
            "     34     5   456  1345 12316   233  1570     3]\n",
            " [   52   223     5  1345 12316    11    75   207     0    42   270    42\n",
            "     16    49     4    27  2694  1616    62    19   552    23     0    19\n",
            "      0    52   354    75     1    83     6    15   589    65    60     1\n",
            "    366     0    21    15   114     4   104     2    37   193   115   158\n",
            "      0  1345     0     2    13    42   239    67    42    34     0    19\n",
            "  15309    65  2781    18    82     6    15   192  3223     6     0    19\n",
            "      0     0   925     6  4652    65     1   249     0   192  9663     6\n",
            "   1026     5    31  1291     7     1  8184    14   360  6396     4   393\n",
            "    750   361     6   393   215     3     0     0     0     0     0     0\n",
            "      0     0     0     0     0     0     0     0     0     0     0     0\n",
            "      0     0     0     0     0     0     0     0]\n",
            " [   42  3317     0   347   103  1345 12316    16   118   107  1234     5\n",
            "   2204     2    35   887   286  1362    82     2  1088   421    26    38\n",
            "   2083     6    38     0    42    16   223     5  1345  1326   107    19\n",
            "    219     6 12316   248    75    62  1326     0    19    15    37     8\n",
            "  11048     0    19    15    92  2543     7     1     0     6   519    82\n",
            "    327     7    11  8925     0   360     0    19    44    37   456     0\n",
            "      6    95   441    60  1616     0   396     0   596     5   170   393\n",
            "   1887   250  1340   421 12326 17287   132    38  1857    15     8     0\n",
            "      6     5   160  3073   152  2772     2    27   284   822    15 20023\n",
            "      3  1887   263     4     1    80    62    82   581     1   284     2\n",
            "     40     0   340    82   132     5     8  1714]\n",
            " [   42     0  1650    38  1288     5   456    82     8  1988    61   107\n",
            "     82   254    38     0     1   284   822     6   467    33   192     0\n",
            "     42   219     8  1444    18  2802    70  3337   193   481     2     6\n",
            "     85    49   662   176   286     0    42    41     5 26855   102     5\n",
            "    170    30  2169    60   193   481     3  7958  3815  7958     0     2\n",
            "      6    97   482     2   160  1086   393  1432    15   223     5  1334\n",
            "   1345 12316     0  3237     6  1455     0    19  3886     5   286    13\n",
            "     42   170     8  2184     2     6    19  1523    42    16     8  1284\n",
            "    114    42   155     0    42   406     1  2184     0   169     2    42\n",
            "    239    67   193   361  1432     0     0   643    11 32422     0    42\n",
            "    497    30    81     0   481    11     1  1455]\n",
            " [   65     1   566    15   354     0    35     1   255   874    40    34\n",
            "     15    45     0    45  4699    33  1482  7873   806   806     1  7958\n",
            "      0  6612 27865  7958     0    33    22     1   255   724    97     0\n",
            "     42    53   118     1 15692  2983     0  1756   365    15   184   724\n",
            "    178   365     2    81 20217  1116  4699   806  7958  3815  7958     0\n",
            "   7211   238    15     0   192   214  2568   806     1  2070    15   192\n",
            "   3083    15     0    38   242    15  4703     8     0     0  2896   806\n",
            "    806  7958     0  3577  5949  7958     0    55   836    38   242  3815\n",
            "      0   806   806     0     0     0     0     0     0     0     0     0\n",
            "      0     0     0     0     0     0     0     0     0     0     0     0\n",
            "      0     0     0     0     0     0     0     0]]\n",
            "\n",
            "Train labels first 5 examples:\n",
            " [0 1 0 0 1]\n"
          ],
          "name": "stdout"
        }
      ]
    },
    {
      "cell_type": "markdown",
      "metadata": {
        "id": "Txg95XW3hTS6",
        "colab_type": "text"
      },
      "source": [
        "Next, we build the `nn.Embedding` module, and put our loaded GloVe vectors into the embeddding weights. (Since these are pretrained, we'll opt not to train them any more, so we set `requires_grad` to False.)"
      ]
    },
    {
      "cell_type": "code",
      "metadata": {
        "id": "eSXuotLGhTS7",
        "colab_type": "code",
        "colab": {}
      },
      "source": [
        "embedding_layer = nn.Embedding(VOCAB_SIZE, EMBEDDING_DIM, padding_idx=0)\n",
        "embedding_layer.weight.data = torch.Tensor(embeddings).float()\n",
        "embedding_layer.weight.requires_grad = False"
      ],
      "execution_count": 0,
      "outputs": []
    },
    {
      "cell_type": "markdown",
      "metadata": {
        "id": "ceUon_o4hTS-",
        "colab_type": "text"
      },
      "source": [
        "Deep learning models are typically trained in batches of inputs (as opposed to the whole data set at once). We'll use some PyTorch utilities to easily create input batches. We'll use the `Dataset` and `Dataloader` objects for this."
      ]
    },
    {
      "cell_type": "code",
      "metadata": {
        "id": "jHA0lcwdhTS_",
        "colab_type": "code",
        "colab": {}
      },
      "source": [
        "class TextDataset(Dataset):\n",
        "    def __init__(self, text_data, labels_data):\n",
        "        super().__init__()\n",
        "        self.text_data = text_data\n",
        "        self.labels_data = labels_data\n",
        "    \n",
        "    def __len__(self):\n",
        "        return len(self.text_data)\n",
        "    \n",
        "    def __getitem__(self, idx):\n",
        "        return (self.text_data[idx], self.labels_data[idx])"
      ],
      "execution_count": 0,
      "outputs": []
    },
    {
      "cell_type": "code",
      "metadata": {
        "id": "37w-dHcmhTTB",
        "colab_type": "code",
        "colab": {}
      },
      "source": [
        "train_dataset = TextDataset(train_text, train_labels)\n",
        "test_dataset = TextDataset(test_text, test_labels)"
      ],
      "execution_count": 0,
      "outputs": []
    },
    {
      "cell_type": "markdown",
      "metadata": {
        "id": "l2HCi9VZhTTF",
        "colab_type": "text"
      },
      "source": [
        "The order of examples are often shuffled in training, but never for evaluation."
      ]
    },
    {
      "cell_type": "code",
      "metadata": {
        "id": "uZJLKo_ohTTF",
        "colab_type": "code",
        "colab": {}
      },
      "source": [
        "train_dataloader = dataloader.DataLoader(\n",
        "    dataset=train_dataset, batch_size=256, shuffle=True\n",
        ")\n",
        "test_dataloader = dataloader.DataLoader(\n",
        "    dataset=test_dataset, batch_size=256, shuffle=False\n",
        ")"
      ],
      "execution_count": 0,
      "outputs": []
    },
    {
      "cell_type": "markdown",
      "metadata": {
        "id": "qtl4tK6hhTTI",
        "colab_type": "text"
      },
      "source": [
        "Finally, let's define our model. Our model will simply take an average our the embeddings for an input, and then use a apply a simple linear transformation to get the predicted probabilities for the two classes. This is essentially a multi-class logistic regression."
      ]
    },
    {
      "cell_type": "code",
      "metadata": {
        "id": "DbbYG8g-hTTJ",
        "colab_type": "code",
        "colab": {}
      },
      "source": [
        "class BagOfWordsModel(nn.Module):\n",
        "    def __init__(self, embedding_layer, num_classes):\n",
        "        super().__init__()\n",
        "        self.embedding_layer = embedding_layer\n",
        "        self.out_layer = nn.Linear(embedding_layer.embedding_dim, num_classes)\n",
        "        \n",
        "    def forward(self, x):\n",
        "        # Retrieve embedding vector for each token\n",
        "        # Output dim: [batch_size, seq_length, embedding_dim]\n",
        "        embedded = embedding_layer(x)\n",
        "        \n",
        "        # Compute the number of valid (non-padding, non-unknown) embeddings per exmaple\n",
        "        # Output dim: [batch_size]\n",
        "        num_embedded = (x == embedding_layer.padding_idx) \\\n",
        "            .float().sum(dim=1).clamp(1)\n",
        "        \n",
        "        # Average the embeddings for each example\n",
        "        # Output dim: [batch_size, embedding_dim]\n",
        "        averaged_embeddings = embedded.sum(dim=1) / num_embedded.view(-1, 1)\n",
        "        \n",
        "        # Put the embedding through a linear layer to get our score (logit)\n",
        "        #   for each class\n",
        "        # Output dim: [batch_size, num_classes]\n",
        "        out = self.out_layer(averaged_embeddings)\n",
        "        \n",
        "        # Apply softmax to our logits to get probabilities\n",
        "        # Output dim: [batch_size, num_classes]\n",
        "        \n",
        "        #return F.softmax(out, dim=-1)\n",
        "        return out"
      ],
      "execution_count": 0,
      "outputs": []
    },
    {
      "cell_type": "markdown",
      "metadata": {
        "id": "TwCovEA7hTTM",
        "colab_type": "text"
      },
      "source": [
        "### Putting it together\n",
        "\n",
        "Now, let's prepare for training. We'll instantiate our model, and set up our loss function and optimizer.\n",
        "\n",
        "(Take note of when we call `.to(device)` for the model and inputs."
      ]
    },
    {
      "cell_type": "code",
      "metadata": {
        "id": "LkR881X1hTTO",
        "colab_type": "code",
        "colab": {}
      },
      "source": [
        "device = torch.device(\"cuda:0\")\n",
        "bow_model = BagOfWordsModel(embedding_layer, NUM_CLASSES).to(device)\n",
        "criterion = nn.CrossEntropyLoss()\n",
        "optimizer = optim.Adam(bow_model.parameters(), lr=0.01)\n",
        "loss_history = []"
      ],
      "execution_count": 0,
      "outputs": []
    },
    {
      "cell_type": "code",
      "metadata": {
        "id": "lWu0sH4HhTTR",
        "colab_type": "code",
        "outputId": "0e8cf8b5-5238-4b23-d145-459a879f7aad",
        "colab": {
          "base_uri": "https://localhost:8080/",
          "height": 66,
          "referenced_widgets": [
            "a8dbfdefa37f4e83923e802d5a72995e",
            "6aec29c7e4d941e981cfb33f1744db53",
            "69f63969250c4ff1a3b3ebafd136201a",
            "08b709ee43d54546bb81d41bb27a9740",
            "a690873bb3594ae59f908522e4cb8c00",
            "80927f9ab3234da0820a773493d01ab5",
            "c365d989a8fa487da1fc27251f891e8c",
            "ac784ad3f2a44fe0bf59ecebbd69a45a"
          ]
        }
      },
      "source": [
        "bow_model.train()  # this enables regularization, which we don't currently have\n",
        "for epoch in tqdm.tqdm_notebook(range(NUM_EPOCHS)):\n",
        "    for batch_text, batch_labels in train_dataloader:\n",
        "        preds = bow_model(batch_text.to(device))\n",
        "        loss = criterion(preds, batch_labels.to(device))\n",
        "        loss.backward()\n",
        "        optimizer.step()\n",
        "        optimizer.zero_grad()\n",
        "        loss_history.append(loss.item())"
      ],
      "execution_count": 0,
      "outputs": [
        {
          "output_type": "display_data",
          "data": {
            "application/vnd.jupyter.widget-view+json": {
              "model_id": "a8dbfdefa37f4e83923e802d5a72995e",
              "version_minor": 0,
              "version_major": 2
            },
            "text/plain": [
              "HBox(children=(IntProgress(value=0, max=10), HTML(value='')))"
            ]
          },
          "metadata": {
            "tags": []
          }
        },
        {
          "output_type": "stream",
          "text": [
            "\n"
          ],
          "name": "stdout"
        }
      ]
    },
    {
      "cell_type": "code",
      "metadata": {
        "id": "nWEIkC-1hTTU",
        "colab_type": "code",
        "outputId": "05dbf69f-fbc1-4c48-a7e0-628b445e0141",
        "colab": {
          "base_uri": "https://localhost:8080/",
          "height": 282
        }
      },
      "source": [
        "pd.Series(loss_history).plot()"
      ],
      "execution_count": 0,
      "outputs": [
        {
          "output_type": "execute_result",
          "data": {
            "text/plain": [
              "<matplotlib.axes._subplots.AxesSubplot at 0x7f1a40b4c710>"
            ]
          },
          "metadata": {
            "tags": []
          },
          "execution_count": 58
        },
        {
          "output_type": "display_data",
          "data": {
            "image/png": "[encoded data removed]",
            "text/plain": [
              "<Figure size 432x288 with 1 Axes>"
            ]
          },
          "metadata": {
            "tags": []
          }
        }
      ]
    },
    {
      "cell_type": "markdown",
      "metadata": {
        "id": "9DzpT9TAhTTX",
        "colab_type": "text"
      },
      "source": [
        "Let's evaluate our model on the test set."
      ]
    },
    {
      "cell_type": "code",
      "metadata": {
        "id": "w28nDyHvhTTZ",
        "colab_type": "code",
        "colab": {}
      },
      "source": [
        "def run_inference(model, dataloader, labels, device):\n",
        "    model.eval()\n",
        "    with torch.no_grad():\n",
        "        all_preds = []\n",
        "        for batch_text, batch_labels in dataloader:\n",
        "            preds = model(batch_text.to(device))\n",
        "            all_preds.append(preds.detach().cpu().numpy())\n",
        "    return np.concatenate(all_preds, axis=0)"
      ],
      "execution_count": 0,
      "outputs": []
    },
    {
      "cell_type": "code",
      "metadata": {
        "id": "uye3NgOQhTTc",
        "colab_type": "code",
        "outputId": "21199656-41ad-490a-c7b6-af7d3038616a",
        "colab": {
          "base_uri": "https://localhost:8080/",
          "height": 34
        }
      },
      "source": [
        "preds = run_inference(bow_model, test_dataloader, test_labels, device)\n",
        "(test_labels==preds.argmax(-1)).mean()"
      ],
      "execution_count": 0,
      "outputs": [
        {
          "output_type": "execute_result",
          "data": {
            "text/plain": [
              "0.769"
            ]
          },
          "metadata": {
            "tags": []
          },
          "execution_count": 60
        }
      ]
    },
    {
      "cell_type": "markdown",
      "metadata": {
        "id": "HEQlTykshTTg",
        "colab_type": "text"
      },
      "source": [
        "### A more complex model\n",
        "\n",
        "We can make our model a little more complex. Let's add in:\n",
        "\n",
        "1. A hidden layer (now the model is \"deep\"!)\n",
        "2. Dropout (a form of regularization that randomly zeros out hidden activations during training)"
      ]
    },
    {
      "cell_type": "code",
      "metadata": {
        "id": "Lf1bFJx-hTTi",
        "colab_type": "code",
        "colab": {}
      },
      "source": [
        "class BetterBagOfWordsModel(nn.Module):\n",
        "    def __init__(self, embedding_layer, num_classes,\n",
        "                 hidden_dim=300, dropout_rate=0.5):\n",
        "        super().__init__()\n",
        "        self.embedding_layer = embedding_layer\n",
        "        # ==== START === #\n",
        "        # Consider using:\n",
        "        #   nn.Dropout\n",
        "        #   nn.Linear\n",
        "        self.layer1 = nn.Linear\n",
        "        self.dropout = nn.Dropout\n",
        "        # ==== END === #\n",
        "        self.out_layer = nn.Linear(hidden_dim, num_classes)\n",
        "        \n",
        "    def forward(self, x):\n",
        "        # Retrieve embedding vector for each token\n",
        "        # Output dim: [batch_size, seq_length, embedding_dim]\n",
        "        embedded = embedding_layer(x)\n",
        "        \n",
        "        # Compute the number of valid (non-padding, non-unknown) embeddings per exmaple\n",
        "        # Output dim: [batch_size]\n",
        "        num_embedded = (x == embedding_layer.padding_idx) \\\n",
        "            .float().sum(dim=1).clamp(1)\n",
        "        \n",
        "        # Average the embeddings for each example\n",
        "        # Output dim: [batch_size, embedding_dim]\n",
        "        averaged_embeddings = embedded.sum(dim=1) / num_embedded.view(-1, 1)\n",
        "        \n",
        "        # ==== START === #\n",
        "        # Consider using:\n",
        "        #   F.relu\n",
        "        #   self.layer1\n",
        "        #   self.dropout\n",
        "        h = self.layer1\n",
        "        # ==== END === #\n",
        "        \n",
        "        # Put the embedding through a linear layer to get our score (logit)\n",
        "        #   for each class\n",
        "        # Output dim: [batch_size, num_classes]\n",
        "        out = self.out_layer(h)\n",
        "        \n",
        "        # Apply softmax to our logits to get probabilities\n",
        "        # Output dim: [batch_size, num_classes]\n",
        "        \n",
        "        #return F.softmax(out, dim=-1)\n",
        "        return out"
      ],
      "execution_count": 0,
      "outputs": []
    },
    {
      "cell_type": "code",
      "metadata": {
        "id": "hqPo4ybohTTl",
        "colab_type": "code",
        "colab": {}
      },
      "source": [
        "device = torch.device(\"cuda:0\")\n",
        "better_bow_model = BetterBagOfWordsModel(embedding_layer, NUM_CLASSES).to(device)\n",
        "criterion = nn.CrossEntropyLoss()\n",
        "optimizer = optim.Adam(better_bow_model.parameters(), lr=0.01)\n",
        "loss_history = []"
      ],
      "execution_count": 0,
      "outputs": []
    },
    {
      "cell_type": "code",
      "metadata": {
        "id": "4K85iDF8hTTp",
        "colab_type": "code",
        "outputId": "962e34a3-1b75-4ca8-b437-408b27b77f02",
        "colab": {
          "base_uri": "https://localhost:8080/",
          "height": 424,
          "referenced_widgets": [
            "87ff34bf27c548fcb026714169c759a1",
            "a4fc040b54cc441fa7bd681c698c30d8",
            "41ae84536c8a4883b0138014c0d07d3c",
            "4d71e1f396cb438dbd538be2af585658",
            "b85e815ef82e4dbfa58b16cf5f3d076f",
            "20c599ec305740ac82bb414b0c9e7aec",
            "c12626a16a574b62957b1b5528828cc3",
            "c0804532124548889f1ebb2ecff3998e"
          ]
        }
      },
      "source": [
        "better_bow_model.train()\n",
        "for epoch in tqdm.tqdm_notebook(range(NUM_EPOCHS)):\n",
        "    for batch_text, batch_labels in train_dataloader:\n",
        "        preds = better_bow_model(batch_text.to(device))\n",
        "        loss = criterion(preds, batch_labels.to(device))\n",
        "        loss.backward()\n",
        "        optimizer.step()\n",
        "        optimizer.zero_grad()\n",
        "        loss_history.append(loss.item())"
      ],
      "execution_count": 0,
      "outputs": [
        {
          "output_type": "display_data",
          "data": {
            "application/vnd.jupyter.widget-view+json": {
              "model_id": "87ff34bf27c548fcb026714169c759a1",
              "version_minor": 0,
              "version_major": 2
            },
            "text/plain": [
              "HBox(children=(IntProgress(value=0, max=10), HTML(value='')))"
            ]
          },
          "metadata": {
            "tags": []
          }
        },
        {
          "output_type": "stream",
          "text": [
            "\n"
          ],
          "name": "stdout"
        },
        {
          "output_type": "error",
          "ename": "AttributeError",
          "evalue": "ignored",
          "traceback": [
            "\u001b[0;31m---------------------------------------------------------------------------\u001b[0m",
            "\u001b[0;31mAttributeError\u001b[0m                            Traceback (most recent call last)",
            "\u001b[0;32m<ipython-input-71-63d2b292437a>\u001b[0m in \u001b[0;36m<module>\u001b[0;34m()\u001b[0m\n\u001b[1;32m      2\u001b[0m \u001b[0;32mfor\u001b[0m \u001b[0mepoch\u001b[0m \u001b[0;32min\u001b[0m \u001b[0mtqdm\u001b[0m\u001b[0;34m.\u001b[0m\u001b[0mtqdm_notebook\u001b[0m\u001b[0;34m(\u001b[0m\u001b[0mrange\u001b[0m\u001b[0;34m(\u001b[0m\u001b[0mNUM_EPOCHS\u001b[0m\u001b[0;34m)\u001b[0m\u001b[0;34m)\u001b[0m\u001b[0;34m:\u001b[0m\u001b[0;34m\u001b[0m\u001b[0;34m\u001b[0m\u001b[0m\n\u001b[1;32m      3\u001b[0m     \u001b[0;32mfor\u001b[0m \u001b[0mbatch_text\u001b[0m\u001b[0;34m,\u001b[0m \u001b[0mbatch_labels\u001b[0m \u001b[0;32min\u001b[0m \u001b[0mtrain_dataloader\u001b[0m\u001b[0;34m:\u001b[0m\u001b[0;34m\u001b[0m\u001b[0;34m\u001b[0m\u001b[0m\n\u001b[0;32m----> 4\u001b[0;31m         \u001b[0mpreds\u001b[0m \u001b[0;34m=\u001b[0m \u001b[0mbetter_bow_model\u001b[0m\u001b[0;34m(\u001b[0m\u001b[0mbatch_text\u001b[0m\u001b[0;34m.\u001b[0m\u001b[0mto\u001b[0m\u001b[0;34m(\u001b[0m\u001b[0mdevice\u001b[0m\u001b[0;34m)\u001b[0m\u001b[0;34m)\u001b[0m\u001b[0;34m\u001b[0m\u001b[0;34m\u001b[0m\u001b[0m\n\u001b[0m\u001b[1;32m      5\u001b[0m         \u001b[0mloss\u001b[0m \u001b[0;34m=\u001b[0m \u001b[0mcriterion\u001b[0m\u001b[0;34m(\u001b[0m\u001b[0mpreds\u001b[0m\u001b[0;34m,\u001b[0m \u001b[0mbatch_labels\u001b[0m\u001b[0;34m.\u001b[0m\u001b[0mto\u001b[0m\u001b[0;34m(\u001b[0m\u001b[0mdevice\u001b[0m\u001b[0;34m)\u001b[0m\u001b[0;34m)\u001b[0m\u001b[0;34m\u001b[0m\u001b[0;34m\u001b[0m\u001b[0m\n\u001b[1;32m      6\u001b[0m         \u001b[0mloss\u001b[0m\u001b[0;34m.\u001b[0m\u001b[0mbackward\u001b[0m\u001b[0;34m(\u001b[0m\u001b[0;34m)\u001b[0m\u001b[0;34m\u001b[0m\u001b[0;34m\u001b[0m\u001b[0m\n",
            "\u001b[0;32m/usr/local/lib/python3.6/dist-packages/torch/nn/modules/module.py\u001b[0m in \u001b[0;36m__call__\u001b[0;34m(self, *input, **kwargs)\u001b[0m\n\u001b[1;32m    530\u001b[0m             \u001b[0mresult\u001b[0m \u001b[0;34m=\u001b[0m \u001b[0mself\u001b[0m\u001b[0;34m.\u001b[0m\u001b[0m_slow_forward\u001b[0m\u001b[0;34m(\u001b[0m\u001b[0;34m*\u001b[0m\u001b[0minput\u001b[0m\u001b[0;34m,\u001b[0m \u001b[0;34m**\u001b[0m\u001b[0mkwargs\u001b[0m\u001b[0;34m)\u001b[0m\u001b[0;34m\u001b[0m\u001b[0;34m\u001b[0m\u001b[0m\n\u001b[1;32m    531\u001b[0m         \u001b[0;32melse\u001b[0m\u001b[0;34m:\u001b[0m\u001b[0;34m\u001b[0m\u001b[0;34m\u001b[0m\u001b[0m\n\u001b[0;32m--> 532\u001b[0;31m             \u001b[0mresult\u001b[0m \u001b[0;34m=\u001b[0m \u001b[0mself\u001b[0m\u001b[0;34m.\u001b[0m\u001b[0mforward\u001b[0m\u001b[0;34m(\u001b[0m\u001b[0;34m*\u001b[0m\u001b[0minput\u001b[0m\u001b[0;34m,\u001b[0m \u001b[0;34m**\u001b[0m\u001b[0mkwargs\u001b[0m\u001b[0;34m)\u001b[0m\u001b[0;34m\u001b[0m\u001b[0;34m\u001b[0m\u001b[0m\n\u001b[0m\u001b[1;32m    533\u001b[0m         \u001b[0;32mfor\u001b[0m \u001b[0mhook\u001b[0m \u001b[0;32min\u001b[0m \u001b[0mself\u001b[0m\u001b[0;34m.\u001b[0m\u001b[0m_forward_hooks\u001b[0m\u001b[0;34m.\u001b[0m\u001b[0mvalues\u001b[0m\u001b[0;34m(\u001b[0m\u001b[0;34m)\u001b[0m\u001b[0;34m:\u001b[0m\u001b[0;34m\u001b[0m\u001b[0;34m\u001b[0m\u001b[0m\n\u001b[1;32m    534\u001b[0m             \u001b[0mhook_result\u001b[0m \u001b[0;34m=\u001b[0m \u001b[0mhook\u001b[0m\u001b[0;34m(\u001b[0m\u001b[0mself\u001b[0m\u001b[0;34m,\u001b[0m \u001b[0minput\u001b[0m\u001b[0;34m,\u001b[0m \u001b[0mresult\u001b[0m\u001b[0;34m)\u001b[0m\u001b[0;34m\u001b[0m\u001b[0;34m\u001b[0m\u001b[0m\n",
            "\u001b[0;32m<ipython-input-69-e0fc567900bc>\u001b[0m in \u001b[0;36mforward\u001b[0;34m(self, x)\u001b[0m\n\u001b[1;32m     37\u001b[0m         \u001b[0;31m#   for each class\u001b[0m\u001b[0;34m\u001b[0m\u001b[0;34m\u001b[0m\u001b[0;34m\u001b[0m\u001b[0m\n\u001b[1;32m     38\u001b[0m         \u001b[0;31m# Output dim: [batch_size, num_classes]\u001b[0m\u001b[0;34m\u001b[0m\u001b[0;34m\u001b[0m\u001b[0;34m\u001b[0m\u001b[0m\n\u001b[0;32m---> 39\u001b[0;31m         \u001b[0mout\u001b[0m \u001b[0;34m=\u001b[0m \u001b[0mself\u001b[0m\u001b[0;34m.\u001b[0m\u001b[0mout_layer\u001b[0m\u001b[0;34m(\u001b[0m\u001b[0mh\u001b[0m\u001b[0;34m)\u001b[0m\u001b[0;34m\u001b[0m\u001b[0;34m\u001b[0m\u001b[0m\n\u001b[0m\u001b[1;32m     40\u001b[0m \u001b[0;34m\u001b[0m\u001b[0m\n\u001b[1;32m     41\u001b[0m         \u001b[0;31m# Apply softmax to our logits to get probabilities\u001b[0m\u001b[0;34m\u001b[0m\u001b[0;34m\u001b[0m\u001b[0;34m\u001b[0m\u001b[0m\n",
            "\u001b[0;32m/usr/local/lib/python3.6/dist-packages/torch/nn/modules/module.py\u001b[0m in \u001b[0;36m__call__\u001b[0;34m(self, *input, **kwargs)\u001b[0m\n\u001b[1;32m    530\u001b[0m             \u001b[0mresult\u001b[0m \u001b[0;34m=\u001b[0m \u001b[0mself\u001b[0m\u001b[0;34m.\u001b[0m\u001b[0m_slow_forward\u001b[0m\u001b[0;34m(\u001b[0m\u001b[0;34m*\u001b[0m\u001b[0minput\u001b[0m\u001b[0;34m,\u001b[0m \u001b[0;34m**\u001b[0m\u001b[0mkwargs\u001b[0m\u001b[0;34m)\u001b[0m\u001b[0;34m\u001b[0m\u001b[0;34m\u001b[0m\u001b[0m\n\u001b[1;32m    531\u001b[0m         \u001b[0;32melse\u001b[0m\u001b[0;34m:\u001b[0m\u001b[0;34m\u001b[0m\u001b[0;34m\u001b[0m\u001b[0m\n\u001b[0;32m--> 532\u001b[0;31m             \u001b[0mresult\u001b[0m \u001b[0;34m=\u001b[0m \u001b[0mself\u001b[0m\u001b[0;34m.\u001b[0m\u001b[0mforward\u001b[0m\u001b[0;34m(\u001b[0m\u001b[0;34m*\u001b[0m\u001b[0minput\u001b[0m\u001b[0;34m,\u001b[0m \u001b[0;34m**\u001b[0m\u001b[0mkwargs\u001b[0m\u001b[0;34m)\u001b[0m\u001b[0;34m\u001b[0m\u001b[0;34m\u001b[0m\u001b[0m\n\u001b[0m\u001b[1;32m    533\u001b[0m         \u001b[0;32mfor\u001b[0m \u001b[0mhook\u001b[0m \u001b[0;32min\u001b[0m \u001b[0mself\u001b[0m\u001b[0;34m.\u001b[0m\u001b[0m_forward_hooks\u001b[0m\u001b[0;34m.\u001b[0m\u001b[0mvalues\u001b[0m\u001b[0;34m(\u001b[0m\u001b[0;34m)\u001b[0m\u001b[0;34m:\u001b[0m\u001b[0;34m\u001b[0m\u001b[0;34m\u001b[0m\u001b[0m\n\u001b[1;32m    534\u001b[0m             \u001b[0mhook_result\u001b[0m \u001b[0;34m=\u001b[0m \u001b[0mhook\u001b[0m\u001b[0;34m(\u001b[0m\u001b[0mself\u001b[0m\u001b[0;34m,\u001b[0m \u001b[0minput\u001b[0m\u001b[0;34m,\u001b[0m \u001b[0mresult\u001b[0m\u001b[0;34m)\u001b[0m\u001b[0;34m\u001b[0m\u001b[0;34m\u001b[0m\u001b[0m\n",
            "\u001b[0;32m/usr/local/lib/python3.6/dist-packages/torch/nn/modules/linear.py\u001b[0m in \u001b[0;36mforward\u001b[0;34m(self, input)\u001b[0m\n\u001b[1;32m     85\u001b[0m \u001b[0;34m\u001b[0m\u001b[0m\n\u001b[1;32m     86\u001b[0m     \u001b[0;32mdef\u001b[0m \u001b[0mforward\u001b[0m\u001b[0;34m(\u001b[0m\u001b[0mself\u001b[0m\u001b[0;34m,\u001b[0m \u001b[0minput\u001b[0m\u001b[0;34m)\u001b[0m\u001b[0;34m:\u001b[0m\u001b[0;34m\u001b[0m\u001b[0;34m\u001b[0m\u001b[0m\n\u001b[0;32m---> 87\u001b[0;31m         \u001b[0;32mreturn\u001b[0m \u001b[0mF\u001b[0m\u001b[0;34m.\u001b[0m\u001b[0mlinear\u001b[0m\u001b[0;34m(\u001b[0m\u001b[0minput\u001b[0m\u001b[0;34m,\u001b[0m \u001b[0mself\u001b[0m\u001b[0;34m.\u001b[0m\u001b[0mweight\u001b[0m\u001b[0;34m,\u001b[0m \u001b[0mself\u001b[0m\u001b[0;34m.\u001b[0m\u001b[0mbias\u001b[0m\u001b[0;34m)\u001b[0m\u001b[0;34m\u001b[0m\u001b[0;34m\u001b[0m\u001b[0m\n\u001b[0m\u001b[1;32m     88\u001b[0m \u001b[0;34m\u001b[0m\u001b[0m\n\u001b[1;32m     89\u001b[0m     \u001b[0;32mdef\u001b[0m \u001b[0mextra_repr\u001b[0m\u001b[0;34m(\u001b[0m\u001b[0mself\u001b[0m\u001b[0;34m)\u001b[0m\u001b[0;34m:\u001b[0m\u001b[0;34m\u001b[0m\u001b[0;34m\u001b[0m\u001b[0m\n",
            "\u001b[0;32m/usr/local/lib/python3.6/dist-packages/torch/nn/functional.py\u001b[0m in \u001b[0;36mlinear\u001b[0;34m(input, weight, bias)\u001b[0m\n\u001b[1;32m   1366\u001b[0m         \u001b[0;34m-\u001b[0m \u001b[0mOutput\u001b[0m\u001b[0;34m:\u001b[0m \u001b[0;34m:\u001b[0m\u001b[0mmath\u001b[0m\u001b[0;34m:\u001b[0m\u001b[0;31m`\u001b[0m\u001b[0;34m(\u001b[0m\u001b[0mN\u001b[0m\u001b[0;34m,\u001b[0m \u001b[0;34m*\u001b[0m\u001b[0;34m,\u001b[0m \u001b[0mout\u001b[0m\u001b[0;31m\\\u001b[0m\u001b[0m_features\u001b[0m\u001b[0;34m)\u001b[0m\u001b[0;31m`\u001b[0m\u001b[0;34m\u001b[0m\u001b[0;34m\u001b[0m\u001b[0m\n\u001b[1;32m   1367\u001b[0m     \"\"\"\n\u001b[0;32m-> 1368\u001b[0;31m     \u001b[0;32mif\u001b[0m \u001b[0minput\u001b[0m\u001b[0;34m.\u001b[0m\u001b[0mdim\u001b[0m\u001b[0;34m(\u001b[0m\u001b[0;34m)\u001b[0m \u001b[0;34m==\u001b[0m \u001b[0;36m2\u001b[0m \u001b[0;32mand\u001b[0m \u001b[0mbias\u001b[0m \u001b[0;32mis\u001b[0m \u001b[0;32mnot\u001b[0m \u001b[0;32mNone\u001b[0m\u001b[0;34m:\u001b[0m\u001b[0;34m\u001b[0m\u001b[0;34m\u001b[0m\u001b[0m\n\u001b[0m\u001b[1;32m   1369\u001b[0m         \u001b[0;31m# fused op is marginally faster\u001b[0m\u001b[0;34m\u001b[0m\u001b[0;34m\u001b[0m\u001b[0;34m\u001b[0m\u001b[0m\n\u001b[1;32m   1370\u001b[0m         \u001b[0mret\u001b[0m \u001b[0;34m=\u001b[0m \u001b[0mtorch\u001b[0m\u001b[0;34m.\u001b[0m\u001b[0maddmm\u001b[0m\u001b[0;34m(\u001b[0m\u001b[0mbias\u001b[0m\u001b[0;34m,\u001b[0m \u001b[0minput\u001b[0m\u001b[0;34m,\u001b[0m \u001b[0mweight\u001b[0m\u001b[0;34m.\u001b[0m\u001b[0mt\u001b[0m\u001b[0;34m(\u001b[0m\u001b[0;34m)\u001b[0m\u001b[0;34m)\u001b[0m\u001b[0;34m\u001b[0m\u001b[0;34m\u001b[0m\u001b[0m\n",
            "\u001b[0;31mAttributeError\u001b[0m: type object 'Linear' has no attribute 'dim'"
          ]
        }
      ]
    },
    {
      "cell_type": "code",
      "metadata": {
        "id": "5Zm7SWg0mTfe",
        "colab_type": "code",
        "colab": {}
      },
      "source": [
        "pd.Series(loss_history).plot()"
      ],
      "execution_count": 0,
      "outputs": []
    },
    {
      "cell_type": "code",
      "metadata": {
        "id": "wj_wW1-chTTr",
        "colab_type": "code",
        "colab": {}
      },
      "source": [
        "preds = run_inference(better_bow_model, test_dataloader, test_labels, device)\n",
        "(test_labels==preds.argmax(-1)).mean()"
      ],
      "execution_count": 0,
      "outputs": []
    },
    {
      "cell_type": "markdown",
      "metadata": {
        "id": "nrDcfd4chTTv",
        "colab_type": "text"
      },
      "source": [
        "There's no guarantee that a more complex model works better!\n",
        "\n",
        "Also, our current model is still pretty simple: it simply averages the word embeddings, and so it completely discards the word-order information. We will soon learn about modern deep learning models that address this."
      ]
    }
  ]
}