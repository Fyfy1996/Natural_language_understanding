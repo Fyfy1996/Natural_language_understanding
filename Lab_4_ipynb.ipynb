{
  "nbformat": 4,
  "nbformat_minor": 0,
  "metadata": {
    "colab": {
      "name": "“Lab_4.ipynb”的副本",
      "provenance": [],
      "collapsed_sections": [],
      "include_colab_link": true
    },
    "kernelspec": {
      "name": "python3",
      "display_name": "Python 3"
    }
  },
  "cells": [
    {
      "cell_type": "markdown",
      "metadata": {
        "id": "view-in-github",
        "colab_type": "text"
      },
      "source": [
        "<a href=\"https://colab.research.google.com/github/Fyfy1996/Natural_language_understanding/blob/master/Lab_4_ipynb.ipynb\" target=\"_parent\"><img src=\"https://colab.research.google.com/assets/colab-badge.svg\" alt=\"Open In Colab\"/></a>"
      ]
    },
    {
      "cell_type": "markdown",
      "metadata": {
        "id": "YhNTG5TiQ1zl",
        "colab_type": "text"
      },
      "source": [
        "# Cross-lingual embeddings\n",
        "\n",
        "In this lab we will explore multilingual word embeddings and build a very rudimentary translation system."
      ]
    },
    {
      "cell_type": "markdown",
      "metadata": {
        "id": "JVHVrUvAQvml",
        "colab_type": "text"
      },
      "source": [
        "Adapted from: https://github.com/facebookresearch/MUSE/blob/master/demo.ipynb"
      ]
    },
    {
      "cell_type": "markdown",
      "metadata": {
        "id": "vJTOC_deXfkb",
        "colab_type": "text"
      },
      "source": [
        "## Theory\n",
        "Cross-lingual embedding vectors can be trained in supervised or unsupervised way.   \n",
        "\n",
        "**Supervised.**  \n",
        "\n",
        "First, the embeddings are trained for each language separately.   \n",
        "Then optimization problem of aligning the embeddings is solved using a seed lexicon (small number of aligned pairs of words) by minimizing square loss with cross-domain similarity local scaling (CSLS) criterion.  \n",
        "More details in [Joulin et al (2018)](https://arxiv.org/pdf/1804.07745.pdf)\n",
        "\n",
        "**Unsupervised.**\n",
        "\n",
        "First, a rotation matrix $W$ which roughly aligns the\n",
        "two distributions is learnt using adversarial learning.   \n",
        "Second, the mapping $W$ is further refined: frequent words aligned by the previous step are used as anchor points, and an energy function that corresponds to a spring system between anchor points is minimized (Procrustes method).   \n",
        "Finally, they translate by using the mapping $W$ and a distance metric (CSLS) that expands the space where there is high density of points (like the area around the word\n",
        "“cat”), so that “hubs” (like the word “cat”) become less close to other word vectors than they would otherwise.\n",
        "\n",
        "![](https://drive.google.com/uc?export=view&id=1IuI4NGiUMUtS5whr_mldnsL5tFVoKtwH)\n",
        "\n",
        "\n",
        "More details in [Conneau et al (2018)](https://arxiv.org/pdf/1710.04087.pdf)"
      ]
    },
    {
      "cell_type": "markdown",
      "metadata": {
        "id": "w68QNhoOXowy",
        "colab_type": "text"
      },
      "source": [
        "## Practice"
      ]
    },
    {
      "cell_type": "markdown",
      "metadata": {
        "id": "psrhJi6wOE0W",
        "colab_type": "text"
      },
      "source": [
        "### Load embeddings\n",
        "Here we load a subset of 100,000 + 100,000 aligned [fastText embeddings](https://fasttext.cc/docs/en/aligned-vectors.html) for English and Russian languages. "
      ]
    },
    {
      "cell_type": "code",
      "metadata": {
        "id": "I6oKVHW8ZxGS",
        "colab_type": "code",
        "outputId": "8e6aece5-fc13-4e66-bf1a-28d81838272e",
        "colab": {
          "base_uri": "https://localhost:8080/",
          "height": 1000
        }
      },
      "source": [
        "!wget 'https://drive.google.com/uc?export=download&id=1-Hrc2uz14kmcsKYle7_penmpR7t0TtZR' -O en_embeddings.npz\n",
        "!wget 'https://drive.google.com/uc?export=download&id=1-ZnGxODZypEnz5E0ssXLCEMG-fSfU28W' -O en_word2id.p\n",
        "\n",
        "!wget 'https://drive.google.com/uc?export=download&id=1-OE9Tw8M5jWvM-4WRKfladaQzLIgoxiT' -O ru_embeddings.npz\n",
        "!wget 'https://drive.google.com/uc?export=download&id=1-Y42yEnIsrQtVdQ7PABrvrn4eYRKmyuG' -O ru_word2id.p\n",
        "\n",
        "!wget 'https://drive.google.com/uc?export=download&id=1-TsynEry2jdbIY2P3_c7UjHdbwr345Nf' -O secret_embeddings.npy"
      ],
      "execution_count": 0,
      "outputs": [
        {
          "output_type": "stream",
          "text": [
            "--2020-02-20 17:39:11--  https://drive.google.com/uc?export=download&id=1-Hrc2uz14kmcsKYle7_penmpR7t0TtZR\n",
            "Resolving drive.google.com (drive.google.com)... 172.217.193.101, 172.217.193.102, 172.217.193.138, ...\n",
            "Connecting to drive.google.com (drive.google.com)|172.217.193.101|:443... connected.\n",
            "HTTP request sent, awaiting response... 302 Moved Temporarily\n",
            "Location: https://doc-08-04-docs.googleusercontent.com/docs/securesc/ha0ro937gcuc7l7deffksulhg5h7mbp1/a43j5bf0tkpuf4lpsvmqg92jj0g4dd8k/1582219800000/08752484438609855375/*/1-Hrc2uz14kmcsKYle7_penmpR7t0TtZR?e=download [following]\n",
            "Warning: wildcards not supported in HTTP.\n",
            "--2020-02-20 17:39:13--  https://doc-08-04-docs.googleusercontent.com/docs/securesc/ha0ro937gcuc7l7deffksulhg5h7mbp1/a43j5bf0tkpuf4lpsvmqg92jj0g4dd8k/1582219800000/08752484438609855375/*/1-Hrc2uz14kmcsKYle7_penmpR7t0TtZR?e=download\n",
            "Resolving doc-08-04-docs.googleusercontent.com (doc-08-04-docs.googleusercontent.com)... 74.125.141.132, 2607:f8b0:400c:c06::84\n",
            "Connecting to doc-08-04-docs.googleusercontent.com (doc-08-04-docs.googleusercontent.com)|74.125.141.132|:443... connected.\n",
            "HTTP request sent, awaiting response... 200 OK\n",
            "Length: unspecified [application/x-zip]\n",
            "Saving to: ‘en_embeddings.npz’\n",
            "\n",
            "en_embeddings.npz       [ <=>                ]  22.29M   148MB/s    in 0.2s    \n",
            "\n",
            "2020-02-20 17:39:13 (148 MB/s) - ‘en_embeddings.npz’ saved [23371590]\n",
            "\n",
            "--2020-02-20 17:39:14--  https://drive.google.com/uc?export=download&id=1-ZnGxODZypEnz5E0ssXLCEMG-fSfU28W\n",
            "Resolving drive.google.com (drive.google.com)... 172.217.203.138, 172.217.203.139, 172.217.203.113, ...\n",
            "Connecting to drive.google.com (drive.google.com)|172.217.203.138|:443... connected.\n",
            "HTTP request sent, awaiting response... 302 Moved Temporarily\n",
            "Location: https://doc-08-04-docs.googleusercontent.com/docs/securesc/ha0ro937gcuc7l7deffksulhg5h7mbp1/7v98rnudcf7nr84a965ciag82aar33oh/1582219800000/08752484438609855375/*/1-ZnGxODZypEnz5E0ssXLCEMG-fSfU28W?e=download [following]\n",
            "Warning: wildcards not supported in HTTP.\n",
            "--2020-02-20 17:39:14--  https://doc-08-04-docs.googleusercontent.com/docs/securesc/ha0ro937gcuc7l7deffksulhg5h7mbp1/7v98rnudcf7nr84a965ciag82aar33oh/1582219800000/08752484438609855375/*/1-ZnGxODZypEnz5E0ssXLCEMG-fSfU28W?e=download\n",
            "Resolving doc-08-04-docs.googleusercontent.com (doc-08-04-docs.googleusercontent.com)... 74.125.141.132, 2607:f8b0:400c:c06::84\n",
            "Connecting to doc-08-04-docs.googleusercontent.com (doc-08-04-docs.googleusercontent.com)|74.125.141.132|:443... connected.\n",
            "HTTP request sent, awaiting response... 200 OK\n",
            "Length: 457444 (447K) [text/x-pascal]\n",
            "Saving to: ‘en_word2id.p’\n",
            "\n",
            "en_word2id.p        100%[===================>] 446.72K  --.-KB/s    in 0.003s  \n",
            "\n",
            "2020-02-20 17:39:15 (142 MB/s) - ‘en_word2id.p’ saved [457444/457444]\n",
            "\n",
            "--2020-02-20 17:39:15--  https://drive.google.com/uc?export=download&id=1-OE9Tw8M5jWvM-4WRKfladaQzLIgoxiT\n",
            "Resolving drive.google.com (drive.google.com)... 172.217.203.139, 172.217.203.113, 172.217.203.100, ...\n",
            "Connecting to drive.google.com (drive.google.com)|172.217.203.139|:443... connected.\n",
            "HTTP request sent, awaiting response... 302 Moved Temporarily\n",
            "Location: https://doc-0c-04-docs.googleusercontent.com/docs/securesc/ha0ro937gcuc7l7deffksulhg5h7mbp1/mlt6hc7j0fpavi5rg3rhvg13n5j2a29c/1582219800000/08752484438609855375/*/1-OE9Tw8M5jWvM-4WRKfladaQzLIgoxiT?e=download [following]\n",
            "Warning: wildcards not supported in HTTP.\n",
            "--2020-02-20 17:39:17--  https://doc-0c-04-docs.googleusercontent.com/docs/securesc/ha0ro937gcuc7l7deffksulhg5h7mbp1/mlt6hc7j0fpavi5rg3rhvg13n5j2a29c/1582219800000/08752484438609855375/*/1-OE9Tw8M5jWvM-4WRKfladaQzLIgoxiT?e=download\n",
            "Resolving doc-0c-04-docs.googleusercontent.com (doc-0c-04-docs.googleusercontent.com)... 74.125.141.132, 2607:f8b0:400c:c06::84\n",
            "Connecting to doc-0c-04-docs.googleusercontent.com (doc-0c-04-docs.googleusercontent.com)|74.125.141.132|:443... connected.\n",
            "HTTP request sent, awaiting response... 200 OK\n",
            "Length: unspecified [application/x-zip]\n",
            "Saving to: ‘ru_embeddings.npz’\n",
            "\n",
            "ru_embeddings.npz       [ <=>                ]  22.30M   135MB/s    in 0.2s    \n",
            "\n",
            "2020-02-20 17:39:17 (135 MB/s) - ‘ru_embeddings.npz’ saved [23380872]\n",
            "\n",
            "--2020-02-20 17:39:18--  https://drive.google.com/uc?export=download&id=1-Y42yEnIsrQtVdQ7PABrvrn4eYRKmyuG\n",
            "Resolving drive.google.com (drive.google.com)... 172.217.203.113, 172.217.203.138, 172.217.203.101, ...\n",
            "Connecting to drive.google.com (drive.google.com)|172.217.203.113|:443... connected.\n",
            "HTTP request sent, awaiting response... 302 Moved Temporarily\n",
            "Location: https://doc-0o-04-docs.googleusercontent.com/docs/securesc/ha0ro937gcuc7l7deffksulhg5h7mbp1/gg6njko0p1io81am400m8jam6pddshdp/1582219800000/08752484438609855375/*/1-Y42yEnIsrQtVdQ7PABrvrn4eYRKmyuG?e=download [following]\n",
            "Warning: wildcards not supported in HTTP.\n",
            "--2020-02-20 17:39:18--  https://doc-0o-04-docs.googleusercontent.com/docs/securesc/ha0ro937gcuc7l7deffksulhg5h7mbp1/gg6njko0p1io81am400m8jam6pddshdp/1582219800000/08752484438609855375/*/1-Y42yEnIsrQtVdQ7PABrvrn4eYRKmyuG?e=download\n",
            "Resolving doc-0o-04-docs.googleusercontent.com (doc-0o-04-docs.googleusercontent.com)... 74.125.141.132, 2607:f8b0:400c:c06::84\n",
            "Connecting to doc-0o-04-docs.googleusercontent.com (doc-0o-04-docs.googleusercontent.com)|74.125.141.132|:443... connected.\n",
            "HTTP request sent, awaiting response... 200 OK\n",
            "Length: 744027 (727K) [text/x-pascal]\n",
            "Saving to: ‘ru_word2id.p’\n",
            "\n",
            "ru_word2id.p        100%[===================>] 726.59K  --.-KB/s    in 0.005s  \n",
            "\n",
            "2020-02-20 17:39:19 (136 MB/s) - ‘ru_word2id.p’ saved [744027/744027]\n",
            "\n",
            "--2020-02-20 17:39:19--  https://drive.google.com/uc?export=download&id=1-TsynEry2jdbIY2P3_c7UjHdbwr345Nf\n",
            "Resolving drive.google.com (drive.google.com)... 172.217.203.113, 172.217.203.138, 172.217.203.100, ...\n",
            "Connecting to drive.google.com (drive.google.com)|172.217.203.113|:443... connected.\n",
            "HTTP request sent, awaiting response... 302 Moved Temporarily\n",
            "Location: https://doc-0s-04-docs.googleusercontent.com/docs/securesc/ha0ro937gcuc7l7deffksulhg5h7mbp1/mj3s9vauj4q29sl55kmc7pa8h4mkc7kk/1582219800000/08752484438609855375/*/1-TsynEry2jdbIY2P3_c7UjHdbwr345Nf?e=download [following]\n",
            "Warning: wildcards not supported in HTTP.\n",
            "--2020-02-20 17:39:20--  https://doc-0s-04-docs.googleusercontent.com/docs/securesc/ha0ro937gcuc7l7deffksulhg5h7mbp1/mj3s9vauj4q29sl55kmc7pa8h4mkc7kk/1582219800000/08752484438609855375/*/1-TsynEry2jdbIY2P3_c7UjHdbwr345Nf?e=download\n",
            "Resolving doc-0s-04-docs.googleusercontent.com (doc-0s-04-docs.googleusercontent.com)... 74.125.141.132, 2607:f8b0:400c:c06::84\n",
            "Connecting to doc-0s-04-docs.googleusercontent.com (doc-0s-04-docs.googleusercontent.com)|74.125.141.132|:443... connected.\n",
            "HTTP request sent, awaiting response... 200 OK\n",
            "Length: 9728 (9.5K) [application/octet-stream]\n",
            "Saving to: ‘secret_embeddings.npy’\n",
            "\n",
            "secret_embeddings.n 100%[===================>]   9.50K  --.-KB/s    in 0s      \n",
            "\n",
            "2020-02-20 17:39:20 (68.0 MB/s) - ‘secret_embeddings.npy’ saved [9728/9728]\n",
            "\n"
          ],
          "name": "stdout"
        }
      ]
    },
    {
      "cell_type": "code",
      "metadata": {
        "id": "OIG-PHMSOHif",
        "colab_type": "code",
        "colab": {}
      },
      "source": [
        "import numpy as np\n",
        "import pickle\n",
        "import pandas as pd\n",
        "from sklearn.metrics.pairwise import cosine_similarity"
      ],
      "execution_count": 0,
      "outputs": []
    },
    {
      "cell_type": "code",
      "metadata": {
        "id": "PAD_ImoyE-Ce",
        "colab_type": "code",
        "colab": {}
      },
      "source": [
        "# load the files\n",
        "x = np.load('en_embeddings.npz', allow_pickle=True)\n",
        "en_embeddings = [x[k] for k in x][0]\n",
        "\n",
        "x = np.load('ru_embeddings.npz', allow_pickle=True)\n",
        "ru_embeddings = [x[k] for k in x][0]\n",
        "\n",
        "with open('en_word2id.p', 'rb') as handle:\n",
        "    en_word2id = pickle.load(handle)\n",
        "\n",
        "with open('ru_word2id.p', 'rb') as handle:\n",
        "    ru_word2id = pickle.load(handle)\n",
        "\n",
        "# create id2word for both languages\n",
        "en_id2word = [None] * len(en_word2id)\n",
        "for word, idx in en_word2id.items():\n",
        "    en_id2word[idx] = word\n",
        "ru_id2word = [None] * len(ru_word2id)\n",
        "for word, idx in ru_word2id.items():\n",
        "    ru_id2word[idx] = word"
      ],
      "execution_count": 0,
      "outputs": []
    },
    {
      "cell_type": "markdown",
      "metadata": {
        "id": "5RAP8Wr3nn_t",
        "colab_type": "text"
      },
      "source": [
        "### Visualize multilingual embeddings"
      ]
    },
    {
      "cell_type": "markdown",
      "metadata": {
        "id": "wE7KAMi0gme0",
        "colab_type": "text"
      },
      "source": [
        "Let's visualize the embeddings. We take pairs of words that have same meaning, where one is English and the other is Russian. As they exist in 300-dimensional space which is hard to imagine, we need to project them to a 2D space. We will use the first two components of PCA to do this. "
      ]
    },
    {
      "cell_type": "code",
      "metadata": {
        "id": "TwNSpR0vnok2",
        "colab_type": "code",
        "outputId": "ca0feb49-4fc8-4fbd-c84c-b0271dd182f6",
        "colab": {
          "base_uri": "https://localhost:8080/",
          "height": 35
        }
      },
      "source": [
        "from sklearn.decomposition import PCA\n",
        "pca = PCA(n_components=2, whiten=True)\n",
        "pca.fit(np.vstack([en_embeddings, ru_embeddings]))\n",
        "print('Variance explained: %.2f' % pca.explained_variance_ratio_.sum())"
      ],
      "execution_count": 0,
      "outputs": [
        {
          "output_type": "stream",
          "text": [
            "Variance explained: 0.15\n"
          ],
          "name": "stdout"
        }
      ]
    },
    {
      "cell_type": "code",
      "metadata": {
        "id": "NWOAR-7an63m",
        "colab_type": "code",
        "colab": {}
      },
      "source": [
        "import matplotlib.pyplot as plt\n",
        "\n",
        "def plot_similar_word(src_words, src_word2id, src_emb, tgt_words, tgt_word2id, tgt_emb, pca):\n",
        "\n",
        "    Y = []\n",
        "    word_labels = []\n",
        "    for sw in src_words:\n",
        "        Y.append(src_emb[src_word2id[sw]])\n",
        "        word_labels.append(sw)\n",
        "    for tw in tgt_words:\n",
        "        Y.append(tgt_emb[tgt_word2id[tw]])\n",
        "        word_labels.append(tw)\n",
        "\n",
        "    # find PCA coords for 2 dimensions\n",
        "    Y = pca.transform(Y)\n",
        "    x_coords = Y[:, 0]\n",
        "    y_coords = Y[:, 1]\n",
        "\n",
        "    # display scatter plot\n",
        "    plt.figure(figsize=(10, 8), dpi=80)\n",
        "    plt.scatter(x_coords, y_coords, marker='x')\n",
        "\n",
        "    for k, (label, x, y) in enumerate(zip(word_labels, x_coords, y_coords)):\n",
        "        color = 'blue' if k < len(src_words) else 'red'  # src words in blue / tgt words in red\n",
        "        plt.annotate(label, xy=(x, y), xytext=(0, 0), textcoords='offset points', fontsize=19,\n",
        "                     color=color, weight='bold')\n",
        "        \n",
        "    for k in range(len(src_words)):\n",
        "        idx_src = k\n",
        "        idx_tgt = k + len(src_words)\n",
        "        plt.plot([x_coords[idx_src], x_coords[idx_tgt]], [y_coords[idx_src], y_coords[idx_tgt]])\n",
        "\n",
        "    plt.xlim(x_coords.min() - 0.2, x_coords.max() + 0.2)\n",
        "    plt.ylim(y_coords.min() - 0.2, y_coords.max() + 0.2)\n",
        "    plt.title('Visualization of the multilingual word embedding space')\n",
        "\n",
        "    plt.show()"
      ],
      "execution_count": 0,
      "outputs": []
    },
    {
      "cell_type": "code",
      "metadata": {
        "id": "LA69RSian-uQ",
        "colab_type": "code",
        "outputId": "0178b0d9-2917-4d4b-e6c6-8caab95e69dd",
        "colab": {
          "base_uri": "https://localhost:8080/",
          "height": 550
        }
      },
      "source": [
        "# get 5 random input words\n",
        "en_words = ['university', 'love', 'history', 'tennis', 'research', 'conference']\n",
        "ru_words = ['университет', 'любовь', 'история', 'теннис', 'исследование', 'конференция']\n",
        "\n",
        "# assert words in dictionaries\n",
        "for en_word in en_words:\n",
        "    assert en_word in en_word2id, '\"%s\" not in source dictionary' % en_word\n",
        "for ru_word in ru_words:\n",
        "    assert ru_word in ru_word2id, '\"%s\" not in target dictionary' % ru_word\n",
        "\n",
        "plot_similar_word(en_words, en_word2id, en_embeddings, ru_words, ru_word2id, ru_embeddings, pca)"
      ],
      "execution_count": 0,
      "outputs": [
        {
          "output_type": "display_data",
          "data": {
            "image/png": "[encoded data removed]",
            "text/plain": [
              "<Figure size 800x640 with 1 Axes>"
            ]
          },
          "metadata": {
            "tags": []
          }
        }
      ]
    },
    {
      "cell_type": "markdown",
      "metadata": {
        "id": "sr9E8edNX_C4",
        "colab_type": "text"
      },
      "source": [
        "### Get nearest neigbors for a given word"
      ]
    },
    {
      "cell_type": "markdown",
      "metadata": {
        "id": "jCoy6RqxhmLF",
        "colab_type": "text"
      },
      "source": [
        "Let's write a function that given a word, returns its K nearest neighbors in the vector space."
      ]
    },
    {
      "cell_type": "code",
      "metadata": {
        "id": "vvzNQe45QTU4",
        "colab_type": "code",
        "colab": {}
      },
      "source": [
        "def get_nn(word, src_emb, src_word2id, tgt_emb, tgt_id2word, K=5):\n",
        "    \"\"\"\n",
        "    Input:\n",
        "    ------\n",
        "    - word: str\n",
        "        Word for which we want to get its nearest neighbors\n",
        "    - src_emb: np.array\n",
        "        Matrix of embeddings of source language (the language from which the word comes)\n",
        "        of shape (number of words in src language, embedding size)\n",
        "    - src_id2word: dict\n",
        "        Dictionary that maps index to word for source language\n",
        "    - tgt_emb: np.array\n",
        "        Matrix of embeddings of target language (the language in which we want to find closest words)\n",
        "        of shape (number of words in tgt language, embedding size)\n",
        "    - tgt_id2word: dict\n",
        "        Dictionary that maps index to word for target language\n",
        "    - K: int\n",
        "        Number of nearest neighbors to output\n",
        "\n",
        "    Output:\n",
        "    -------\n",
        "    - k_best: dict\n",
        "        Dictionary in which key is a word and value is its distance score (cosine similarity)\n",
        "    \"\"\"\n",
        "    # Your code goes here\n",
        "\n",
        "    # 1. Look up the word embedding\n",
        "    idx = src_word2id[word]\n",
        "    # raise NotImplementedError\n",
        "\n",
        "    # 2. Compute the scores for each word\n",
        "    word_emd = src_emb[idx]\n",
        "    scores = tgt_emb.dot(word_emd)\n",
        "\n",
        "    # for i in range(src_emb.shape[0]):\n",
        "    #   scores.append( cosine_similarity(str_vec, src_emb[i,:]))\n",
        "    \n",
        "\n",
        "    # 3. Find the index of the top K best scoring words\n",
        "   \n",
        "    # 4. Get the corresponding top K words\n",
        "    k_best = pd.Series(scores, index=tgt_id2word).sort_values(ascending = False)[:K]\n",
        "\n",
        "\n",
        "\n",
        "    return k_best\n",
        "\n",
        "def print_k_best_for_word(k_best, word):\n",
        "    print(\"Nearest neighbors of \\\"%s\\\":\" % word)\n",
        "    for word, score in k_best.items():\n",
        "        print('%.4f - %s' % (score, word))\n",
        "\n",
        "    print()"
      ],
      "execution_count": 0,
      "outputs": []
    },
    {
      "cell_type": "code",
      "metadata": {
        "id": "JThMzwplyRPB",
        "colab_type": "code",
        "outputId": "8f052cb2-9a67-45a3-8a20-23792b05f924",
        "colab": {
          "base_uri": "https://localhost:8080/",
          "height": 449
        }
      },
      "source": [
        "en_words = [\"algorithm\", \"language\", \"research\"]\n",
        "for word in en_words:\n",
        "    k_best = get_nn(word, en_embeddings, en_word2id, en_embeddings, en_id2word, K=6)\n",
        "    print_k_best_for_word(k_best, word)"
      ],
      "execution_count": 0,
      "outputs": [
        {
          "output_type": "stream",
          "text": [
            "Nearest neighbors of \"algorithm\":\n",
            "0.9999 - algorithm\n",
            "0.8939 - algorithms\n",
            "0.7575 - heuristic\n",
            "0.7427 - recursive\n",
            "0.7425 - computation\n",
            "0.7377 - polynomial\n",
            "\n",
            "Nearest neighbors of \"language\":\n",
            "0.9999 - language\n",
            "0.8152 - languages\n",
            "0.6772 - linguistic\n",
            "0.6699 - spoken\n",
            "0.6548 - bilingual\n",
            "0.6486 - multilingual\n",
            "\n",
            "Nearest neighbors of \"research\":\n",
            "1.0000 - research\n",
            "0.7609 - researches\n",
            "0.7181 - researcher\n",
            "0.7034 - researchers\n",
            "0.6741 - biomedical\n",
            "0.6498 - laboratory\n",
            "\n"
          ],
          "name": "stdout"
        }
      ]
    },
    {
      "cell_type": "code",
      "metadata": {
        "colab_type": "code",
        "id": "l783sUP-gxIJ",
        "outputId": "62f46550-e445-4cbb-fac4-c011387ebb8f",
        "colab": {
          "base_uri": "https://localhost:8080/",
          "height": 197
        }
      },
      "source": [
        "en_words = [\"hello\", \"world\"]\n",
        "for word in en_words:\n",
        "    k_best = get_nn(word, en_embeddings, en_word2id, en_embeddings, en_id2word, K=3)\n",
        "    print_k_best_for_word(k_best, word)"
      ],
      "execution_count": 0,
      "outputs": [
        {
          "output_type": "stream",
          "text": [
            "Nearest neighbors of \"hello\":\n",
            "1.0000 - hello\n",
            "0.6525 - teahouse\n",
            "0.6231 - hey\n",
            "\n",
            "Nearest neighbors of \"world\":\n",
            "1.0000 - world\n",
            "0.6058 - worlds\n",
            "0.5053 - war\n",
            "\n"
          ],
          "name": "stdout"
        }
      ]
    },
    {
      "cell_type": "markdown",
      "metadata": {
        "id": "t8F58UYwglci",
        "colab_type": "text"
      },
      "source": [
        "We can also search in Russian and find the closest words in English!"
      ]
    },
    {
      "cell_type": "code",
      "metadata": {
        "id": "Y9G_AZmOVmma",
        "colab_type": "code",
        "outputId": "d807a265-849e-4b81-8e33-02553eb51bc6",
        "colab": {
          "base_uri": "https://localhost:8080/",
          "height": 197
        }
      },
      "source": [
        "ru_words = [\"привет\", \"мир\"]\n",
        "for word in ru_words:\n",
        "    k_best = get_nn(word, ru_embeddings, ru_word2id, en_embeddings, en_id2word, K=3)\n",
        "    print_k_best_for_word(k_best, word)"
      ],
      "execution_count": 0,
      "outputs": [
        {
          "output_type": "stream",
          "text": [
            "Nearest neighbors of \"привет\":\n",
            "0.3853 - greetings\n",
            "0.3677 - hello\n",
            "0.3537 - dear\n",
            "\n",
            "Nearest neighbors of \"мир\":\n",
            "0.3341 - peace\n",
            "0.3282 - world\n",
            "0.2986 - worlds\n",
            "\n"
          ],
          "name": "stdout"
        }
      ]
    },
    {
      "cell_type": "markdown",
      "metadata": {
        "id": "PAG-_KufYOV4",
        "colab_type": "text"
      },
      "source": [
        "### A simple word-to-word translation system"
      ]
    },
    {
      "cell_type": "markdown",
      "metadata": {
        "id": "rDeYkM_dbKFr",
        "colab_type": "text"
      },
      "source": [
        "We can try to use aligned embeddings to build a very rudimentary translation system.\n",
        "\n",
        "Here is a list of texts in Russian. We will parse it, convert to lowercase, remove all special symbols, and split to words.   \n",
        "Then for each word, if it exists in `ru_word2id`, translate it to english (using closest english word), otherwise skip it."
      ]
    },
    {
      "cell_type": "code",
      "metadata": {
        "id": "L0azS1XLqw5X",
        "colab_type": "code",
        "colab": {}
      },
      "source": [
        "ru_texts = [\n",
        "\"\"\"Игровое действие в американском футболе состоит из серии коротких по продолжительности отдельных схваток, за пределами которых мяч называют «мертвым» или не в игре. Во время схватки могут быть разыграны:\n",
        "пасовая комбинация,\n",
        "выносная комбинация,\n",
        "пант (удар по мячу),\n",
        "попытка взятия зачетной зоны\n",
        "свободный удар (ввод мяча в игру – начальный удар)\n",
        "Цель игры – набрать максимальное количество очков, занеся мяч в зачетную зону противника (тачдаун - touchdown) или забив его в ворота с поля (филд-гол – field goals). Побеждает команда, набравшая наибольшее количество очков.\"\"\",\n",
        "\"\"\"Я вас любил: любовь ещё, быть может,\n",
        "В душе моей угасла не совсем;\n",
        "Но пусть она вас больше не тревожит;\n",
        "Я не хочу печалить вас ничем.\n",
        "Я вас любил безмолвно, безнадежно,\n",
        "То робостью, то ревностью томим;\n",
        "Я вас любил так искренно, так нежно,\n",
        "Как дай вам Бог любимой быть другим\"\"\",\n",
        "\"\"\"Сегодня мы говорим про слова и стоит обсудить, как делать такое сопоставление вектора слову.\n",
        "Вернемся к предмету: вот у нас есть слова и есть компьютер, который должен с этими словами как-то работать. Вопрос — как компьютер будет работать со словами? Ведь компьютер не умеет читать, и вообще устроен сильно иначе, чем человек. Самая первая идея, приходящая в голову — просто закодировать слова цифрами по порядку следования в словаре.\"\"\",\n",
        "\"\"\"Интернет-мем — информация в той или иной форме (медиаобъект, то есть объект, создаваемый электронными средствами коммуникации, фраза, концепция или занятие), как правило, остроумная и ироническая[2], спонтанно приобретающая популярность, распространяясь в Интернете разнообразными способами (посредством социальных сетей, форумов, блогов, мессенджеров и пр.). Обозначает также явление спонтанного распространения такой информации или фразы. \n",
        "Мемами могут считаться как слова, так и изображения. Иначе говоря, это любые высказывания, картинки, видео или звукоряд, которые имеют значение и устойчиво распространяются во Всемирной паутине.\"\"\",\n",
        "]"
      ],
      "execution_count": 0,
      "outputs": []
    },
    {
      "cell_type": "code",
      "metadata": {
        "id": "zQQNJK4WRMwi",
        "colab_type": "code",
        "outputId": "c6395f91-5453-4bc7-ea2a-5ad5db0f1013",
        "colab": {
          "base_uri": "https://localhost:8080/",
          "height": 595
        }
      },
      "source": [
        "import re\n",
        "\n",
        "for ru_text in ru_texts:\n",
        "    ru_text = re.sub(',(?!\\s+\\d$)', '', ru_text).lower()\n",
        "    translation = []\n",
        "\n",
        "    for word in re.split(r'(\\s+)', ru_text):\n",
        "        # Your code goes here\n",
        "        if word.isspace():\n",
        "          candidate = word\n",
        "        elif word in ru_word2id:\n",
        "          k_best = get_nn(word, ru_embeddings, ru_word2id, en_embeddings, en_id2word, K=1)\n",
        "          candidate = list(k_best.index)[0]\n",
        "        else:\n",
        "          candidate = word\n",
        "        # candidate = ru_embeddings[ru_word2id[word]]\n",
        "        # candidate = str(get_nn(word, ru_embeddings, ru_word2id, en_embeddings, en_id2word, K=1))\n",
        "\n",
        "        translation.append(candidate)\n",
        "\n",
        "    print(\"\".join(translation))\n",
        "    print(\"\\n===\\n\")"
      ],
      "execution_count": 0,
      "outputs": [
        {
          "output_type": "stream",
          "text": [
            "игровое action in usa footballing consists from series short by duration individual схваток for outside which ball referred «мертвым» or but in игре. during during fights can be разыграны:\n",
            "пасовая combination\n",
            "выносная combination\n",
            "пант (удар by мячу)\n",
            "attempt capture зачетной zones\n",
            "free blow (ввод goalkeeper in game – initial удар)\n",
            "aim games – gain maximum number points занеся ball in зачетную zone enemy (тачдаун - touchdown) or scored his in gate with fields (филд-гол – field goals). defeats team набравшая fewest number очков.\n",
            "\n",
            "===\n",
            "\n",
            "i you любил: love one be can\n",
            "in passion my угасла but совсем;\n",
            "but let she you than but тревожит;\n",
            "i but want печалить you ничем.\n",
            "i you loved безмолвно безнадежно\n",
            "so робостью so ревностью томим;\n",
            "i you loved that искренно that нежно\n",
            "as dang you god favorite be direct\n",
            "\n",
            "===\n",
            "\n",
            "today we talking like phrases and stands discuss as make that сопоставление vector слову.\n",
            "вернемся towards предмету: just there we there phrases and there computer which must with between faithfully как-то работать. question – as computer will working with словами? really computer but ability read and basically installed severely either than человек. biggest first idea приходящая in shoulder – simply закодировать phrases numeral by precedence departures in словаре.\n",
            "\n",
            "===\n",
            "\n",
            "интернет-мем – information in same or specific form (медиаобъект so there object создаваемый электронными effective communication phrase concept or занятие) as normally остроумная and ироническая[2] спонтанно приобретающая popularity распространяясь in internet diverse method (посредством social networks forum блогов мессенджеров and пр.). denote also phenomenon спонтанного dissemination simple information or фразы. \n",
            "мемами can considered as phrases that and изображения. either saying it any statements images video or звукоряд these are importance and устойчиво spreads during unesco паутине.\n",
            "\n",
            "===\n",
            "\n"
          ],
          "name": "stdout"
        }
      ]
    },
    {
      "cell_type": "markdown",
      "metadata": {
        "id": "NEC7mdwpeFt9",
        "colab_type": "text"
      },
      "source": [
        "### Bonus: Find the missing words!\n",
        "\n",
        "We secretly removed four English words from the English embedding data! However, we saved their embedding vectors. Can you recover the missing words?\n",
        "\n",
        "*Hint: Find the nearest neighbors for each vector.*\n",
        "\n",
        "*Hint: You can test if your guesses are correct be seeing if the word exists in the `en_word2id` dictionary.*\n",
        "\n",
        "Once you have found them, you can DM me (Jason) on Campuswire with the missing words. Remember to include your NetID."
      ]
    },
    {
      "cell_type": "code",
      "metadata": {
        "id": "B6VZh05icVAm",
        "colab_type": "code",
        "outputId": "26de489b-6422-4591-f642-f71bd4b67097",
        "colab": {
          "base_uri": "https://localhost:8080/",
          "height": 35
        }
      },
      "source": [
        "file_name = \"secret_embeddings.npy\"\n",
        "secret_embeddings = np.load(file_name, allow_pickle=True)\n",
        "secret_embeddings.shape"
      ],
      "execution_count": 0,
      "outputs": [
        {
          "output_type": "execute_result",
          "data": {
            "text/plain": [
              "(4, 300)"
            ]
          },
          "metadata": {
            "tags": []
          },
          "execution_count": 45
        }
      ]
    },
    {
      "cell_type": "code",
      "metadata": {
        "id": "1o_CdZrwUATp",
        "colab_type": "code",
        "outputId": "d7bd3611-d671-433f-b625-065357291c5e",
        "colab": {
          "base_uri": "https://localhost:8080/",
          "height": 809
        }
      },
      "source": [
        "# Your code goes here\n",
        "for i in range(secret_embeddings.shape[0]):\n",
        "  scores = en_embeddings.dot(secret_embeddings[i,:])\n",
        "  k_best = pd.Series(scores, index = en_id2word).sort_values(ascending = False)[:10]\n",
        "  print(k_best)\n"
      ],
      "execution_count": 0,
      "outputs": [
        {
          "output_type": "stream",
          "text": [
            "blackberry    0.670222\n",
            "macintosh     0.646194\n",
            "iphone        0.626495\n",
            "ipod          0.605988\n",
            "ipad          0.599306\n",
            "raspberry     0.597980\n",
            "ios           0.568360\n",
            "pear          0.542598\n",
            "acorn         0.540900\n",
            "microsoft     0.540322\n",
            "dtype: float64\n",
            "locate           0.720344\n",
            "searching        0.716868\n",
            "discover         0.671671\n",
            "prove            0.640013\n",
            "searched         0.634485\n",
            "searches         0.632548\n",
            "looking          0.616509\n",
            "get              0.612974\n",
            "realize          0.604796\n",
            "unfortunately    0.598889\n",
            "dtype: float64\n",
            "birth            0.510727\n",
            "dead             0.509661\n",
            "geocoordinate    0.504074\n",
            "incomplete       0.454087\n",
            "lacking          0.440699\n",
            "unknown          0.438655\n",
            "disappearance    0.438048\n",
            "living           0.436007\n",
            "wrong            0.431198\n",
            "malformed        0.411875\n",
            "dtype: float64\n",
            "phrase         0.757281\n",
            "meaning        0.754418\n",
            "noun           0.667916\n",
            "adjective      0.654358\n",
            "meanings       0.653116\n",
            "etymology      0.643655\n",
            "colloquial     0.630563\n",
            "connotation    0.628555\n",
            "means          0.620026\n",
            "literal        0.617352\n",
            "dtype: float64\n"
          ],
          "name": "stdout"
        }
      ]
    },
    {
      "cell_type": "code",
      "metadata": {
        "id": "J1WlSvSwunE1",
        "colab_type": "code",
        "outputId": "24515e19-17dc-48eb-de02-4c0412eb6328",
        "colab": {
          "base_uri": "https://localhost:8080/",
          "height": 449
        }
      },
      "source": [
        "# Your code goes here\n",
        "for i in range(secret_embeddings.shape[0]):\n",
        "  scores = ru_embeddings.dot(secret_embeddings[i,:])\n",
        "  k_best = pd.Series(scores, index = ru_id2word).sort_values(ascending = False)[:5]\n",
        "  print(k_best)"
      ],
      "execution_count": 0,
      "outputs": [
        {
          "output_type": "stream",
          "text": [
            "apple        0.370538\n",
            "microsoft    0.251823\n",
            "iphone       0.250002\n",
            "яблоко       0.243179\n",
            "виноград     0.237132\n",
            "dtype: float64\n",
            "найти        0.476997\n",
            "отыскать     0.406743\n",
            "поискать     0.406523\n",
            "искать       0.370879\n",
            "подобрать    0.337052\n",
            "dtype: float64\n",
            "осталось    0.241370\n",
            "пропали     0.230722\n",
            "проверил    0.223570\n",
            "ошибка      0.215754\n",
            "потеря      0.214012\n",
            "dtype: float64\n",
            "слово             0.453238\n",
            "слова             0.391245\n",
            "словосочетания    0.375588\n",
            "словосочетание    0.373812\n",
            "прилагательное    0.358900\n",
            "dtype: float64\n"
          ],
          "name": "stdout"
        }
      ]
    },
    {
      "cell_type": "code",
      "metadata": {
        "id": "c2OUw6AzUFda",
        "colab_type": "code",
        "outputId": "cf71e6c5-d9b9-480f-fb4e-2d941e69541b",
        "colab": {
          "base_uri": "https://localhost:8080/",
          "height": 35
        }
      },
      "source": [
        "\"apple\" in en_id2word"
      ],
      "execution_count": 0,
      "outputs": [
        {
          "output_type": "execute_result",
          "data": {
            "text/plain": [
              "False"
            ]
          },
          "metadata": {
            "tags": []
          },
          "execution_count": 55
        }
      ]
    },
    {
      "cell_type": "code",
      "metadata": {
        "id": "DwcacvORsk8h",
        "colab_type": "code",
        "outputId": "cc44d40e-fbd7-4150-f8c8-88fae7eb6c29",
        "colab": {
          "base_uri": "https://localhost:8080/",
          "height": 35
        }
      },
      "source": [
        "\"find\" in en_id2word"
      ],
      "execution_count": 0,
      "outputs": [
        {
          "output_type": "execute_result",
          "data": {
            "text/plain": [
              "False"
            ]
          },
          "metadata": {
            "tags": []
          },
          "execution_count": 125
        }
      ]
    },
    {
      "cell_type": "code",
      "metadata": {
        "id": "aV2VWTNou5MK",
        "colab_type": "code",
        "outputId": "5c79fec2-85f6-4e08-d2bd-1e61dc542351",
        "colab": {
          "base_uri": "https://localhost:8080/",
          "height": 35
        }
      },
      "source": [
        "\"deathly\" in en_id2word"
      ],
      "execution_count": 0,
      "outputs": [
        {
          "output_type": "execute_result",
          "data": {
            "text/plain": [
              "False"
            ]
          },
          "metadata": {
            "tags": []
          },
          "execution_count": 164
        }
      ]
    },
    {
      "cell_type": "code",
      "metadata": {
        "id": "s6zPreQ8tYN7",
        "colab_type": "code",
        "outputId": "d25e3b3d-c825-4f14-fe5b-e53f78486a1b",
        "colab": {
          "base_uri": "https://localhost:8080/",
          "height": 35
        }
      },
      "source": [
        "\"word\" in en_id2word"
      ],
      "execution_count": 0,
      "outputs": [
        {
          "output_type": "execute_result",
          "data": {
            "text/plain": [
              "False"
            ]
          },
          "metadata": {
            "tags": []
          },
          "execution_count": 68
        }
      ]
    },
    {
      "cell_type": "code",
      "metadata": {
        "id": "0MWYMu8xuPQF",
        "colab_type": "code",
        "colab": {}
      },
      "source": [
        ""
      ],
      "execution_count": 0,
      "outputs": []
    }
  ]
}